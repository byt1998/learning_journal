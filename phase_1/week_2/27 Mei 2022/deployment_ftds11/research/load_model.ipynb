{
 "cells": [
  {
   "cell_type": "code",
   "execution_count": 7,
   "metadata": {},
   "outputs": [
    {
     "name": "stdout",
     "output_type": "stream",
     "text": [
      "Collecting scikit-learn==1.0.2\n",
      "  Downloading scikit_learn-1.0.2-cp38-cp38-win_amd64.whl (7.2 MB)\n",
      "Requirement already satisfied, skipping upgrade: joblib>=0.11 in c:\\users\\enggar\\anaconda3\\lib\\site-packages (from scikit-learn==1.0.2) (1.1.0)\n",
      "Requirement already satisfied, skipping upgrade: numpy>=1.14.6 in c:\\users\\enggar\\anaconda3\\lib\\site-packages (from scikit-learn==1.0.2) (1.19.2)\n",
      "Requirement already satisfied, skipping upgrade: scipy>=1.1.0 in c:\\users\\enggar\\anaconda3\\lib\\site-packages (from scikit-learn==1.0.2) (1.5.2)\n",
      "Requirement already satisfied, skipping upgrade: threadpoolctl>=2.0.0 in c:\\users\\enggar\\anaconda3\\lib\\site-packages (from scikit-learn==1.0.2) (2.1.0)\n",
      "Installing collected packages: scikit-learn\n",
      "  Attempting uninstall: scikit-learn\n",
      "    Found existing installation: scikit-learn 1.1.1\n",
      "    Uninstalling scikit-learn-1.1.1:\n",
      "      Successfully uninstalled scikit-learn-1.1.1\n"
     ]
    },
    {
     "name": "stderr",
     "output_type": "stream",
     "text": [
      "ERROR: Could not install packages due to an EnvironmentError: [WinError 5] Access is denied: 'C:\\\\Users\\\\Enggar\\\\anaconda3\\\\Lib\\\\site-packages\\\\~-learn\\\\.libs\\\\vcomp140.dll'\n",
      "Consider using the `--user` option or check the permissions.\n",
      "\n"
     ]
    }
   ],
   "source": [
    "! pip install -U scikit-learn==1.0.2"
   ]
  },
  {
   "cell_type": "code",
   "execution_count": 1,
   "metadata": {},
   "outputs": [],
   "source": [
    "import pickle\n",
    "\n",
    "with open (\"pipeline_iris.pkl\",\"rb\") as f:\n",
    "    model_iris = pickle.load(f)"
   ]
  },
  {
   "cell_type": "code",
   "execution_count": 2,
   "metadata": {},
   "outputs": [
    {
     "data": {
      "text/plain": [
       "array([1], dtype=int64)"
      ]
     },
     "execution_count": 2,
     "metadata": {},
     "output_type": "execute_result"
    }
   ],
   "source": [
    "new_data = [1.3, 0.3, 2.5, 1.2]\n",
    "res = model_iris.predict([new_data])\n",
    "res"
   ]
  },
  {
   "cell_type": "code",
   "execution_count": 3,
   "metadata": {},
   "outputs": [],
   "source": [
    "import pickle\n",
    "\n",
    "with open (\"final_pipe.pkl\",\"rb\") as f:\n",
    "    model_titanic = pickle.load(f)"
   ]
  },
  {
   "cell_type": "code",
   "execution_count": 5,
   "metadata": {},
   "outputs": [
    {
     "data": {
      "text/plain": [
       "array([0], dtype=int64)"
      ]
     },
     "execution_count": 5,
     "metadata": {},
     "output_type": "execute_result"
    }
   ],
   "source": [
    "import pandas as pd\n",
    "\n",
    "datacol = ['Pclass', 'Sex', 'Age', 'SibSp','Parch', 'Fare']\n",
    "new_data = [3, 'male', 21.0, 0, 0, 16.1000]\n",
    "\n",
    "new_data = pd.DataFrame([new_data], columns=datacol)\n",
    "res = model_titanic.predict(new_data)\n",
    "res"
   ]
  },
  {
   "cell_type": "code",
   "execution_count": 1,
   "metadata": {},
   "outputs": [],
   "source": [
    "    new_data = {'passenger_class': 1,\n",
    "                'gender': 'male',\n",
    "                'age': 24,\n",
    "                'siblings_spouse': 0,\n",
    "                'parent_childern': 0,\n",
    "                'fare': 350}"
   ]
  },
  {
   "cell_type": "code",
   "execution_count": 12,
   "metadata": {},
   "outputs": [
    {
     "name": "stdout",
     "output_type": "stream",
     "text": [
      "INFO GEMPA TERBARU\n",
      "Waktu & Tanggal\t : 09:36:06 WIB, 27 Mei 2022\n",
      "Wilayah\t : Pusat gempa berada di laut 85 km BaratDaya Maluku Barat Daya\n",
      "Kekuatan\t : 6.5 SR\n",
      "===\n",
      "Waktu & Tanggal\t : 07:38:50 WIB, 27 Mei 2022\n",
      "Wilayah\t : Pusat gempa berada di laut 81 km BaratDaya Pangandaran\n",
      "Kekuatan\t : 4.0 SR\n",
      "===\n",
      "Waktu & Tanggal\t : 23:55:12 WIB, 26 Mei 2022\n",
      "Wilayah\t : Pusat gempa berada di darat 8 km Timur Palu\n",
      "Kekuatan\t : 3.0 SR\n",
      "===\n",
      "Waktu & Tanggal\t : 20:53:21 WIB, 26 Mei 2022\n",
      "Wilayah\t : Pusat gempa berada di darat 29 km barat daya Kab. Pidie Jaya\n",
      "Kekuatan\t : 3.7 SR\n",
      "===\n",
      "Waktu & Tanggal\t : 03:24:45 WIB, 26 Mei 2022\n",
      "Wilayah\t : Pusat gempa berada di laut 14 km BaratDaya Kota Sabang\n",
      "Kekuatan\t : 3.1 SR\n",
      "===\n",
      "Waktu & Tanggal\t : 22:05:06 WIB, 25 Mei 2022\n",
      "Wilayah\t : Pusat gempa berada di laut 819 km BaratDaya Nias Selatan\n",
      "Kekuatan\t : 6.2 SR\n",
      "===\n",
      "Waktu & Tanggal\t : 21:15:51 WIB, 25 Mei 2022\n",
      "Wilayah\t : Pusat gempa berada di laut 6 km barat daya Kairatu-Seram Bagian Barat\n",
      "Kekuatan\t : 2.5 SR\n",
      "===\n",
      "Waktu & Tanggal\t : 20:20:49 WIB, 25 Mei 2022\n",
      "Wilayah\t : Pusat gempa berada di darat 17 km timur laut Dompu\n",
      "Kekuatan\t : 3.6 SR\n",
      "===\n",
      "Waktu & Tanggal\t : 04:18:56 WIB, 25 Mei 2022\n",
      "Wilayah\t : Pusat gempa berada di laut 94 km barat daya Lombok Barat\n",
      "Kekuatan\t : 4.4 SR\n",
      "===\n",
      "Waktu & Tanggal\t : 04:18:18 WIB, 25 Mei 2022\n",
      "Wilayah\t : Pusat gempa berada di laut 67 km barat daya Pesisir Barat\n",
      "Kekuatan\t : 5.1 SR\n",
      "===\n",
      "Waktu & Tanggal\t : 19:32:02 WIB, 23 Mei 2022\n",
      "Wilayah\t : Pusat gempa berada di laut 25 km baratdaya Bengkulu Selatan\n",
      "Kekuatan\t : 4.9 SR\n",
      "===\n",
      "Waktu & Tanggal\t : 00:38:14 WIB, 23 Mei 2022\n",
      "Wilayah\t : Pusat gempa berada di laut 55 km Baratdaya Lubukbasung\n",
      "Kekuatan\t : 4.7 SR\n",
      "===\n",
      "Waktu & Tanggal\t : 15:29:16 WIB, 21 Mei 2022\n",
      "Wilayah\t : Pusat gempa berada di laut 23 km Barat Daya Bengkulu Selatan\n",
      "Kekuatan\t : 4.8 SR\n",
      "===\n",
      "Waktu & Tanggal\t : 22:29:16 WIB, 19 Mei 2022\n",
      "Wilayah\t : Pusat gempa berada di laut 141 km baratLaut Halmahera barat\n",
      "Kekuatan\t : 5.5 SR\n",
      "===\n",
      "Waktu & Tanggal\t : 04:12:08 WIB, 19 Mei 2022\n",
      "Wilayah\t : Pusat gempa berada di darat 7 km Utara Ambon\n",
      "Kekuatan\t : 2.9 SR\n",
      "===\n"
     ]
    }
   ],
   "source": [
    "import requests\n",
    "\n",
    "URL = \"https://data.bmkg.go.id/DataMKG/TEWS/gempadirasakan.json\"\n",
    "r = requests.get(URL)\n",
    "data = r.json()\n",
    "\n",
    "# Parsing data\n",
    "print(\"INFO GEMPA TERBARU\")\n",
    "for item in data['Infogempa']['gempa']:\n",
    "    print(f\"Waktu & Tanggal\\t : {item['Jam']}, {item['Tanggal']}\")\n",
    "    print(f\"Wilayah\\t : {item['Wilayah']}\")\n",
    "    print(f\"Kekuatan\\t : {item['Magnitude']} SR\")\n",
    "    print(\"===\")\n",
    "\n"
   ]
  },
  {
   "cell_type": "code",
   "execution_count": null,
   "metadata": {},
   "outputs": [],
   "source": [
    "URL = \"http://127.0.0.1:5000/ganti\"\n",
    "data = {'nama': 'Wisnu'}\n",
    "r = requests.post(URL, json=data)\n",
    "data = r.json()\n",
    "data"
   ]
  },
  {
   "cell_type": "code",
   "execution_count": 11,
   "metadata": {},
   "outputs": [
    {
     "data": {
      "text/plain": [
       "{'message': \"Cannot use median strategy with non-numeric data:\\ncould not convert string to float: 'female'\",\n",
       " 'success': False}"
      ]
     },
     "execution_count": 11,
     "metadata": {},
     "output_type": "execute_result"
    }
   ],
   "source": [
    "import requests\n",
    "URL = \"http://127.0.0.1:5000/predict\"\n",
    "data = {'passenger_class': 1,\n",
    "        'gender': 350,\n",
    "        'age': 35,\n",
    "        'siblings_spouse': 0,\n",
    "        'parent_childern': 0,\n",
    "        'fare': 'female'}\n",
    "r = requests.post(URL, json=data)\n",
    "data = r.json()\n",
    "data"
   ]
  },
  {
   "cell_type": "code",
   "execution_count": null,
   "metadata": {},
   "outputs": [],
   "source": []
  }
 ],
 "metadata": {
  "interpreter": {
   "hash": "3313081f939a1cd2fc9e524e93ad175a39774b1d821a5d0f007e3e4c61533bad"
  },
  "kernelspec": {
   "display_name": "Python 3.8.5 ('base')",
   "language": "python",
   "name": "python3"
  },
  "language_info": {
   "codemirror_mode": {
    "name": "ipython",
    "version": 3
   },
   "file_extension": ".py",
   "mimetype": "text/x-python",
   "name": "python",
   "nbconvert_exporter": "python",
   "pygments_lexer": "ipython3",
   "version": "3.8.5"
  },
  "orig_nbformat": 4
 },
 "nbformat": 4,
 "nbformat_minor": 2
}
