{
 "cells": [
  {
   "cell_type": "markdown",
   "metadata": {},
   "source": [
    "# **GRADED CHALLENGE 3**"
   ]
  },
  {
   "cell_type": "markdown",
   "metadata": {},
   "source": [
    "## **BAB I**\n",
    "\n",
    "### **NAMA    : ENGGAR KRISTIAN**\n",
    "### **BATCH   : 011**"
   ]
  },
  {
   "cell_type": "markdown",
   "metadata": {},
   "source": [
    "## **BAB II**"
   ]
  },
  {
   "cell_type": "code",
   "execution_count": 89,
   "metadata": {},
   "outputs": [],
   "source": [
    "import numpy as np \n",
    "import pandas as pd\n",
    "import scipy as sc\n",
    "import matplotlib.pyplot as plt\n",
    "import seaborn as sns"
   ]
  },
  {
   "cell_type": "code",
   "execution_count": 3,
   "metadata": {},
   "outputs": [
    {
     "data": {
      "text/html": [
       "<div>\n",
       "<style scoped>\n",
       "    .dataframe tbody tr th:only-of-type {\n",
       "        vertical-align: middle;\n",
       "    }\n",
       "\n",
       "    .dataframe tbody tr th {\n",
       "        vertical-align: top;\n",
       "    }\n",
       "\n",
       "    .dataframe thead th {\n",
       "        text-align: right;\n",
       "    }\n",
       "</style>\n",
       "<table border=\"1\" class=\"dataframe\">\n",
       "  <thead>\n",
       "    <tr style=\"text-align: right;\">\n",
       "      <th></th>\n",
       "      <th>ID</th>\n",
       "      <th>name</th>\n",
       "      <th>category</th>\n",
       "      <th>main_category</th>\n",
       "      <th>currency</th>\n",
       "      <th>deadline</th>\n",
       "      <th>goal</th>\n",
       "      <th>launched</th>\n",
       "      <th>pledged</th>\n",
       "      <th>state</th>\n",
       "      <th>backers</th>\n",
       "      <th>country</th>\n",
       "      <th>usd pledged</th>\n",
       "      <th>usd_pledged_real</th>\n",
       "      <th>usd_goal_real</th>\n",
       "    </tr>\n",
       "  </thead>\n",
       "  <tbody>\n",
       "    <tr>\n",
       "      <th>0</th>\n",
       "      <td>1000002330</td>\n",
       "      <td>The Songs of Adelaide &amp; Abullah</td>\n",
       "      <td>Poetry</td>\n",
       "      <td>Publishing</td>\n",
       "      <td>GBP</td>\n",
       "      <td>2015-10-09</td>\n",
       "      <td>1000.0</td>\n",
       "      <td>2015-08-11 12:12:28</td>\n",
       "      <td>0.0</td>\n",
       "      <td>failed</td>\n",
       "      <td>0</td>\n",
       "      <td>GB</td>\n",
       "      <td>0.0</td>\n",
       "      <td>0.0</td>\n",
       "      <td>1533.95</td>\n",
       "    </tr>\n",
       "    <tr>\n",
       "      <th>1</th>\n",
       "      <td>1000003930</td>\n",
       "      <td>Greeting From Earth: ZGAC Arts Capsule For ET</td>\n",
       "      <td>Narrative Film</td>\n",
       "      <td>Film &amp; Video</td>\n",
       "      <td>USD</td>\n",
       "      <td>2017-11-01</td>\n",
       "      <td>30000.0</td>\n",
       "      <td>2017-09-02 04:43:57</td>\n",
       "      <td>2421.0</td>\n",
       "      <td>failed</td>\n",
       "      <td>15</td>\n",
       "      <td>US</td>\n",
       "      <td>100.0</td>\n",
       "      <td>2421.0</td>\n",
       "      <td>30000.00</td>\n",
       "    </tr>\n",
       "    <tr>\n",
       "      <th>2</th>\n",
       "      <td>1000004038</td>\n",
       "      <td>Where is Hank?</td>\n",
       "      <td>Narrative Film</td>\n",
       "      <td>Film &amp; Video</td>\n",
       "      <td>USD</td>\n",
       "      <td>2013-02-26</td>\n",
       "      <td>45000.0</td>\n",
       "      <td>2013-01-12 00:20:50</td>\n",
       "      <td>220.0</td>\n",
       "      <td>failed</td>\n",
       "      <td>3</td>\n",
       "      <td>US</td>\n",
       "      <td>220.0</td>\n",
       "      <td>220.0</td>\n",
       "      <td>45000.00</td>\n",
       "    </tr>\n",
       "    <tr>\n",
       "      <th>3</th>\n",
       "      <td>1000007540</td>\n",
       "      <td>ToshiCapital Rekordz Needs Help to Complete Album</td>\n",
       "      <td>Music</td>\n",
       "      <td>Music</td>\n",
       "      <td>USD</td>\n",
       "      <td>2012-04-16</td>\n",
       "      <td>5000.0</td>\n",
       "      <td>2012-03-17 03:24:11</td>\n",
       "      <td>1.0</td>\n",
       "      <td>failed</td>\n",
       "      <td>1</td>\n",
       "      <td>US</td>\n",
       "      <td>1.0</td>\n",
       "      <td>1.0</td>\n",
       "      <td>5000.00</td>\n",
       "    </tr>\n",
       "    <tr>\n",
       "      <th>4</th>\n",
       "      <td>1000011046</td>\n",
       "      <td>Community Film Project: The Art of Neighborhoo...</td>\n",
       "      <td>Film &amp; Video</td>\n",
       "      <td>Film &amp; Video</td>\n",
       "      <td>USD</td>\n",
       "      <td>2015-08-29</td>\n",
       "      <td>19500.0</td>\n",
       "      <td>2015-07-04 08:35:03</td>\n",
       "      <td>1283.0</td>\n",
       "      <td>canceled</td>\n",
       "      <td>14</td>\n",
       "      <td>US</td>\n",
       "      <td>1283.0</td>\n",
       "      <td>1283.0</td>\n",
       "      <td>19500.00</td>\n",
       "    </tr>\n",
       "  </tbody>\n",
       "</table>\n",
       "</div>"
      ],
      "text/plain": [
       "           ID                                               name  \\\n",
       "0  1000002330                    The Songs of Adelaide & Abullah   \n",
       "1  1000003930      Greeting From Earth: ZGAC Arts Capsule For ET   \n",
       "2  1000004038                                     Where is Hank?   \n",
       "3  1000007540  ToshiCapital Rekordz Needs Help to Complete Album   \n",
       "4  1000011046  Community Film Project: The Art of Neighborhoo...   \n",
       "\n",
       "         category main_category currency    deadline     goal  \\\n",
       "0          Poetry    Publishing      GBP  2015-10-09   1000.0   \n",
       "1  Narrative Film  Film & Video      USD  2017-11-01  30000.0   \n",
       "2  Narrative Film  Film & Video      USD  2013-02-26  45000.0   \n",
       "3           Music         Music      USD  2012-04-16   5000.0   \n",
       "4    Film & Video  Film & Video      USD  2015-08-29  19500.0   \n",
       "\n",
       "              launched  pledged     state  backers country  usd pledged  \\\n",
       "0  2015-08-11 12:12:28      0.0    failed        0      GB          0.0   \n",
       "1  2017-09-02 04:43:57   2421.0    failed       15      US        100.0   \n",
       "2  2013-01-12 00:20:50    220.0    failed        3      US        220.0   \n",
       "3  2012-03-17 03:24:11      1.0    failed        1      US          1.0   \n",
       "4  2015-07-04 08:35:03   1283.0  canceled       14      US       1283.0   \n",
       "\n",
       "   usd_pledged_real  usd_goal_real  \n",
       "0               0.0        1533.95  \n",
       "1            2421.0       30000.00  \n",
       "2             220.0       45000.00  \n",
       "3               1.0        5000.00  \n",
       "4            1283.0       19500.00  "
      ]
     },
     "execution_count": 3,
     "metadata": {},
     "output_type": "execute_result"
    }
   ],
   "source": [
    "df = pd.read_csv('ks-projects-201801.csv')\n",
    "df.head()\n"
   ]
  },
  {
   "cell_type": "code",
   "execution_count": 4,
   "metadata": {},
   "outputs": [
    {
     "name": "stdout",
     "output_type": "stream",
     "text": [
      "<class 'pandas.core.frame.DataFrame'>\n",
      "RangeIndex: 378661 entries, 0 to 378660\n",
      "Data columns (total 15 columns):\n",
      " #   Column            Non-Null Count   Dtype  \n",
      "---  ------            --------------   -----  \n",
      " 0   ID                378661 non-null  int64  \n",
      " 1   name              378657 non-null  object \n",
      " 2   category          378661 non-null  object \n",
      " 3   main_category     378661 non-null  object \n",
      " 4   currency          378661 non-null  object \n",
      " 5   deadline          378661 non-null  object \n",
      " 6   goal              378661 non-null  float64\n",
      " 7   launched          378661 non-null  object \n",
      " 8   pledged           378661 non-null  float64\n",
      " 9   state             378661 non-null  object \n",
      " 10  backers           378661 non-null  int64  \n",
      " 11  country           378661 non-null  object \n",
      " 12  usd pledged       374864 non-null  float64\n",
      " 13  usd_pledged_real  378661 non-null  float64\n",
      " 14  usd_goal_real     378661 non-null  float64\n",
      "dtypes: float64(5), int64(2), object(8)\n",
      "memory usage: 43.3+ MB\n"
     ]
    }
   ],
   "source": [
    "df.info()"
   ]
  },
  {
   "cell_type": "code",
   "execution_count": 5,
   "metadata": {},
   "outputs": [
    {
     "data": {
      "text/plain": [
       "ID                     0\n",
       "name                   4\n",
       "category               0\n",
       "main_category          0\n",
       "currency               0\n",
       "deadline               0\n",
       "goal                   0\n",
       "launched               0\n",
       "pledged                0\n",
       "state                  0\n",
       "backers                0\n",
       "country                0\n",
       "usd pledged         3797\n",
       "usd_pledged_real       0\n",
       "usd_goal_real          0\n",
       "dtype: int64"
      ]
     },
     "execution_count": 5,
     "metadata": {},
     "output_type": "execute_result"
    }
   ],
   "source": [
    "df.isnull().sum()"
   ]
  },
  {
   "cell_type": "code",
   "execution_count": 6,
   "metadata": {},
   "outputs": [],
   "source": [
    "# mengisi missing value pada kolom \"usd pleged\" menjadi 0 dengan tipe float\n",
    "df[\"usd pledged\"].fillna(\n",
    "    value=0,\n",
    "    inplace=True\n",
    ")\n",
    "\n",
    "# mengisi missing value pada kolom \"name\" menjadi nonema dengan tipe object\n",
    "df[\"name\"].fillna(\n",
    "    value=\"noname\",\n",
    "    inplace=True\n",
    ")"
   ]
  },
  {
   "cell_type": "code",
   "execution_count": 7,
   "metadata": {},
   "outputs": [
    {
     "name": "stdout",
     "output_type": "stream",
     "text": [
      "<class 'pandas.core.frame.DataFrame'>\n",
      "RangeIndex: 378661 entries, 0 to 378660\n",
      "Data columns (total 15 columns):\n",
      " #   Column            Non-Null Count   Dtype         \n",
      "---  ------            --------------   -----         \n",
      " 0   ID                378661 non-null  int64         \n",
      " 1   name              378661 non-null  object        \n",
      " 2   category          378661 non-null  object        \n",
      " 3   main_category     378661 non-null  object        \n",
      " 4   currency          378661 non-null  object        \n",
      " 5   deadline          378661 non-null  datetime64[ns]\n",
      " 6   goal              378661 non-null  float64       \n",
      " 7   launched          378661 non-null  datetime64[ns]\n",
      " 8   pledged           378661 non-null  float64       \n",
      " 9   state             378661 non-null  object        \n",
      " 10  backers           378661 non-null  int64         \n",
      " 11  country           378661 non-null  object        \n",
      " 12  usd pledged       378661 non-null  float64       \n",
      " 13  usd_pledged_real  378661 non-null  float64       \n",
      " 14  usd_goal_real     378661 non-null  float64       \n",
      "dtypes: datetime64[ns](2), float64(5), int64(2), object(6)\n",
      "memory usage: 43.3+ MB\n"
     ]
    }
   ],
   "source": [
    "# mengubah kolom \"deadline\" dan kolom \"launched\" berjenis date_time\n",
    "df[\"deadline\"]= pd.to_datetime(df[\"deadline\"])\n",
    "df[\"launched\"]= pd.to_datetime(df[\"launched\"])\n",
    "df.info(\"deadline, launched\")"
   ]
  },
  {
   "cell_type": "code",
   "execution_count": 8,
   "metadata": {},
   "outputs": [
    {
     "data": {
      "text/plain": [
       "array(['Publishing', 'Film & Video', 'Music', 'Food', 'Design', 'Crafts',\n",
       "       'Games', 'Comics', 'Fashion', 'Theater', 'Art', 'Photography',\n",
       "       'Technology', 'Dance', 'Journalism'], dtype=object)"
      ]
     },
     "execution_count": 8,
     "metadata": {},
     "output_type": "execute_result"
    }
   ],
   "source": [
    "df['main_category'].unique()"
   ]
  },
  {
   "cell_type": "code",
   "execution_count": 9,
   "metadata": {},
   "outputs": [
    {
     "name": "stderr",
     "output_type": "stream",
     "text": [
      "<ipython-input-9-a62614c9f52b>:3: FutureWarning: DataFrame.mean and DataFrame.median with numeric_only=None will include datetime64 and datetime64tz columns in a future version.\n",
      "  data_median = df.median().rename('median')\n"
     ]
    },
    {
     "data": {
      "text/html": [
       "<div>\n",
       "<style scoped>\n",
       "    .dataframe tbody tr th:only-of-type {\n",
       "        vertical-align: middle;\n",
       "    }\n",
       "\n",
       "    .dataframe tbody tr th {\n",
       "        vertical-align: top;\n",
       "    }\n",
       "\n",
       "    .dataframe thead th {\n",
       "        text-align: right;\n",
       "    }\n",
       "</style>\n",
       "<table border=\"1\" class=\"dataframe\">\n",
       "  <thead>\n",
       "    <tr style=\"text-align: right;\">\n",
       "      <th></th>\n",
       "      <th>median</th>\n",
       "      <th>mode</th>\n",
       "    </tr>\n",
       "  </thead>\n",
       "  <tbody>\n",
       "    <tr>\n",
       "      <th>ID</th>\n",
       "      <td>1.075276e+09</td>\n",
       "      <td>5971</td>\n",
       "    </tr>\n",
       "    <tr>\n",
       "      <th>goal</th>\n",
       "      <td>5.200000e+03</td>\n",
       "      <td>5000</td>\n",
       "    </tr>\n",
       "    <tr>\n",
       "      <th>pledged</th>\n",
       "      <td>6.200000e+02</td>\n",
       "      <td>0</td>\n",
       "    </tr>\n",
       "    <tr>\n",
       "      <th>backers</th>\n",
       "      <td>1.200000e+01</td>\n",
       "      <td>0</td>\n",
       "    </tr>\n",
       "    <tr>\n",
       "      <th>usd pledged</th>\n",
       "      <td>3.750000e+02</td>\n",
       "      <td>0</td>\n",
       "    </tr>\n",
       "    <tr>\n",
       "      <th>usd_pledged_real</th>\n",
       "      <td>6.243300e+02</td>\n",
       "      <td>0</td>\n",
       "    </tr>\n",
       "    <tr>\n",
       "      <th>usd_goal_real</th>\n",
       "      <td>5.500000e+03</td>\n",
       "      <td>5000</td>\n",
       "    </tr>\n",
       "    <tr>\n",
       "      <th>name</th>\n",
       "      <td>NaN</td>\n",
       "      <td>New EP/Music Development</td>\n",
       "    </tr>\n",
       "    <tr>\n",
       "      <th>category</th>\n",
       "      <td>NaN</td>\n",
       "      <td>Product Design</td>\n",
       "    </tr>\n",
       "    <tr>\n",
       "      <th>main_category</th>\n",
       "      <td>NaN</td>\n",
       "      <td>Film &amp; Video</td>\n",
       "    </tr>\n",
       "    <tr>\n",
       "      <th>currency</th>\n",
       "      <td>NaN</td>\n",
       "      <td>USD</td>\n",
       "    </tr>\n",
       "    <tr>\n",
       "      <th>deadline</th>\n",
       "      <td>NaN</td>\n",
       "      <td>2014-08-08 00:00:00</td>\n",
       "    </tr>\n",
       "    <tr>\n",
       "      <th>launched</th>\n",
       "      <td>NaN</td>\n",
       "      <td>1970-01-01 01:00:00</td>\n",
       "    </tr>\n",
       "    <tr>\n",
       "      <th>state</th>\n",
       "      <td>NaN</td>\n",
       "      <td>failed</td>\n",
       "    </tr>\n",
       "    <tr>\n",
       "      <th>country</th>\n",
       "      <td>NaN</td>\n",
       "      <td>US</td>\n",
       "    </tr>\n",
       "  </tbody>\n",
       "</table>\n",
       "</div>"
      ],
      "text/plain": [
       "                        median                      mode\n",
       "ID                1.075276e+09                      5971\n",
       "goal              5.200000e+03                      5000\n",
       "pledged           6.200000e+02                         0\n",
       "backers           1.200000e+01                         0\n",
       "usd pledged       3.750000e+02                         0\n",
       "usd_pledged_real  6.243300e+02                         0\n",
       "usd_goal_real     5.500000e+03                      5000\n",
       "name                       NaN  New EP/Music Development\n",
       "category                   NaN            Product Design\n",
       "main_category              NaN              Film & Video\n",
       "currency                   NaN                       USD\n",
       "deadline                   NaN       2014-08-08 00:00:00\n",
       "launched                   NaN       1970-01-01 01:00:00\n",
       "state                      NaN                    failed\n",
       "country                    NaN                        US"
      ]
     },
     "execution_count": 9,
     "metadata": {},
     "output_type": "execute_result"
    }
   ],
   "source": [
    "# Mendapatkan Median, and Mode\n",
    "\n",
    "data_median = df.median().rename('median')\n",
    "data_mode = df.mode().iloc[0].rename('mode')\n",
    "\n",
    "central_tendency = pd.concat([data_median, data_mode], axis=1)\n",
    "central_tendency"
   ]
  },
  {
   "cell_type": "code",
   "execution_count": 10,
   "metadata": {},
   "outputs": [
    {
     "data": {
      "text/html": [
       "<div>\n",
       "<style scoped>\n",
       "    .dataframe tbody tr th:only-of-type {\n",
       "        vertical-align: middle;\n",
       "    }\n",
       "\n",
       "    .dataframe tbody tr th {\n",
       "        vertical-align: top;\n",
       "    }\n",
       "\n",
       "    .dataframe thead th {\n",
       "        text-align: right;\n",
       "    }\n",
       "</style>\n",
       "<table border=\"1\" class=\"dataframe\">\n",
       "  <thead>\n",
       "    <tr style=\"text-align: right;\">\n",
       "      <th></th>\n",
       "      <th>goal</th>\n",
       "      <th>pledged</th>\n",
       "      <th>backers</th>\n",
       "      <th>usd pledged</th>\n",
       "      <th>usd_pledged_real</th>\n",
       "      <th>usd_goal_real</th>\n",
       "    </tr>\n",
       "    <tr>\n",
       "      <th>main_category</th>\n",
       "      <th></th>\n",
       "      <th></th>\n",
       "      <th></th>\n",
       "      <th></th>\n",
       "      <th></th>\n",
       "      <th></th>\n",
       "    </tr>\n",
       "  </thead>\n",
       "  <tbody>\n",
       "    <tr>\n",
       "      <th>Art</th>\n",
       "      <td>40829.180144</td>\n",
       "      <td>3606.970044</td>\n",
       "      <td>42.205094</td>\n",
       "      <td>2534.057110</td>\n",
       "      <td>3220.986968</td>\n",
       "      <td>39198.575879</td>\n",
       "    </tr>\n",
       "    <tr>\n",
       "      <th>Comics</th>\n",
       "      <td>20243.646297</td>\n",
       "      <td>6899.311189</td>\n",
       "      <td>134.771236</td>\n",
       "      <td>5344.016859</td>\n",
       "      <td>6610.443828</td>\n",
       "      <td>19571.430669</td>\n",
       "    </tr>\n",
       "    <tr>\n",
       "      <th>Crafts</th>\n",
       "      <td>11592.285901</td>\n",
       "      <td>2016.153947</td>\n",
       "      <td>27.283687</td>\n",
       "      <td>1179.190619</td>\n",
       "      <td>1632.907282</td>\n",
       "      <td>10434.466228</td>\n",
       "    </tr>\n",
       "    <tr>\n",
       "      <th>Dance</th>\n",
       "      <td>10321.331290</td>\n",
       "      <td>3690.798684</td>\n",
       "      <td>42.801221</td>\n",
       "      <td>2962.203792</td>\n",
       "      <td>3452.946356</td>\n",
       "      <td>9588.328548</td>\n",
       "    </tr>\n",
       "    <tr>\n",
       "      <th>Design</th>\n",
       "      <td>46733.630260</td>\n",
       "      <td>27119.751279</td>\n",
       "      <td>241.299634</td>\n",
       "      <td>17031.327236</td>\n",
       "      <td>24417.034698</td>\n",
       "      <td>41871.388591</td>\n",
       "    </tr>\n",
       "    <tr>\n",
       "      <th>Fashion</th>\n",
       "      <td>24818.246005</td>\n",
       "      <td>6549.031814</td>\n",
       "      <td>61.447800</td>\n",
       "      <td>4278.980929</td>\n",
       "      <td>5712.450839</td>\n",
       "      <td>22412.409361</td>\n",
       "    </tr>\n",
       "    <tr>\n",
       "      <th>Film &amp; Video</th>\n",
       "      <td>84334.009667</td>\n",
       "      <td>6362.733853</td>\n",
       "      <td>66.015208</td>\n",
       "      <td>5455.312274</td>\n",
       "      <td>6157.978427</td>\n",
       "      <td>82625.292254</td>\n",
       "    </tr>\n",
       "    <tr>\n",
       "      <th>Food</th>\n",
       "      <td>48693.745411</td>\n",
       "      <td>5340.163268</td>\n",
       "      <td>54.172466</td>\n",
       "      <td>4209.420888</td>\n",
       "      <td>5113.669716</td>\n",
       "      <td>49039.620804</td>\n",
       "    </tr>\n",
       "    <tr>\n",
       "      <th>Games</th>\n",
       "      <td>50711.298323</td>\n",
       "      <td>21865.173174</td>\n",
       "      <td>321.785615</td>\n",
       "      <td>16303.880699</td>\n",
       "      <td>21041.903140</td>\n",
       "      <td>44923.741408</td>\n",
       "    </tr>\n",
       "    <tr>\n",
       "      <th>Journalism</th>\n",
       "      <td>88783.576925</td>\n",
       "      <td>3218.085216</td>\n",
       "      <td>38.294637</td>\n",
       "      <td>2156.091907</td>\n",
       "      <td>2615.702568</td>\n",
       "      <td>86003.395014</td>\n",
       "    </tr>\n",
       "    <tr>\n",
       "      <th>Music</th>\n",
       "      <td>16056.357380</td>\n",
       "      <td>3992.735602</td>\n",
       "      <td>52.168323</td>\n",
       "      <td>3202.469108</td>\n",
       "      <td>3858.367608</td>\n",
       "      <td>15372.161844</td>\n",
       "    </tr>\n",
       "    <tr>\n",
       "      <th>Photography</th>\n",
       "      <td>13003.234577</td>\n",
       "      <td>3664.646577</td>\n",
       "      <td>39.714074</td>\n",
       "      <td>2799.120512</td>\n",
       "      <td>3571.909322</td>\n",
       "      <td>12266.843699</td>\n",
       "    </tr>\n",
       "    <tr>\n",
       "      <th>Publishing</th>\n",
       "      <td>29131.464537</td>\n",
       "      <td>3638.716374</td>\n",
       "      <td>55.966018</td>\n",
       "      <td>2601.040380</td>\n",
       "      <td>3349.951931</td>\n",
       "      <td>24798.240254</td>\n",
       "    </tr>\n",
       "    <tr>\n",
       "      <th>Technology</th>\n",
       "      <td>119712.316780</td>\n",
       "      <td>22586.164814</td>\n",
       "      <td>164.466609</td>\n",
       "      <td>15453.984751</td>\n",
       "      <td>21151.171165</td>\n",
       "      <td>102288.542839</td>\n",
       "    </tr>\n",
       "    <tr>\n",
       "      <th>Theater</th>\n",
       "      <td>27542.345424</td>\n",
       "      <td>4097.224679</td>\n",
       "      <td>47.057271</td>\n",
       "      <td>3554.029388</td>\n",
       "      <td>4005.918099</td>\n",
       "      <td>27088.321275</td>\n",
       "    </tr>\n",
       "  </tbody>\n",
       "</table>\n",
       "</div>"
      ],
      "text/plain": [
       "                        goal       pledged     backers   usd pledged  \\\n",
       "main_category                                                          \n",
       "Art             40829.180144   3606.970044   42.205094   2534.057110   \n",
       "Comics          20243.646297   6899.311189  134.771236   5344.016859   \n",
       "Crafts          11592.285901   2016.153947   27.283687   1179.190619   \n",
       "Dance           10321.331290   3690.798684   42.801221   2962.203792   \n",
       "Design          46733.630260  27119.751279  241.299634  17031.327236   \n",
       "Fashion         24818.246005   6549.031814   61.447800   4278.980929   \n",
       "Film & Video    84334.009667   6362.733853   66.015208   5455.312274   \n",
       "Food            48693.745411   5340.163268   54.172466   4209.420888   \n",
       "Games           50711.298323  21865.173174  321.785615  16303.880699   \n",
       "Journalism      88783.576925   3218.085216   38.294637   2156.091907   \n",
       "Music           16056.357380   3992.735602   52.168323   3202.469108   \n",
       "Photography     13003.234577   3664.646577   39.714074   2799.120512   \n",
       "Publishing      29131.464537   3638.716374   55.966018   2601.040380   \n",
       "Technology     119712.316780  22586.164814  164.466609  15453.984751   \n",
       "Theater         27542.345424   4097.224679   47.057271   3554.029388   \n",
       "\n",
       "               usd_pledged_real  usd_goal_real  \n",
       "main_category                                   \n",
       "Art                 3220.986968   39198.575879  \n",
       "Comics              6610.443828   19571.430669  \n",
       "Crafts              1632.907282   10434.466228  \n",
       "Dance               3452.946356    9588.328548  \n",
       "Design             24417.034698   41871.388591  \n",
       "Fashion             5712.450839   22412.409361  \n",
       "Film & Video        6157.978427   82625.292254  \n",
       "Food                5113.669716   49039.620804  \n",
       "Games              21041.903140   44923.741408  \n",
       "Journalism          2615.702568   86003.395014  \n",
       "Music               3858.367608   15372.161844  \n",
       "Photography         3571.909322   12266.843699  \n",
       "Publishing          3349.951931   24798.240254  \n",
       "Technology         21151.171165  102288.542839  \n",
       "Theater             4005.918099   27088.321275  "
      ]
     },
     "execution_count": 10,
     "metadata": {},
     "output_type": "execute_result"
    }
   ],
   "source": [
    "# Mendapatkan mean\n",
    "data_mean = df.groupby(by=['main_category'])[['goal','pledged','backers','usd pledged','usd_pledged_real','usd_goal_real']].mean()\n",
    "data_mean"
   ]
  },
  {
   "cell_type": "markdown",
   "metadata": {},
   "source": [
    "### Measure of Variance"
   ]
  },
  {
   "cell_type": "code",
   "execution_count": 11,
   "metadata": {},
   "outputs": [
    {
     "name": "stdout",
     "output_type": "stream",
     "text": [
      "goal range: 99999999.99\n",
      "__________________________________________________\n",
      "\n",
      "Percentile in quantile  : \n",
      " 50000.0\n",
      "__________________________________________________\n",
      "\n",
      "Quartiles  : \n",
      " 0.25     2000.0\n",
      "0.50     5200.0\n",
      "0.75    16000.0\n",
      "Name: goal, dtype: float64\n",
      "__________________________________________________\n",
      "\n",
      "Variance  :\n",
      " 1400414872097.0361\n",
      "__________________________________________________\n",
      "\n",
      "Standar Deviation  :  1183391.2590927128\n",
      "__________________________________________________\n"
     ]
    },
    {
     "data": {
      "image/png": "[encoded data removed]",
      "text/plain": [
       "<Figure size 720x576 with 1 Axes>"
      ]
     },
     "metadata": {
      "needs_background": "light"
     },
     "output_type": "display_data"
    },
    {
     "data": {
      "image/png": "[encoded data removed]",
      "text/plain": [
       "<Figure size 432x288 with 1 Axes>"
      ]
     },
     "metadata": {
      "needs_background": "light"
     },
     "output_type": "display_data"
    },
    {
     "name": "stdout",
     "output_type": "stream",
     "text": [
      "pledged range: 20338986.27\n",
      "__________________________________________________\n",
      "\n",
      "Percentile in quantile  : \n",
      " 14141.26\n",
      "__________________________________________________\n",
      "\n",
      "Quartiles  : \n",
      " 0.25      30.0\n",
      "0.50     620.0\n",
      "0.75    4076.0\n",
      "Name: pledged, dtype: float64\n",
      "__________________________________________________\n",
      "\n",
      "Variance  :\n",
      " 9146246409.673967\n",
      "__________________________________________________\n",
      "\n",
      "Standar Deviation  :  95636.01000498697\n",
      "__________________________________________________\n"
     ]
    },
    {
     "data": {
      "image/png": "[encoded data removed]",
      "text/plain": [
       "<Figure size 720x576 with 1 Axes>"
      ]
     },
     "metadata": {
      "needs_background": "light"
     },
     "output_type": "display_data"
    },
    {
     "data": {
      "image/png": "[encoded data removed]",
      "text/plain": [
       "<Figure size 432x288 with 1 Axes>"
      ]
     },
     "metadata": {
      "needs_background": "light"
     },
     "output_type": "display_data"
    },
    {
     "name": "stdout",
     "output_type": "stream",
     "text": [
      "backers range: 219382\n",
      "__________________________________________________\n",
      "\n",
      "Percentile in quantile  : \n",
      " 166.0\n",
      "__________________________________________________\n",
      "\n",
      "Quartiles  : \n",
      " 0.25     2.0\n",
      "0.50    12.0\n",
      "0.75    56.0\n",
      "Name: backers, dtype: float64\n",
      "__________________________________________________\n",
      "\n",
      "Variance  :\n",
      " 822984.6873539966\n",
      "__________________________________________________\n",
      "\n",
      "Standar Deviation  :  907.1850347938928\n",
      "__________________________________________________\n"
     ]
    },
    {
     "data": {
      "image/png": "[encoded data removed]",
      "text/plain": [
       "<Figure size 720x576 with 1 Axes>"
      ]
     },
     "metadata": {
      "needs_background": "light"
     },
     "output_type": "display_data"
    },
    {
     "data": {
      "image/png": "[encoded data removed]",
      "text/plain": [
       "<Figure size 432x288 with 1 Axes>"
      ]
     },
     "metadata": {
      "needs_background": "light"
     },
     "output_type": "display_data"
    },
    {
     "name": "stdout",
     "output_type": "stream",
     "text": [
      "usd_pledged_real range: 20338986.27\n",
      "__________________________________________________\n",
      "\n",
      "Percentile in quantile  : \n",
      " 13670.99\n",
      "__________________________________________________\n",
      "\n",
      "Quartiles  : \n",
      " 0.25      31.00\n",
      "0.50     624.33\n",
      "0.75    4050.00\n",
      "Name: usd_pledged_real, dtype: float64\n",
      "__________________________________________________\n",
      "\n",
      "Variance  :\n",
      " 8276149156.121636\n",
      "__________________________________________________\n",
      "\n",
      "Standar Deviation  :  90973.34310731708\n",
      "__________________________________________________\n"
     ]
    },
    {
     "data": {
      "image/png": "[encoded data removed]",
      "text/plain": [
       "<Figure size 720x576 with 1 Axes>"
      ]
     },
     "metadata": {
      "needs_background": "light"
     },
     "output_type": "display_data"
    },
    {
     "data": {
      "image/png": "[encoded data removed]",
      "text/plain": [
       "<Figure size 432x288 with 1 Axes>"
      ]
     },
     "metadata": {
      "needs_background": "light"
     },
     "output_type": "display_data"
    },
    {
     "name": "stdout",
     "output_type": "stream",
     "text": [
      "usd_goal_real range: 166361390.70000002\n",
      "__________________________________________________\n",
      "\n",
      "Percentile in quantile  : \n",
      " 45000.0\n",
      "__________________________________________________\n",
      "\n",
      "Quartiles  : \n",
      " 0.25     2000.0\n",
      "0.50     5500.0\n",
      "0.75    15500.0\n",
      "Name: usd_goal_real, dtype: float64\n",
      "__________________________________________________\n",
      "\n",
      "Variance  :\n",
      " 1329293829528.3057\n",
      "__________________________________________________\n",
      "\n",
      "Standar Deviation  :  1152950.0550883831\n",
      "__________________________________________________\n"
     ]
    },
    {
     "data": {
      "image/png": "[encoded data removed]",
      "text/plain": [
       "<Figure size 720x576 with 1 Axes>"
      ]
     },
     "metadata": {
      "needs_background": "light"
     },
     "output_type": "display_data"
    },
    {
     "data": {
      "image/png": "[encoded data removed]",
      "text/plain": [
       "<Figure size 432x288 with 1 Axes>"
      ]
     },
     "metadata": {
      "needs_background": "light"
     },
     "output_type": "display_data"
    }
   ],
   "source": [
    "from scipy import stats\n",
    "numcols = ['goal', 'pledged', 'backers', 'usd_pledged_real','usd_goal_real']\n",
    "df1 = pd.DataFrame(np.random.randn(100000,5), columns=['goal', 'pledged', 'backers', 'usd_pledged_real','usd_goal_real'])\n",
    "\n",
    "for col in numcols:\n",
    "  print(df[col].name + ' range: ' + str(df[col].max() - df[col].min())) # Menentukan Range\n",
    "  print(\"_\"*50)\n",
    "  print(\"\\nPercentile in quantile  : \\n\", df[col].quantile(q = 0.9))# Menentukan Percentile  \n",
    "  print(\"_\"*50)\n",
    "  print(\"\\nQuartiles  : \\n\", df[col].quantile([0.25, 0.5, 0.75]))# Menentukan Quartiles\n",
    "  print(\"_\"*50)\n",
    "  print(\"\\nVariance  :\\n\", df[col].var())# menentukan Variance\n",
    "  print(\"_\"*50)\n",
    "  print(\"\\nStandar Deviation  : \", df[col].std())\n",
    "  print(\"_\"*50)\n",
    "  df[col].plot(kind='box', title=col + ' Distribution', figsize=(10,8))# Box plot\n",
    "  plt.show()\n",
    "  # Visualization Distribution Normal\n",
    "  density = stats.gaussian_kde(df[col])\n",
    "  n, x, _ = plt.hist(df1[col], histtype='step', bins=100)\n",
    "  plt.plot( x, density(x)*2**7.5)\n",
    "  plt.axvline(df1[col].mean(), color='magenta', linestyle='dashed', linewidth=2)\n",
    "  plt.axvline(df1[col].median(), color='green', linestyle='dashed', linewidth=2)\n",
    "  plt.show()\n",
    "  "
   ]
  },
  {
   "cell_type": "markdown",
   "metadata": {},
   "source": [
    "## **Hypothesis Testing ANOVA**"
   ]
  },
  {
   "cell_type": "code",
   "execution_count": 158,
   "metadata": {},
   "outputs": [
    {
     "data": {
      "text/html": [
       "<div>\n",
       "<style scoped>\n",
       "    .dataframe tbody tr th:only-of-type {\n",
       "        vertical-align: middle;\n",
       "    }\n",
       "\n",
       "    .dataframe tbody tr th {\n",
       "        vertical-align: top;\n",
       "    }\n",
       "\n",
       "    .dataframe thead th {\n",
       "        text-align: right;\n",
       "    }\n",
       "</style>\n",
       "<table border=\"1\" class=\"dataframe\">\n",
       "  <thead>\n",
       "    <tr style=\"text-align: right;\">\n",
       "      <th></th>\n",
       "      <th>usd_goal_real</th>\n",
       "    </tr>\n",
       "    <tr>\n",
       "      <th>state</th>\n",
       "      <th></th>\n",
       "    </tr>\n",
       "  </thead>\n",
       "  <tbody>\n",
       "    <tr>\n",
       "      <th>canceled</th>\n",
       "      <td>2.930894e+09</td>\n",
       "    </tr>\n",
       "    <tr>\n",
       "      <th>failed</th>\n",
       "      <td>1.249085e+10</td>\n",
       "    </tr>\n",
       "    <tr>\n",
       "      <th>live</th>\n",
       "      <td>1.750363e+08</td>\n",
       "    </tr>\n",
       "    <tr>\n",
       "      <th>successful</th>\n",
       "      <td>1.276983e+09</td>\n",
       "    </tr>\n",
       "    <tr>\n",
       "      <th>suspended</th>\n",
       "      <td>3.234340e+08</td>\n",
       "    </tr>\n",
       "    <tr>\n",
       "      <th>undefined</th>\n",
       "      <td>1.461496e+07</td>\n",
       "    </tr>\n",
       "  </tbody>\n",
       "</table>\n",
       "</div>"
      ],
      "text/plain": [
       "            usd_goal_real\n",
       "state                    \n",
       "canceled     2.930894e+09\n",
       "failed       1.249085e+10\n",
       "live         1.750363e+08\n",
       "successful   1.276983e+09\n",
       "suspended    3.234340e+08\n",
       "undefined    1.461496e+07"
      ]
     },
     "execution_count": 158,
     "metadata": {},
     "output_type": "execute_result"
    }
   ],
   "source": [
    "data_UGD = df.groupby(by=['state'])[['usd_goal_real']].sum()\n",
    "data_UGD\n"
   ]
  },
  {
   "cell_type": "code",
   "execution_count": 117,
   "metadata": {},
   "outputs": [],
   "source": [
    "# Import library yang dibutuhkan hipotesis menggunakan ANOVA\n",
    "import statsmodels.api as sm\n",
    "import statsmodels.formula.api as smf\n",
    "from statsmodels.formula.api import ols\n",
    "from statsmodels.stats.anova import anova_lm\n",
    "import statsmodels.stats.multicomp as multi\n",
    "import scipy.stats as stats"
   ]
  },
  {
   "cell_type": "markdown",
   "metadata": {},
   "source": [
    "**Fit model ANOVA ke data**"
   ]
  },
  {
   "cell_type": "code",
   "execution_count": 137,
   "metadata": {},
   "outputs": [
    {
     "name": "stdout",
     "output_type": "stream",
     "text": [
      "                df        sum_sq       mean_sq          F        PR(>F)\n",
      "state          5.0  3.081162e+14  6.162325e+13  46.385665  4.274467e-48\n",
      "Residual  378655.0  5.030423e+17  1.328498e+12        NaN           NaN\n"
     ]
    }
   ],
   "source": [
    "model = smf.ols('usd_goal_real ~ state', data=df).fit()\n",
    "aov_table = anova_lm(model, typ=1)\n",
    "print(aov_table)"
   ]
  },
  {
   "cell_type": "markdown",
   "metadata": {},
   "source": [
    "**Keterangan    :**\n",
    "- df        = Degree of Freedom\n",
    "- sum_sq    = Penjumlahan seluruh nilai di kolom *usd_goal_real* terhadap *main_category*\n",
    "- mean_sq   = Rata-rata dari penjumlahan seluruh nilai di kolom *usd_goal_real* terhadap *main_category*\n",
    "- F         = *Frequency* data statistik pada dataframe\n",
    "- PR(>F)    = P-value \n"
   ]
  },
  {
   "cell_type": "markdown",
   "metadata": {},
   "source": [
    "Pada output tersebut ada perbedaan significant di dalam *state* yang mana PR(>F) sama dengan P-value\\\n",
    "bernilai  4.274467e-48 < 0.005 yang artinya ada perbedaan di setiap unique pada kolom main_category terhadap nilai usd_goal_real"
   ]
  },
  {
   "cell_type": "markdown",
   "metadata": {},
   "source": [
    "Dari output tersebut kita tahu ada perbedaan yang signifikan.\\\n",
    "Maka dari itu, mari kita cari tahu lebih lanjut pasangan apa saja yang memiliki perbedaan yang significant"
   ]
  },
  {
   "cell_type": "code",
   "execution_count": 142,
   "metadata": {},
   "outputs": [
    {
     "name": "stdout",
     "output_type": "stream",
     "text": [
      "           Multiple Comparison of Means - Tukey HSD, FWER=0.05           \n",
      "=========================================================================\n",
      "  group1     group2     meandiff   p-adj     lower        upper    reject\n",
      "-------------------------------------------------------------------------\n",
      "  canceled     failed  -12404.6732 0.3801  -30646.4967   5837.1504  False\n",
      "  canceled       live  -13044.1345    0.9  -77329.0482  51240.7793  False\n",
      "  canceled successful   -66046.562  0.001  -84986.9035 -47106.2206   True\n",
      "  canceled  suspended   99628.5949 0.0039   21383.0614 177874.1284   True\n",
      "  canceled  undefined  -71476.3933 0.0053 -128982.2815 -13970.5052   True\n",
      "    failed       live    -639.4613    0.9  -63160.7686   61881.846  False\n",
      "    failed successful  -53641.8889  0.001  -65265.1528 -42018.6249   True\n",
      "    failed  suspended   112033.268  0.001    35230.096 188836.4401   True\n",
      "    failed  undefined  -59071.7202 0.0293 -114599.1089  -3544.3314   True\n",
      "      live successful  -53002.4276 0.1534 -115731.0994   9726.2443  False\n",
      "      live  suspended  112672.7294 0.0142   14191.6995 211153.7592   True\n",
      "      live  undefined  -58432.2589 0.3382 -141396.5699  24532.0522  False\n",
      "successful  suspended  165675.1569  0.001   88703.0863 242647.2275   True\n",
      "successful  undefined   -5429.8313    0.9  -61190.5999  50330.9372  False\n",
      " suspended  undefined -171104.9882  0.001 -265301.0088 -76908.9677   True\n",
      "-------------------------------------------------------------------------\n"
     ]
    }
   ],
   "source": [
    "# Mengunakan library Multi Comparison \n",
    "mcstate = multi.MultiComparison(df['usd_goal_real'], df['state'])\n",
    "# Hasilnya uji lanjut menggunakan Tukey \n",
    "hasil_state = mcstate.tukeyhsd()\n",
    "print(hasil_state.summary())\n"
   ]
  },
  {
   "cell_type": "markdown",
   "metadata": {},
   "source": [
    "**Keterangan    :**\n",
    "- True  = Terdapat perbedaan *Significant*\n",
    "- False = Tidak terdapat perbedaan yang *Significant*   \n",
    "- lower & upper = Coevicient Intervals\n",
    "- meandiff = selisih rata-rata antar kelompok\n",
    "- p-adj = menyatakan nilai P-value yang akan digunakan untuk menarik kesimpulan\n",
    "\n"
   ]
  },
  {
   "cell_type": "code",
   "execution_count": 181,
   "metadata": {},
   "outputs": [
    {
     "data": {
      "image/png": "[encoded data removed]",
      "text/plain": [
       "<Figure size 432x288 with 1 Axes>"
      ]
     },
     "metadata": {
      "needs_background": "light"
     },
     "output_type": "display_data"
    }
   ],
   "source": [
    "# Check distribusi normal terhadap residuals\n",
    "residuals = model.resid\n",
    "fig = sm.qqplot(residuals, line='s')\n",
    "plt.show()"
   ]
  },
  {
   "cell_type": "markdown",
   "metadata": {},
   "source": [
    "Dilihat dari grafik, dati titik biru yang menjauh dari garis merah menunjukkan bahwa residual tidak terdistribusi dengan normal "
   ]
  },
  {
   "cell_type": "markdown",
   "metadata": {},
   "source": [
    "**Menggukan Box plot untuk membandingkan rata-rata dan variabilitas terhadap usd_gold_real**"
   ]
  },
  {
   "cell_type": "code",
   "execution_count": 140,
   "metadata": {},
   "outputs": [
    {
     "data": {
      "image/png": "[encoded data removed]",
      "text/plain": [
       "<Figure size 432x288 with 1 Axes>"
      ]
     },
     "metadata": {
      "needs_background": "light"
     },
     "output_type": "display_data"
    }
   ],
   "source": [
    "sns.set_context(\"paper\", font_scale=1.5, rc={\"font.size\":16, \"axes.titlesize\":16,\"axes.labelsize\":16})# mendifinisikan ukuran dari plot\n",
    "plt.title('Boxplot comparing usd_goal_real by state')\n",
    "sns.boxplot(x='state',y='usd_goal_real', data=df, showfliers=False) # Menghilangkan outliers agar boxplot terlihat jelas perbedaannya\n",
    "plt.xlabel('state')\n",
    "plt.ylabel('usd_goal_real')\n",
    "plt.xticks(rotation=45)\n",
    "plt.show()"
   ]
  },
  {
   "cell_type": "markdown",
   "metadata": {},
   "source": [
    "Maka dari output oneway anova hypothesis testing *hasil_state* yang membandingkan dari masing-pasing pasang unique dari kolom *state*  kita bisa menarik kesimpulan bahwa keterangan False adalah fail to reject null hypothesis, dan True adalah reject null hypothesis"
   ]
  },
  {
   "cell_type": "markdown",
   "metadata": {},
   "source": [
    "**Model Diagnostics**"
   ]
  },
  {
   "cell_type": "markdown",
   "metadata": {},
   "source": [
    "**Cara lain untuk mencari persamaan variance terhadap *state* menggunakan levene test**"
   ]
  },
  {
   "cell_type": "code",
   "execution_count": 133,
   "metadata": {},
   "outputs": [
    {
     "data": {
      "text/plain": [
       "array(['failed', 'canceled', 'successful', 'live', 'undefined',\n",
       "       'suspended'], dtype=object)"
      ]
     },
     "execution_count": 133,
     "metadata": {},
     "output_type": "execute_result"
    }
   ],
   "source": [
    "df['state'].unique()"
   ]
  },
  {
   "cell_type": "code",
   "execution_count": 134,
   "metadata": {},
   "outputs": [],
   "source": [
    "UGD_failed = df['usd_goal_real'][df['state']=='failed']\n",
    "UGD_canceled = df['usd_goal_real'][df['state']=='canceled']\n",
    "UGD_successful = df['usd_goal_real'][df['state']=='successful']\n",
    "UGD_live = df['usd_goal_real'][df['state']=='live']\n",
    "UGD_undifined = df['usd_goal_real'][df['state']=='undefined']\n",
    "UGD_suspended = df['usd_goal_real'][df['state']=='suspended']"
   ]
  },
  {
   "cell_type": "code",
   "execution_count": 145,
   "metadata": {},
   "outputs": [
    {
     "name": "stdout",
     "output_type": "stream",
     "text": [
      "test_statistic   :  44.16034596342728\n",
      "p_value          :  1.0323374562530415e-45\n"
     ]
    }
   ],
   "source": [
    "test_statistic, p_value = stats.levene(UGD_failed, UGD_canceled, UGD_successful, UGD_live, UGD_undifined, UGD_suspended)\n",
    "print(\"test_statistic   : \", test_statistic)\n",
    "print(\"p_value          : \", p_value)"
   ]
  },
  {
   "cell_type": "markdown",
   "metadata": {},
   "source": [
    "Dengan cara levene test nilainya tidak jauh berbeda dengan cara fit model p_value < 0.05 maka reject null hypotesis"
   ]
  }
 ],
 "metadata": {
  "interpreter": {
   "hash": "747336235d6fa51a5aec62dabc37dbed4a219e89925a929a250b1ebbc395e57e"
  },
  "kernelspec": {
   "display_name": "Python 3.8.5 ('base')",
   "language": "python",
   "name": "python3"
  },
  "language_info": {
   "codemirror_mode": {
    "name": "ipython",
    "version": 3
   },
   "file_extension": ".py",
   "mimetype": "text/x-python",
   "name": "python",
   "nbconvert_exporter": "python",
   "pygments_lexer": "ipython3",
   "version": "3.8.5"
  },
  "orig_nbformat": 4
 },
 "nbformat": 4,
 "nbformat_minor": 2
}
