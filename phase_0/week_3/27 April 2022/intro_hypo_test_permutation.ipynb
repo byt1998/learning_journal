{
  "cells": [
    {
      "cell_type": "code",
      "execution_count": null,
      "metadata": {
        "id": "ppGkfPeS_0W6"
      },
      "outputs": [],
      "source": [
        "import numpy as np\n",
        "import matplotlib.pyplot as plt"
      ]
    },
    {
      "cell_type": "code",
      "execution_count": null,
      "metadata": {
        "id": "l0b7nf9FAKcq"
      },
      "outputs": [],
      "source": [
        "# sembuh dari covid berkat obat A\n",
        "treatment = [ 28.44,  32.32,  31.22,  29.58,  30.34,  30.76,  29.21,  30.4 ,\n",
        "              31.12,  31.78,  27.58,  31.57,  35.73,  30.43,  30.31,  30.32,\n",
        "              29.18,  29.52,  29.22,  31.56]\n",
        "\n",
        "# sembuh dari covid tanpa obat A\n",
        "control = [ 33.51,  30.63,  32.38,  32.52,  29.41,  30.93,  49.78,  28.96,\n",
        "            35.77,  31.42,  30.76,  30.6 ,  23.64,  30.54,  47.78,  31.98,\n",
        "            34.52,  32.42,  31.32,  40.72]"
      ]
    },
    {
      "cell_type": "markdown",
      "metadata": {
        "id": "AVZx_P_DA3Qa"
      },
      "source": [
        "### Hipotesis\n",
        "\n",
        "H0 : tidak ada perbedaan signifikan antara pemberian obat A dengan tidak dalam proses penyembuhan COVID-19\n",
        "\n",
        "H1 : ada perubahan signifikan antara pemberian obat A\n",
        "\n",
        "------\n",
        "\n",
        "H0 : m1 = m2 => m1 - m2 = 0\n",
        "\n",
        "H1 : m1 != m2 => m1 - m2 != 0"
      ]
    },
    {
      "cell_type": "code",
      "execution_count": null,
      "metadata": {
        "colab": {
          "base_uri": "https://localhost:8080/"
        },
        "id": "hmwXxaOyAvWZ",
        "outputId": "389c5a9b-c504-4e3f-cd7e-b213e900d7d6"
      },
      "outputs": [
        {
          "data": {
            "text/plain": [
              "2.9499999999999993"
            ]
          },
          "execution_count": 28,
          "metadata": {},
          "output_type": "execute_result"
        }
      ],
      "source": [
        "# hitung ground truth\n",
        "ground_truth = np.abs(np.mean(treatment) - np.mean(control))\n",
        "ground_truth"
      ]
    },
    {
      "cell_type": "code",
      "execution_count": null,
      "metadata": {
        "id": "5LERa6sfDFxo"
      },
      "outputs": [],
      "source": [
        "# gabungkan data\n",
        "concat = np.concatenate([treatment, control])"
      ]
    },
    {
      "cell_type": "code",
      "execution_count": null,
      "metadata": {
        "id": "FSzfpaz4Ed8o"
      },
      "outputs": [],
      "source": [
        "diff = []\n",
        "p = 100\n",
        "np.random.seed(1) # reproduciable (VR46)\n",
        "\n",
        "for i in range(p):\n",
        "  np.random.shuffle(concat)\n",
        "  treatment_p = concat[:20]\n",
        "  control_p = concat[20:]\n",
        "  d = np.abs(np.mean(treatment_p) - np.mean(control_p))\n",
        "  diff.append(d)"
      ]
    },
    {
      "cell_type": "code",
      "execution_count": null,
      "metadata": {
        "colab": {
          "base_uri": "https://localhost:8080/"
        },
        "id": "ExHLcIt6G53l",
        "outputId": "33518ee4-e341-4064-e72f-b7f908410733"
      },
      "outputs": [
        {
          "data": {
            "text/plain": [
              "0.04"
            ]
          },
          "execution_count": 32,
          "metadata": {},
          "output_type": "execute_result"
        }
      ],
      "source": [
        "p_value = len(np.where(diff>=ground_truth)[0]) / p\n",
        "p_value"
      ]
    },
    {
      "cell_type": "code",
      "execution_count": null,
      "metadata": {
        "colab": {
          "base_uri": "https://localhost:8080/",
          "height": 483
        },
        "id": "-vRGLn3qHRpz",
        "outputId": "64e882c8-1ad6-4720-eeed-f4a750d95351"
      },
      "outputs": [
        {
          "data": {
            "image/png": "[encoded data removed]",
            "text/plain": [
              "<Figure size 1152x576 with 1 Axes>"
            ]
          },
          "metadata": {
            "needs_background": "light"
          },
          "output_type": "display_data"
        }
      ],
      "source": [
        "plt.figure(1, figsize=(16,8));\n",
        "plt.hist(diff, bins=15);\n",
        "plt.axvline(x=ground_truth);"
      ]
    },
    {
      "cell_type": "markdown",
      "metadata": {
        "id": "AVEU8YYWkHJx"
      },
      "source": [
        "## Normal distribution"
      ]
    },
    {
      "cell_type": "code",
      "execution_count": null,
      "metadata": {
        "id": "Sl2yMObhHhSW"
      },
      "outputs": [],
      "source": [
        "import matplotlib.pyplot as plt\n",
        "import numpy as np\n",
        "import scipy.stats as stats\n",
        "import pandas as pd"
      ]
    },
    {
      "cell_type": "code",
      "execution_count": null,
      "metadata": {
        "id": "YasIEgHbkXdb"
      },
      "outputs": [],
      "source": [
        "mu = 0\n",
        "var = 1\n",
        "def normal_pdf(mu, var):\n",
        "  sigma = np.math.sqrt(var)\n",
        "  x = np.linspace(mu-3*sigma, mu+3*sigma, 100)\n",
        "  plt.plot(x, stats.norm.pdf(x, mu, sigma), color='red');"
      ]
    },
    {
      "cell_type": "code",
      "execution_count": null,
      "metadata": {
        "colab": {
          "base_uri": "https://localhost:8080/",
          "height": 262
        },
        "id": "Eb0C59e-k_K-",
        "outputId": "65efcc91-9a56-4f5e-9c3a-26f9599e2cd1"
      },
      "outputs": [
        {
          "data": {
            "image/png": "[encoded data removed]",
            "text/plain": [
              "<Figure size 432x288 with 1 Axes>"
            ]
          },
          "metadata": {
            "needs_background": "light"
          },
          "output_type": "display_data"
        }
      ],
      "source": [
        "# permainan lempar dadu\n",
        "dadu = np.random.randint(1, 7, 10000)\n",
        "dadu = pd.Series(dadu)\n",
        "dadu.value_counts().plot(kind='bar');"
      ]
    },
    {
      "cell_type": "markdown",
      "metadata": {
        "id": "sgq3Uww6nlrT"
      },
      "source": [
        "### central limit theorem"
      ]
    },
    {
      "cell_type": "code",
      "execution_count": null,
      "metadata": {
        "id": "mnhbIXV_mtJx"
      },
      "outputs": [],
      "source": [
        "# repetisi + rata2\n",
        "rerata = []\n",
        "for i in range(5000):\n",
        "  dadu = np.random.randint(1, 7, 1000)\n",
        "  dadu = dadu / 6\n",
        "  rerata.append(dadu.mean())"
      ]
    },
    {
      "cell_type": "code",
      "execution_count": null,
      "metadata": {
        "colab": {
          "base_uri": "https://localhost:8080/",
          "height": 265
        },
        "id": "_xpbtqujnYUo",
        "outputId": "8cbd213a-f1a0-4c48-a9e7-108b7b4f78a3"
      },
      "outputs": [
        {
          "data": {
            "image/png": "[encoded data removed]",
            "text/plain": [
              "<Figure size 432x288 with 1 Axes>"
            ]
          },
          "metadata": {
            "needs_background": "light"
          },
          "output_type": "display_data"
        }
      ],
      "source": [
        "plt.hist(rerata, bins=100);"
      ]
    },
    {
      "cell_type": "code",
      "execution_count": null,
      "metadata": {
        "colab": {
          "base_uri": "https://localhost:8080/"
        },
        "id": "mJ0kYZ2CnheQ",
        "outputId": "59856f97-3d9f-4e74-8a23-fd51cdce8679"
      },
      "outputs": [
        {
          "name": "stdout",
          "output_type": "stream",
          "text": [
            "0.583512 8.0053856e-05\n"
          ]
        }
      ],
      "source": [
        "xbar = np.mean(rerata)\n",
        "var = np.var(rerata)\n",
        "print(xbar, var)"
      ]
    },
    {
      "cell_type": "code",
      "execution_count": null,
      "metadata": {
        "colab": {
          "base_uri": "https://localhost:8080/",
          "height": 265
        },
        "id": "YrsWDay_oJVj",
        "outputId": "5b663fc6-e63a-4044-ea8d-f10abd701c0a"
      },
      "outputs": [
        {
          "data": {
            "image/png": "[encoded data removed]",
            "text/plain": [
              "<Figure size 432x288 with 1 Axes>"
            ]
          },
          "metadata": {
            "needs_background": "light"
          },
          "output_type": "display_data"
        }
      ],
      "source": [
        "normal_pdf(xbar, var)\n"
      ]
    },
    {
      "cell_type": "code",
      "execution_count": null,
      "metadata": {
        "id": "yEiDsINIod8f"
      },
      "outputs": [],
      "source": []
    }
  ],
  "metadata": {
    "colab": {
      "name": "intro_hypo_test_permutation.ipynb",
      "provenance": []
    },
    "kernelspec": {
      "display_name": "Python 3",
      "name": "python3"
    },
    "language_info": {
      "name": "python",
      "version": "3.8.5"
    }
  },
  "nbformat": 4,
  "nbformat_minor": 0
}
