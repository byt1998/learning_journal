{
  "nbformat": 4,
  "nbformat_minor": 0,
  "metadata": {
    "colab": {
      "name": "HipotesisW3D3.ipynb",
      "provenance": []
    },
    "kernelspec": {
      "name": "python3",
      "display_name": "Python 3"
    },
    "language_info": {
      "name": "python"
    }
  },
  "cells": [
    {
      "cell_type": "code",
      "execution_count": 1,
      "metadata": {
        "id": "IyXKXery__H-"
      },
      "outputs": [],
      "source": [
        "import numpy as np\n",
        "import matplotlib.pyplot as plt"
      ]
    },
    {
      "cell_type": "code",
      "source": [
        "# Sembuh dari covid berkat obat A\n",
        "treatment = [ 28.44,  32.32,  31.22,  29.58,  30.34,  28.76,  29.21,  30.4 ,\n",
        "              31.12,  35.78,  27.58,  31.57,  30.73,  30.43,  30.31,  30.32,\n",
        "              29.18,  29.52,  29.22,  31.56]\n",
        "\n",
        "# sembuh dari covid tanpa obat A\n",
        "control = [ 33.51,  30.63,  32.38,  32.52,  29.41,  30.93,  49.78,  28.96,\n",
        "            35.77,  31.42,  30.76,  30.6 ,  23.64,  30.54,  47.78,  31.98,\n",
        "            34.52,  32.42,  31.32,  40.72]\n"
      ],
      "metadata": {
        "id": "8aTTeQaKAM7N"
      },
      "execution_count": 30,
      "outputs": []
    },
    {
      "cell_type": "markdown",
      "source": [
        "### Hipotesis\n",
        "\n",
        "H0 : tidak ada perbedaan signifikan antara pemberian obat A dengan tidak dalam proses penyembuhan COVID-19\n",
        "\n",
        "H1 : ada perubahan sigifikan antara pemberian obat A \n",
        "\n",
        "-----\n",
        "\n",
        "H0 : m1 = m2 : m1 - m2 = 0\n",
        "H1 : m2 != m2 => m1- m2 != 0"
      ],
      "metadata": {
        "id": "NjzEUh7oA4xC"
      }
    },
    {
      "cell_type": "code",
      "source": [
        "# hitung ground truth\n",
        "ground_truth = np.abs(np.mean(treatment) - np.mean(control))\n",
        "ground_truth"
      ],
      "metadata": {
        "colab": {
          "base_uri": "https://localhost:8080/"
        },
        "id": "L-AWEeDQCGSI",
        "outputId": "4be933d6-e390-45de-c4d9-472d147a0c7e"
      },
      "execution_count": 31,
      "outputs": [
        {
          "output_type": "execute_result",
          "data": {
            "text/plain": [
              "3.099999999999998"
            ]
          },
          "metadata": {},
          "execution_count": 31
        }
      ]
    },
    {
      "cell_type": "code",
      "source": [
        "# gabungkan data\n",
        "concat = np.concatenate([treatment, control])\n",
        "concat"
      ],
      "metadata": {
        "colab": {
          "base_uri": "https://localhost:8080/"
        },
        "id": "kbSji6VkDI9p",
        "outputId": "da4a4304-fa71-4865-b6d0-b4013e55c32b"
      },
      "execution_count": 32,
      "outputs": [
        {
          "output_type": "execute_result",
          "data": {
            "text/plain": [
              "array([28.44, 32.32, 31.22, 29.58, 30.34, 28.76, 29.21, 30.4 , 31.12,\n",
              "       35.78, 27.58, 31.57, 30.73, 30.43, 30.31, 30.32, 29.18, 29.52,\n",
              "       29.22, 31.56, 33.51, 30.63, 32.38, 32.52, 29.41, 30.93, 49.78,\n",
              "       28.96, 35.77, 31.42, 30.76, 30.6 , 23.64, 30.54, 47.78, 31.98,\n",
              "       34.52, 32.42, 31.32, 40.72])"
            ]
          },
          "metadata": {},
          "execution_count": 32
        }
      ]
    },
    {
      "cell_type": "code",
      "source": [
        "diff = []\n",
        "p = 100\n",
        "np.random.seed(1) # reproduciable (VR46)\n",
        "\n",
        "for i in range(p):\n",
        "  np.random.shuffle(concat)\n",
        "  treatment_p = concat[:20]\n",
        "  control_p = concat[20:]\n",
        "  d = np.abs(np.mean(treatment_p) - np.mean(control_p))\n",
        "  diff.append(d)"
      ],
      "metadata": {
        "id": "6yhvySfiEZ4p"
      },
      "execution_count": 33,
      "outputs": []
    },
    {
      "cell_type": "code",
      "source": [
        "d"
      ],
      "metadata": {
        "colab": {
          "base_uri": "https://localhost:8080/"
        },
        "id": "6ch1O5AgPz_4",
        "outputId": "2c5545c0-a625-456d-dea6-2c55bb79767c"
      },
      "execution_count": 38,
      "outputs": [
        {
          "output_type": "execute_result",
          "data": {
            "text/plain": [
              "2.370999999999988"
            ]
          },
          "metadata": {},
          "execution_count": 38
        }
      ]
    },
    {
      "cell_type": "code",
      "source": [
        "diff"
      ],
      "metadata": {
        "colab": {
          "base_uri": "https://localhost:8080/"
        },
        "id": "5hToSm2pG5Cm",
        "outputId": "dbb0d83e-c5f6-4588-9fdc-9a9732a75fdd"
      },
      "execution_count": 34,
      "outputs": [
        {
          "output_type": "execute_result",
          "data": {
            "text/plain": [
              "[0.3220000000000063,\n",
              " 0.8329999999999984,\n",
              " 0.3460000000000072,\n",
              " 3.2249999999999943,\n",
              " 0.8540000000000063,\n",
              " 1.2229999999999954,\n",
              " 2.4890000000000043,\n",
              " 2.870999999999995,\n",
              " 0.7080000000000126,\n",
              " 1.6700000000000053,\n",
              " 0.7380000000000031,\n",
              " 1.8449999999999918,\n",
              " 1.8889999999999993,\n",
              " 1.4979999999999905,\n",
              " 0.07599999999998985,\n",
              " 0.23699999999999477,\n",
              " 0.32099999999999795,\n",
              " 0.42600000000000193,\n",
              " 2.176000000000002,\n",
              " 2.0700000000000003,\n",
              " 0.5139999999999993,\n",
              " 0.7779999999999987,\n",
              " 0.7380000000000067,\n",
              " 0.7620000000000076,\n",
              " 1.1579999999999977,\n",
              " 1.183000000000007,\n",
              " 0.18700000000000117,\n",
              " 0.9540000000000042,\n",
              " 0.12199999999999633,\n",
              " 0.3639999999999972,\n",
              " 0.6089999999999947,\n",
              " 1.460000000000008,\n",
              " 2.57200000000001,\n",
              " 1.7460000000000022,\n",
              " 0.754999999999999,\n",
              " 0.7789999999999999,\n",
              " 0.17899999999999494,\n",
              " 0.3910000000000018,\n",
              " 3.9239999999999995,\n",
              " 2.696999999999999,\n",
              " 0.3569999999999993,\n",
              " 0.5919999999999987,\n",
              " 0.9820000000000029,\n",
              " 1.01499999999999,\n",
              " 0.4079999999999977,\n",
              " 0.3680000000000021,\n",
              " 2.1950000000000074,\n",
              " 0.03100000000000591,\n",
              " 2.2080000000000055,\n",
              " 3.192999999999998,\n",
              " 0.8530000000000051,\n",
              " 2.1070000000000064,\n",
              " 0.33699999999999974,\n",
              " 0.9030000000000022,\n",
              " 1.046999999999997,\n",
              " 3.7460000000000093,\n",
              " 0.006000000000007333,\n",
              " 1.5329999999999977,\n",
              " 2.1599999999999966,\n",
              " 1.8320000000000007,\n",
              " 3.0470000000000077,\n",
              " 1.654,\n",
              " 0.2619999999999969,\n",
              " 1.4760000000000026,\n",
              " 1.7230000000000025,\n",
              " 2.1000000000000014,\n",
              " 0.6550000000000011,\n",
              " 2.0979999999999954,\n",
              " 0.806999999999988,\n",
              " 0.8539999999999992,\n",
              " 0.1340000000000039,\n",
              " 0.40499999999999403,\n",
              " 2.280000000000001,\n",
              " 1.3870000000000076,\n",
              " 1.536999999999992,\n",
              " 2.3220000000000063,\n",
              " 0.1740000000000066,\n",
              " 0.9909999999999926,\n",
              " 2.2059999999999995,\n",
              " 0.3939999999999948,\n",
              " 2.4989999999999952,\n",
              " 0.6650000000000027,\n",
              " 1.5939999999999976,\n",
              " 2.574999999999992,\n",
              " 1.1359999999999957,\n",
              " 1.4789999999999992,\n",
              " 1.2510000000000048,\n",
              " 1.2869999999999848,\n",
              " 0.15700000000000358,\n",
              " 1.4829999999999934,\n",
              " 1.953999999999997,\n",
              " 0.7570000000000086,\n",
              " 2.8919999999999924,\n",
              " 2.283999999999999,\n",
              " 0.9740000000000109,\n",
              " 2.565000000000012,\n",
              " 1.0430000000000028,\n",
              " 0.25700000000000145,\n",
              " 0.028999999999996362,\n",
              " 2.370999999999988]"
            ]
          },
          "metadata": {},
          "execution_count": 34
        }
      ]
    },
    {
      "cell_type": "code",
      "source": [
        "np.where(diff >= ground_truth)\n"
      ],
      "metadata": {
        "colab": {
          "base_uri": "https://localhost:8080/"
        },
        "id": "DgElLdrPG6tK",
        "outputId": "c2a5bb8b-041c-4048-d49e-2e351b152409"
      },
      "execution_count": 35,
      "outputs": [
        {
          "output_type": "execute_result",
          "data": {
            "text/plain": [
              "(array([ 3, 38, 49, 55]),)"
            ]
          },
          "metadata": {},
          "execution_count": 35
        }
      ]
    },
    {
      "cell_type": "code",
      "source": [
        "p_value = len(np.where(diff >= ground_truth)[0]) / p\n",
        "p_value"
      ],
      "metadata": {
        "colab": {
          "base_uri": "https://localhost:8080/"
        },
        "id": "YDx2wa3mIDvC",
        "outputId": "48ee514f-eb45-4959-cb17-e2ffc3cc3bc3"
      },
      "execution_count": 36,
      "outputs": [
        {
          "output_type": "execute_result",
          "data": {
            "text/plain": [
              "0.04"
            ]
          },
          "metadata": {},
          "execution_count": 36
        }
      ]
    },
    {
      "cell_type": "code",
      "source": [
        "plt.figure(1, figsize=(16,8));\n",
        "plt.hist(diff, bins=15);\n",
        "plt.axvline(x=ground_truth);"
      ],
      "metadata": {
        "colab": {
          "base_uri": "https://localhost:8080/",
          "height": 334
        },
        "id": "sICQz3M0HH5b",
        "outputId": "7c30dd09-37ef-4788-97d2-3acb63004fad"
      },
      "execution_count": 37,
      "outputs": [
        {
          "output_type": "display_data",
          "data": {
            "text/plain": [
              "<Figure size 1152x576 with 1 Axes>"
            ],
            "image/png": "[encoded data removed]"
          },
          "metadata": {
            "needs_background": "light"
          }
        }
      ]
    },
    {
      "cell_type": "code",
      "source": [
        ""
      ],
      "metadata": {
        "id": "O8Bvf1osHkuq"
      },
      "execution_count": null,
      "outputs": []
    },
    {
      "cell_type": "markdown",
      "source": [
        "ground_truth = 2.95 \n",
        "p_value = 0.04 = 4%\n",
        "artinya untuk selisih sebanyak 2.95 dalam 100x eksperimen sampling/permutasi terdapat 4 sample yang memenuhi kriteria (probability), dengan asumsi h0 benar\n"
      ],
      "metadata": {
        "id": "kgHTM6JwISOu"
      }
    },
    {
      "cell_type": "markdown",
      "source": [
        "### Nomal Distribution"
      ],
      "metadata": {
        "id": "Qns60M_ckK8u"
      }
    },
    {
      "cell_type": "code",
      "source": [
        "import matplotlib.pyplot as plt\n",
        "import numpy as np\n",
        "import scipy.stats as stats\n",
        "import pandas as pd"
      ],
      "metadata": {
        "id": "wWPSsVAdkKWZ"
      },
      "execution_count": 70,
      "outputs": []
    },
    {
      "cell_type": "code",
      "source": [
        "mu = 0\n",
        "var = 1\n",
        "def normal_pdf(mu, var):\n",
        "  sigma = np.math.sqrt(var)\n",
        "  x = np.linspace(mu-3*sigma, mu+3*sigma, 100)\n",
        "  plt.plot(x, stats.norm.pdf(x, mu, sigma), color = 'red');"
      ],
      "metadata": {
        "id": "cYnPOzDvkX_X"
      },
      "execution_count": 71,
      "outputs": []
    },
    {
      "cell_type": "code",
      "source": [
        "# permainan lempar dadu\n",
        "dadu = np.random.randint(1, 7, 1000)\n",
        "dadu = pd.Series(dadu)\n",
        "dadu.value_counts().plot(kind='bar');"
      ],
      "metadata": {
        "colab": {
          "base_uri": "https://localhost:8080/",
          "height": 262
        },
        "id": "7yxMslePlC1T",
        "outputId": "64519610-2867-48c7-8693-82ec19cbfb31"
      },
      "execution_count": 72,
      "outputs": [
        {
          "output_type": "display_data",
          "data": {
            "text/plain": [
              "<Figure size 432x288 with 1 Axes>"
            ],
            "image/png": "[encoded data removed]"
          },
          "metadata": {
            "needs_background": "light"
          }
        }
      ]
    },
    {
      "cell_type": "markdown",
      "source": [
        "central limit theorem"
      ],
      "metadata": {
        "id": "z4n8UWvjnnWX"
      }
    },
    {
      "cell_type": "code",
      "source": [
        "# repitisi + rata-rata\n",
        "rerata = []\n",
        "for i in range(500):\n",
        "  dadu = np.random.randint(1, 7, 1000)\n",
        "  rerata.append(dadu.mean())"
      ],
      "metadata": {
        "id": "lKUCCLHFmMBz"
      },
      "execution_count": 73,
      "outputs": []
    },
    {
      "cell_type": "code",
      "source": [
        "plt.hist(rerata, bins=100);"
      ],
      "metadata": {
        "colab": {
          "base_uri": "https://localhost:8080/",
          "height": 265
        },
        "id": "AUxG-lsMneKX",
        "outputId": "18bbed65-c274-4b8b-8f5b-a323023d4627"
      },
      "execution_count": 74,
      "outputs": [
        {
          "output_type": "display_data",
          "data": {
            "text/plain": [
              "<Figure size 432x288 with 1 Axes>"
            ],
            "image/png": "[encoded data removed]"
          },
          "metadata": {
            "needs_background": "light"
          }
        }
      ]
    },
    {
      "cell_type": "code",
      "source": [
        "xbar = np.mean(rerata)\n",
        "var = np.var(rerata)\n",
        "print(xbar, var)"
      ],
      "metadata": {
        "colab": {
          "base_uri": "https://localhost:8080/"
        },
        "id": "PJIrdyhlnjJY",
        "outputId": "6c90fc70-baa8-4c23-ec0d-d36ddb530f86"
      },
      "execution_count": 75,
      "outputs": [
        {
          "output_type": "stream",
          "name": "stdout",
          "text": [
            "3.502194 0.0027973803639999993\n"
          ]
        }
      ]
    },
    {
      "cell_type": "code",
      "source": [
        "normal_pdf(xbar, var)"
      ],
      "metadata": {
        "colab": {
          "base_uri": "https://localhost:8080/",
          "height": 265
        },
        "id": "VErcbGOKoLn1",
        "outputId": "ec6414a2-754e-43df-c873-c4a7d5ca421b"
      },
      "execution_count": 81,
      "outputs": [
        {
          "output_type": "display_data",
          "data": {
            "text/plain": [
              "<Figure size 432x288 with 1 Axes>"
            ],
            "image/png": "[encoded data removed]"
          },
          "metadata": {
            "needs_background": "light"
          }
        }
      ]
    },
    {
      "cell_type": "code",
      "source": [
        "# normalisasi\n",
        "rerata = []\n",
        "for i in range(500):\n",
        "  dadu = np.random.randint(1, 7, 1000)\n",
        "  dadu = dadu / 6\n",
        "  rerata.append(dadu.mean())"
      ],
      "metadata": {
        "id": "MpdfT4HsoyNm"
      },
      "execution_count": 79,
      "outputs": []
    },
    {
      "cell_type": "code",
      "source": [
        ""
      ],
      "metadata": {
        "id": "xtJRswiMpqN5"
      },
      "execution_count": 81,
      "outputs": []
    },
    {
      "cell_type": "code",
      "source": [
        ""
      ],
      "metadata": {
        "id": "ea_EIoqBpze_"
      },
      "execution_count": null,
      "outputs": []
    }
  ]
}