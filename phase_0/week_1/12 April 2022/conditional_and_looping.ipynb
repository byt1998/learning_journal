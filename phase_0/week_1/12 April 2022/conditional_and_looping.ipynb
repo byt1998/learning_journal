{
  "nbformat": 4,
  "nbformat_minor": 0,
  "metadata": {
    "colab": {
      "name": "conditional_and_looping.ipynb",
      "provenance": []
    },
    "kernelspec": {
      "name": "python3",
      "display_name": "Python 3"
    },
    "language_info": {
      "name": "python"
    }
  },
  "cells": [
    {
      "cell_type": "code",
      "execution_count": 2,
      "metadata": {
        "colab": {
          "base_uri": "https://localhost:8080/",
          "height": 236
        },
        "id": "faQBN-oOXOZ0",
        "outputId": "f06f204b-9e96-4409-9251-92b7940e1c93"
      },
      "outputs": [
        {
          "output_type": "error",
          "ename": "NameError",
          "evalue": "ignored",
          "traceback": [
            "\u001b[0;31m---------------------------------------------------------------------------\u001b[0m",
            "\u001b[0;31mNameError\u001b[0m                                 Traceback (most recent call last)",
            "\u001b[0;32m<ipython-input-2-956916e758b5>\u001b[0m in \u001b[0;36m<module>\u001b[0;34m()\u001b[0m\n\u001b[0;32m----> 1\u001b[0;31m \u001b[0;32mif\u001b[0m \u001b[0mtrue\u001b[0m\u001b[0;34m:\u001b[0m\u001b[0;34m\u001b[0m\u001b[0;34m\u001b[0m\u001b[0m\n\u001b[0m\u001b[1;32m      2\u001b[0m   \u001b[0ma\u001b[0m \u001b[0;34m=\u001b[0m \u001b[0;36m5\u001b[0m\u001b[0;34m\u001b[0m\u001b[0;34m\u001b[0m\u001b[0m\n\u001b[1;32m      3\u001b[0m   \u001b[0mb\u001b[0m \u001b[0;34m=\u001b[0m \u001b[0;36m2\u001b[0m\u001b[0;34m\u001b[0m\u001b[0;34m\u001b[0m\u001b[0m\n\u001b[1;32m      4\u001b[0m   \u001b[0mjumlah\u001b[0m \u001b[0;34m=\u001b[0m \u001b[0ma\u001b[0m \u001b[0;34m+\u001b[0m \u001b[0mb\u001b[0m\u001b[0;34m\u001b[0m\u001b[0;34m\u001b[0m\u001b[0m\n\u001b[1;32m      5\u001b[0m   \u001b[0mprint\u001b[0m\u001b[0;34m(\u001b[0m\u001b[0mjumlah\u001b[0m\u001b[0;34m)\u001b[0m\u001b[0;34m\u001b[0m\u001b[0;34m\u001b[0m\u001b[0m\n",
            "\u001b[0;31mNameError\u001b[0m: name 'true' is not defined"
          ]
        }
      ],
      "source": [
        "if true:\n",
        "  a = 5\n",
        "  b = 2\n",
        "  jumlah = a + b\n",
        "  print(jumlah)"
      ]
    },
    {
      "cell_type": "code",
      "source": [
        "angka = 35\n",
        "\n",
        "if angka > 30:\n",
        "  print(f'{angka} lebih besar dari 30')"
      ],
      "metadata": {
        "colab": {
          "base_uri": "https://localhost:8080/"
        },
        "id": "ZMbx4qeHXm3F",
        "outputId": "ad238963-5ccd-4b36-c838-5389d5b55b26"
      },
      "execution_count": 6,
      "outputs": [
        {
          "output_type": "stream",
          "name": "stdout",
          "text": [
            "35 lebih besar dari 30\n"
          ]
        }
      ]
    },
    {
      "cell_type": "code",
      "source": [
        "20 > 30"
      ],
      "metadata": {
        "colab": {
          "base_uri": "https://localhost:8080/"
        },
        "id": "Jz234PY_X8ZM",
        "outputId": "7c668080-6529-4479-bf9e-195844a595d6"
      },
      "execution_count": 7,
      "outputs": [
        {
          "output_type": "execute_result",
          "data": {
            "text/plain": [
              "False"
            ]
          },
          "metadata": {},
          "execution_count": 7
        }
      ]
    },
    {
      "cell_type": "code",
      "source": [
        "angka = 20\n",
        "\n",
        "if angka > 30:\n",
        "  print(f'{angka} lebih besar dari 30')\n",
        "else:\n",
        "  print(f'{angka} lebih kecil dari 30')"
      ],
      "metadata": {
        "colab": {
          "base_uri": "https://localhost:8080/"
        },
        "id": "_E97qH3yYPRy",
        "outputId": "a74dc0e5-3114-4b8d-e19d-392906fea56f"
      },
      "execution_count": 9,
      "outputs": [
        {
          "output_type": "stream",
          "name": "stdout",
          "text": [
            "20 lebih kecil dari 30\n"
          ]
        }
      ]
    },
    {
      "cell_type": "code",
      "source": [
        "angka = 30\n",
        "\n",
        "if angka > 30:\n",
        "  print(f'{angka} lebih besar dari 30')\n",
        "elif angka ==30:\n",
        "  print(f'{angka} sama dengan 30')\n",
        "else:\n",
        "  print(f'{angka} lebih kecil dari 30')"
      ],
      "metadata": {
        "colab": {
          "base_uri": "https://localhost:8080/"
        },
        "id": "zzidL6qnYup1",
        "outputId": "dadb72bf-2e3f-495b-9901-7cc627c7c295"
      },
      "execution_count": 12,
      "outputs": [
        {
          "output_type": "stream",
          "name": "stdout",
          "text": [
            "30 sama dengan 30\n"
          ]
        }
      ]
    },
    {
      "cell_type": "code",
      "source": [
        "angka = 40\n",
        "\n",
        "if angka > 30:\n",
        "  print(f'{angka} lebih besar dari 30')\n",
        "if angka ==30:\n",
        "  print(f'{angka} sama dengan 30')\n",
        "else:\n",
        "  print(f'{angka} lebih kecil dari 30')"
      ],
      "metadata": {
        "colab": {
          "base_uri": "https://localhost:8080/"
        },
        "id": "SfMJRvOvaJKu",
        "outputId": "60c64123-db45-411a-b597-4202fd04adfd"
      },
      "execution_count": 15,
      "outputs": [
        {
          "output_type": "stream",
          "name": "stdout",
          "text": [
            "40 lebih besar dari 30\n",
            "40 lebih kecil dari 30\n"
          ]
        }
      ]
    },
    {
      "cell_type": "markdown",
      "source": [
        "jika pyhon menggunakan if 2x atau lebih, maka terjadi seperti di atas, seperti ada pengecheckan baru lagi"
      ],
      "metadata": {
        "id": "Fwa5WJp9aW1D"
      }
    },
    {
      "cell_type": "code",
      "source": [
        "angka = 10\n",
        "\n",
        "if angka > 30:\n",
        "  print(f'{angka} lebih besar dari 30')\n",
        "elif angka ==30:\n",
        "  print(f'{angka} sama dengan 30')\n",
        "elif angka > 20:\n",
        "  print(f'{angka}lebih besar dari 20')\n",
        "else:\n",
        "  print(f'{angka} lebih kecil dari 30')"
      ],
      "metadata": {
        "colab": {
          "base_uri": "https://localhost:8080/"
        },
        "id": "6YNpFdFWavT9",
        "outputId": "47e6e816-ac16-4838-ab98-809010f7d7ca"
      },
      "execution_count": 19,
      "outputs": [
        {
          "output_type": "stream",
          "name": "stdout",
          "text": [
            "10 lebih kecil dari 30\n"
          ]
        }
      ]
    },
    {
      "cell_type": "markdown",
      "source": [
        "Latihan #1 hari ke-2"
      ],
      "metadata": {
        "id": "6_Jv1Gp_bgY7"
      }
    },
    {
      "cell_type": "markdown",
      "source": [
        "- A = [80 - 100]\n",
        "- B = [70 - 80)\n",
        "- C = [60 - 70)\n",
        "- D = [45 - 60)\n",
        "- E = [0 - 45)"
      ],
      "metadata": {
        "id": "QTFV9rW1bzTK"
      }
    },
    {
      "cell_type": "code",
      "source": [
        "# Nested if\n",
        "# A = [80 - 100]\n",
        "# B = [70 - 80)\n",
        "# C = [60 - 70)\n",
        "# D = [45 - 60)\n",
        "# E = [0 - 45)\n",
        "nilai = 100\n",
        "\n",
        "if 0 <= nilai <= 100:\n",
        "  if nilai >= 80:\n",
        "    print('A')\n",
        "  elif nilai >= 70:\n",
        "    print('B')\n",
        "  elif nilai >= 60:\n",
        "    print('C')\n",
        "  elif nilai >= 45:\n",
        "    print('D')\n",
        "  elif nilai >=0:\n",
        "    print('E')\n",
        "else:\n",
        "  print('nilai tidak valid')"
      ],
      "metadata": {
        "colab": {
          "base_uri": "https://localhost:8080/"
        },
        "id": "XytZEm6JcApv",
        "outputId": "ec22a3b0-1d6b-4f22-c282-23296fd2785b"
      },
      "execution_count": 40,
      "outputs": [
        {
          "output_type": "stream",
          "name": "stdout",
          "text": [
            "A\n"
          ]
        }
      ]
    },
    {
      "cell_type": "code",
      "source": [
        "# Menentukan Ganjil atau Genap\n",
        "\n",
        "angka = \n",
        "\n",
        "if angka %2==0:\n",
        "    print('Genap')\n",
        "else:\n",
        "    print('Ganjil')\n"
      ],
      "metadata": {
        "colab": {
          "base_uri": "https://localhost:8080/"
        },
        "id": "ZIutfQCTfGx6",
        "outputId": "490feb8f-9dd0-48c3-b4c1-158e7d23f877"
      },
      "execution_count": 48,
      "outputs": [
        {
          "output_type": "stream",
          "name": "stdout",
          "text": [
            "Ganjil\n"
          ]
        }
      ]
    },
    {
      "cell_type": "code",
      "source": [
        "cities = ['Madura', 'Majalengka', 'Balikpapan']\n",
        "nama_kota = 'Bali'\n",
        "\n",
        "if nama_kota in cities:\n",
        "  print(f'{nama_kota} merupakan kelompok dari cities')\n",
        "else:\n",
        "  print(f'{nama_kota} bukan merupakan kelompok dari cities')"
      ],
      "metadata": {
        "colab": {
          "base_uri": "https://localhost:8080/"
        },
        "id": "qLUwAYI4gWm3",
        "outputId": "062b83e2-ebe8-45a5-fb31-a8d2b5869fbc"
      },
      "execution_count": 4,
      "outputs": [
        {
          "output_type": "stream",
          "name": "stdout",
          "text": [
            "Bali bukan merupakan kelompok dari cities\n"
          ]
        }
      ]
    },
    {
      "cell_type": "code",
      "source": [
        "nama_kota in cities"
      ],
      "metadata": {
        "colab": {
          "base_uri": "https://localhost:8080/"
        },
        "id": "ibAABvEng-No",
        "outputId": "20d0309d-0f87-4083-e3b4-0b6f42076358"
      },
      "execution_count": 50,
      "outputs": [
        {
          "output_type": "execute_result",
          "data": {
            "text/plain": [
              "False"
            ]
          },
          "metadata": {},
          "execution_count": 50
        }
      ]
    },
    {
      "cell_type": "markdown",
      "source": [
        "## Looping"
      ],
      "metadata": {
        "id": "WpxZafbChAmM"
      }
    },
    {
      "cell_type": "markdown",
      "source": [
        "### While Loop"
      ],
      "metadata": {
        "id": "OVZloeT6hJek"
      }
    },
    {
      "cell_type": "code",
      "source": [
        "i = 0\n",
        "\n",
        "while i < 5:\n",
        " print(i)\n",
        " i = i + 1"
      ],
      "metadata": {
        "colab": {
          "base_uri": "https://localhost:8080/"
        },
        "id": "V4AyEdlVhNlJ",
        "outputId": "0d5ddfaf-eab0-4372-b900-f564040795e1"
      },
      "execution_count": 10,
      "outputs": [
        {
          "output_type": "stream",
          "name": "stdout",
          "text": [
            "0\n",
            "1\n",
            "2\n",
            "3\n",
            "4\n"
          ]
        }
      ]
    },
    {
      "cell_type": "code",
      "source": [
        "angka = 0"
      ],
      "metadata": {
        "id": "LRBaQ47MjEsp"
      },
      "execution_count": 2,
      "outputs": []
    },
    {
      "cell_type": "code",
      "source": [
        "angka = angka + 1\n",
        "angka"
      ],
      "metadata": {
        "colab": {
          "base_uri": "https://localhost:8080/"
        },
        "id": "dgb8938VjK4u",
        "outputId": "0c79f363-dd2f-4378-9dad-a0e31f4008ce"
      },
      "execution_count": 4,
      "outputs": [
        {
          "output_type": "execute_result",
          "data": {
            "text/plain": [
              "5"
            ]
          },
          "metadata": {},
          "execution_count": 4
        }
      ]
    },
    {
      "cell_type": "code",
      "source": [
        "i = 1\n",
        "\n",
        "while i <= 10:\n",
        "  print(f'5 x {i} = {5 * i}')\n",
        "  i = i + 1"
      ],
      "metadata": {
        "colab": {
          "base_uri": "https://localhost:8080/"
        },
        "id": "LxoVZuNilJuN",
        "outputId": "56a51030-3046-4d6e-fd49-18b9f0497709"
      },
      "execution_count": 18,
      "outputs": [
        {
          "output_type": "stream",
          "name": "stdout",
          "text": [
            "5 x 1 = 5\n",
            "5 x 2 = 10\n",
            "5 x 3 = 15\n",
            "5 x 4 = 20\n",
            "5 x 5 = 25\n",
            "5 x 6 = 30\n",
            "5 x 7 = 35\n",
            "5 x 8 = 40\n",
            "5 x 9 = 45\n",
            "5 x 10 = 50\n"
          ]
        }
      ]
    },
    {
      "cell_type": "code",
      "source": [
        "i = 1\n",
        "j = 1\n",
        "\n",
        "while i <= 10:\n",
        "  while j <= 10:\n",
        "    print(f'{i} x {j} = {i * j}')\n",
        "    j = j + 1\n",
        "  print('-'*10)\n",
        "  i = i + 1\n",
        "  j = 1\n"
      ],
      "metadata": {
        "colab": {
          "base_uri": "https://localhost:8080/"
        },
        "id": "TQ13udkGmBI-",
        "outputId": "2d76d4ab-c12a-405a-e2dd-95c9c7943f74"
      },
      "execution_count": 14,
      "outputs": [
        {
          "output_type": "stream",
          "name": "stdout",
          "text": [
            "1 x 1 = 1\n",
            "1 x 2 = 2\n",
            "1 x 3 = 3\n",
            "1 x 4 = 4\n",
            "1 x 5 = 5\n",
            "1 x 6 = 6\n",
            "1 x 7 = 7\n",
            "1 x 8 = 8\n",
            "1 x 9 = 9\n",
            "1 x 10 = 10\n",
            "----------\n",
            "2 x 1 = 2\n",
            "2 x 2 = 4\n",
            "2 x 3 = 6\n",
            "2 x 4 = 8\n",
            "2 x 5 = 10\n",
            "2 x 6 = 12\n",
            "2 x 7 = 14\n",
            "2 x 8 = 16\n",
            "2 x 9 = 18\n",
            "2 x 10 = 20\n",
            "----------\n",
            "3 x 1 = 3\n",
            "3 x 2 = 6\n",
            "3 x 3 = 9\n",
            "3 x 4 = 12\n",
            "3 x 5 = 15\n",
            "3 x 6 = 18\n",
            "3 x 7 = 21\n",
            "3 x 8 = 24\n",
            "3 x 9 = 27\n",
            "3 x 10 = 30\n",
            "----------\n",
            "4 x 1 = 4\n",
            "4 x 2 = 8\n",
            "4 x 3 = 12\n",
            "4 x 4 = 16\n",
            "4 x 5 = 20\n",
            "4 x 6 = 24\n",
            "4 x 7 = 28\n",
            "4 x 8 = 32\n",
            "4 x 9 = 36\n",
            "4 x 10 = 40\n",
            "----------\n",
            "5 x 1 = 5\n",
            "5 x 2 = 10\n",
            "5 x 3 = 15\n",
            "5 x 4 = 20\n",
            "5 x 5 = 25\n",
            "5 x 6 = 30\n",
            "5 x 7 = 35\n",
            "5 x 8 = 40\n",
            "5 x 9 = 45\n",
            "5 x 10 = 50\n",
            "----------\n",
            "6 x 1 = 6\n",
            "6 x 2 = 12\n",
            "6 x 3 = 18\n",
            "6 x 4 = 24\n",
            "6 x 5 = 30\n",
            "6 x 6 = 36\n",
            "6 x 7 = 42\n",
            "6 x 8 = 48\n",
            "6 x 9 = 54\n",
            "6 x 10 = 60\n",
            "----------\n",
            "7 x 1 = 7\n",
            "7 x 2 = 14\n",
            "7 x 3 = 21\n",
            "7 x 4 = 28\n",
            "7 x 5 = 35\n",
            "7 x 6 = 42\n",
            "7 x 7 = 49\n",
            "7 x 8 = 56\n",
            "7 x 9 = 63\n",
            "7 x 10 = 70\n",
            "----------\n",
            "8 x 1 = 8\n",
            "8 x 2 = 16\n",
            "8 x 3 = 24\n",
            "8 x 4 = 32\n",
            "8 x 5 = 40\n",
            "8 x 6 = 48\n",
            "8 x 7 = 56\n",
            "8 x 8 = 64\n",
            "8 x 9 = 72\n",
            "8 x 10 = 80\n",
            "----------\n",
            "9 x 1 = 9\n",
            "9 x 2 = 18\n",
            "9 x 3 = 27\n",
            "9 x 4 = 36\n",
            "9 x 5 = 45\n",
            "9 x 6 = 54\n",
            "9 x 7 = 63\n",
            "9 x 8 = 72\n",
            "9 x 9 = 81\n",
            "9 x 10 = 90\n",
            "----------\n",
            "10 x 1 = 10\n",
            "10 x 2 = 20\n",
            "10 x 3 = 30\n",
            "10 x 4 = 40\n",
            "10 x 5 = 50\n",
            "10 x 6 = 60\n",
            "10 x 7 = 70\n",
            "10 x 8 = 80\n",
            "10 x 9 = 90\n",
            "10 x 10 = 100\n",
            "----------\n"
          ]
        }
      ]
    },
    {
      "cell_type": "markdown",
      "source": [
        "## For Loop"
      ],
      "metadata": {
        "id": "DZML26C8hfOl"
      }
    },
    {
      "cell_type": "code",
      "source": [
        "cities = list(cities)\n",
        "cities"
      ],
      "metadata": {
        "colab": {
          "base_uri": "https://localhost:8080/"
        },
        "id": "Fj6JRwP_hhAN",
        "outputId": "28d7ed4b-76ce-4f9a-d608-d8fb07433164"
      },
      "execution_count": 6,
      "outputs": [
        {
          "output_type": "execute_result",
          "data": {
            "text/plain": [
              "['Madura', 'Majalengka', 'Balikpapan']"
            ]
          },
          "metadata": {},
          "execution_count": 6
        }
      ]
    },
    {
      "cell_type": "code",
      "source": [
        "for kota in cities:\n",
        "  print(type(kota), kota)"
      ],
      "metadata": {
        "colab": {
          "base_uri": "https://localhost:8080/"
        },
        "id": "h8rC-VK7ojev",
        "outputId": "87e782a2-d01a-42dc-d059-38103a704c3b"
      },
      "execution_count": 8,
      "outputs": [
        {
          "output_type": "stream",
          "name": "stdout",
          "text": [
            "<class 'str'> Madura\n",
            "<class 'str'> Majalengka\n",
            "<class 'str'> Balikpapan\n"
          ]
        }
      ]
    },
    {
      "cell_type": "code",
      "source": [
        "len(cities)"
      ],
      "metadata": {
        "colab": {
          "base_uri": "https://localhost:8080/"
        },
        "id": "FHThyia9sBSH",
        "outputId": "58605550-9f09-483d-8c30-50af4de2ff84"
      },
      "execution_count": 23,
      "outputs": [
        {
          "output_type": "execute_result",
          "data": {
            "text/plain": [
              "3"
            ]
          },
          "metadata": {},
          "execution_count": 23
        }
      ]
    },
    {
      "cell_type": "code",
      "source": [
        "i = 0\n",
        "\n",
        "while i < len(cities):\n",
        "  print(cities[i])\n",
        "  i += 1                   # i = i + 1"
      ],
      "metadata": {
        "colab": {
          "base_uri": "https://localhost:8080/"
        },
        "id": "e_66XQWNrw9y",
        "outputId": "8f86dbe8-2b04-45f9-8d63-f91348fb2fe5"
      },
      "execution_count": 25,
      "outputs": [
        {
          "output_type": "stream",
          "name": "stdout",
          "text": [
            "Madura\n",
            "Majalengka\n",
            "Balikpapan\n"
          ]
        }
      ]
    },
    {
      "cell_type": "code",
      "source": [
        "for idx in range(len(cities)):\n",
        "  print(cities[idx])"
      ],
      "metadata": {
        "colab": {
          "base_uri": "https://localhost:8080/"
        },
        "id": "UOLm6Gx2saTx",
        "outputId": "1f87c723-5f1d-4922-fa32-a18664336f6b"
      },
      "execution_count": 26,
      "outputs": [
        {
          "output_type": "stream",
          "name": "stdout",
          "text": [
            "Madura\n",
            "Majalengka\n",
            "Balikpapan\n"
          ]
        }
      ]
    },
    {
      "cell_type": "code",
      "source": [
        "for i in range(1,11):\n",
        "  print(f'5*{i} = {5*i}')"
      ],
      "metadata": {
        "colab": {
          "base_uri": "https://localhost:8080/"
        },
        "id": "KJ1wJ8Yvqb2t",
        "outputId": "1042d677-a9b2-48dd-98e9-7f8039bfe28a"
      },
      "execution_count": 20,
      "outputs": [
        {
          "output_type": "stream",
          "name": "stdout",
          "text": [
            "5*1 = 5\n",
            "5*2 = 10\n",
            "5*3 = 15\n",
            "5*4 = 20\n",
            "5*5 = 25\n",
            "5*6 = 30\n",
            "5*7 = 35\n",
            "5*8 = 40\n",
            "5*9 = 45\n",
            "5*10 = 50\n"
          ]
        }
      ]
    },
    {
      "cell_type": "code",
      "source": [
        "\n",
        "for i in range (1,11):\n",
        "  for j in range (1,11):\n",
        "   print(f'{i} x {j} = {i * j}')\n",
        "   j = j + 1\n",
        "  print('-'*10)"
      ],
      "metadata": {
        "id": "n7o0wQfks5qd"
      },
      "execution_count": null,
      "outputs": []
    },
    {
      "cell_type": "code",
      "source": [
        "type(range(1,11))"
      ],
      "metadata": {
        "colab": {
          "base_uri": "https://localhost:8080/"
        },
        "id": "muaeI7HluJ7b",
        "outputId": "1f4a85d2-801a-45bd-c873-b4ce0943cacc"
      },
      "execution_count": 30,
      "outputs": [
        {
          "output_type": "execute_result",
          "data": {
            "text/plain": [
              "range"
            ]
          },
          "metadata": {},
          "execution_count": 30
        }
      ]
    },
    {
      "cell_type": "code",
      "source": [
        "list(range(1,11))"
      ],
      "metadata": {
        "colab": {
          "base_uri": "https://localhost:8080/"
        },
        "id": "ZBRNSR-5uM2-",
        "outputId": "4e797549-230b-41cb-d22d-9d8aa975cf9a"
      },
      "execution_count": 31,
      "outputs": [
        {
          "output_type": "execute_result",
          "data": {
            "text/plain": [
              "[1, 2, 3, 4, 5, 6, 7, 8, 9, 10]"
            ]
          },
          "metadata": {},
          "execution_count": 31
        }
      ]
    },
    {
      "cell_type": "markdown",
      "source": [
        "## Flow Control Statement"
      ],
      "metadata": {
        "id": "F7Ph67fruPgV"
      }
    },
    {
      "cell_type": "code",
      "source": [
        "for i in range(1,11):\n",
        "  print(i)"
      ],
      "metadata": {
        "colab": {
          "base_uri": "https://localhost:8080/"
        },
        "id": "_zSA-rXjuR5w",
        "outputId": "2218b333-5dab-442f-aa73-e726aa56ab1c"
      },
      "execution_count": 32,
      "outputs": [
        {
          "output_type": "stream",
          "name": "stdout",
          "text": [
            "1\n",
            "2\n",
            "3\n",
            "4\n",
            "5\n",
            "6\n",
            "7\n",
            "8\n",
            "9\n",
            "10\n"
          ]
        }
      ]
    },
    {
      "cell_type": "code",
      "source": [
        "for i in range(1,11):\n",
        "  print(i)\n",
        "  if i == 6:\n",
        "    break"
      ],
      "metadata": {
        "colab": {
          "base_uri": "https://localhost:8080/"
        },
        "id": "5skKpHC5uikx",
        "outputId": "45a9a12c-e478-4861-e188-5f0a7bd083e3"
      },
      "execution_count": 36,
      "outputs": [
        {
          "output_type": "stream",
          "name": "stdout",
          "text": [
            "1\n",
            "2\n",
            "3\n",
            "4\n",
            "5\n",
            "6\n"
          ]
        }
      ]
    },
    {
      "cell_type": "code",
      "source": [
        "for i in range(1,11):\n",
        "  print(i)\n",
        "  if i == 6:\n",
        "    continue"
      ],
      "metadata": {
        "colab": {
          "base_uri": "https://localhost:8080/"
        },
        "id": "yHaouHGSuxF1",
        "outputId": "3a003aef-bf3f-4494-de68-6431c64fc968"
      },
      "execution_count": 37,
      "outputs": [
        {
          "output_type": "stream",
          "name": "stdout",
          "text": [
            "1\n",
            "2\n",
            "3\n",
            "4\n",
            "5\n",
            "6\n",
            "7\n",
            "8\n",
            "9\n",
            "10\n"
          ]
        }
      ]
    },
    {
      "cell_type": "code",
      "source": [
        "for i in range(1,11):\n",
        "  if i in [4,6,7]:\n",
        "    continue\n",
        "  print(i)"
      ],
      "metadata": {
        "colab": {
          "base_uri": "https://localhost:8080/"
        },
        "id": "d84zuZ20uzxR",
        "outputId": "880f0887-817c-4259-c250-77f471cd371f"
      },
      "execution_count": 38,
      "outputs": [
        {
          "output_type": "stream",
          "name": "stdout",
          "text": [
            "1\n",
            "2\n",
            "3\n",
            "5\n",
            "8\n",
            "9\n",
            "10\n"
          ]
        }
      ]
    }
  ]
}