{
 "cells": [
  {
   "cell_type": "code",
   "execution_count": 9,
   "metadata": {},
   "outputs": [],
   "source": [
    "import numpy as np\n",
    "import matplotlib.pyplot as plt\n",
    "import scipy as sp"
   ]
  },
  {
   "cell_type": "markdown",
   "metadata": {},
   "source": [
    "## **Non Graded Challenge 5 - Linear Algebra - Eigendecomposition**\n",
    "\n",
    "### Assignment Instructions\n",
    "\n",
    "Apakah [1, 3] adalah eigenvector dari [[ 1, -1], [ 6,  4]] Jika iya, berapakah eigenvalue-nya "
   ]
  },
  {
   "cell_type": "markdown",
   "metadata": {},
   "source": [
    "### Answer"
   ]
  },
  {
   "cell_type": "code",
   "execution_count": 18,
   "metadata": {},
   "outputs": [
    {
     "name": "stdout",
     "output_type": "stream",
     "text": [
      "Formula to of eigen-vector and eigen-value \n",
      "\n",
      "A⋅x = λx\n"
     ]
    }
   ],
   "source": [
    "print(\"Formula to of eigen-vector and eigen-value \\n\")\n",
    "print(\"A⋅x = λx\") \n"
   ]
  },
  {
   "cell_type": "code",
   "execution_count": 19,
   "metadata": {},
   "outputs": [
    {
     "name": "stdout",
     "output_type": "stream",
     "text": [
      "So, if we want to get eigen-value :\n",
      "\n",
      "λ = A⋅x/x\n"
     ]
    }
   ],
   "source": [
    "print(\"So, if we want to get eigen-value :\\n\")\n",
    "\n",
    "print(\"λ = A⋅x/x\")"
   ]
  },
  {
   "cell_type": "code",
   "execution_count": 20,
   "metadata": {},
   "outputs": [
    {
     "data": {
      "text/plain": [
       "array([-2.,  6.])"
      ]
     },
     "execution_count": 20,
     "metadata": {},
     "output_type": "execute_result"
    }
   ],
   "source": [
    "v = np.array ([[1,-1], [6,4]]) # Matriks\n",
    "w = np.array([1,3]) # Eigen Vector\n",
    "\n",
    "# kita bisa tau eigenvalue dari perkalian dot product dari matriks dikali eigen vector\n",
    "# maka akan menghasilkan perkalian matriks dengan eigen vector\n",
    "p = v@w/w\n",
    "p"
   ]
  },
  {
   "cell_type": "code",
   "execution_count": 21,
   "metadata": {},
   "outputs": [
    {
     "data": {
      "text/plain": [
       "array([[ 1, -1],\n",
       "       [ 6,  4]])"
      ]
     },
     "execution_count": 21,
     "metadata": {},
     "output_type": "execute_result"
    }
   ],
   "source": [
    "v"
   ]
  },
  {
   "cell_type": "code",
   "execution_count": 22,
   "metadata": {},
   "outputs": [
    {
     "data": {
      "text/plain": [
       "array([1, 3])"
      ]
     },
     "execution_count": 22,
     "metadata": {},
     "output_type": "execute_result"
    }
   ],
   "source": [
    "w"
   ]
  },
  {
   "cell_type": "code",
   "execution_count": 23,
   "metadata": {},
   "outputs": [
    {
     "name": "stdout",
     "output_type": "stream",
     "text": [
      "**Conclusion**\n",
      "\n",
      "Because it display -2 and 6, we can say that [1, 3] is not eigen vector of [[1, -1], [6, 4]]\n"
     ]
    }
   ],
   "source": [
    "# Conclusion\n",
    "print(\"**Conclusion**\\n\")\n",
    "print(\"Because it display -2 and 6, we can say that [1, 3] is not eigen vector of [[1, -1], [6, 4]]\")"
   ]
  },
  {
   "cell_type": "code",
   "execution_count": 11,
   "metadata": {},
   "outputs": [
    {
     "name": "stdout",
     "output_type": "stream",
     "text": [
      "maka eigen value adalah =  (2.5+1.9364916731037085j) (2.5-1.9364916731037085j)\n"
     ]
    }
   ],
   "source": [
    "# (A - lamdaI) akan menghasilkan lamda2 - 5lamda +10 = 0\n",
    "# lamda = x\n",
    "# Menyelesaikan persamaan kuadrat x2 - 5x + 10 = 0\n",
    "# Input koefisien dari keyboard\n",
    "a = 1\n",
    "b = -5\n",
    "c = 10\n",
    "# hitung diskriminan d\n",
    "d = (b**2) - (4*a*c)\n",
    "# menemukan x1 dan x2\n",
    "x1 = (-b+np.lib.scimath.sqrt(d))/(2*a)\n",
    "x2 = (-b-np.lib.scimath.sqrt(d))/(2*a)\n",
    "print(\"maka eigen value adalah = \", x1, x2)"
   ]
  },
  {
   "cell_type": "code",
   "execution_count": 12,
   "metadata": {},
   "outputs": [],
   "source": [
    "eig_val, eig_vec = np.linalg.eig(v)"
   ]
  },
  {
   "cell_type": "code",
   "execution_count": 13,
   "metadata": {},
   "outputs": [
    {
     "data": {
      "text/plain": [
       "array([2.5+1.93649167j, 2.5-1.93649167j])"
      ]
     },
     "execution_count": 13,
     "metadata": {},
     "output_type": "execute_result"
    }
   ],
   "source": [
    "eig_val\n"
   ]
  },
  {
   "cell_type": "code",
   "execution_count": 6,
   "metadata": {},
   "outputs": [
    {
     "name": "stdout",
     "output_type": "stream",
     "text": [
      "makan nilai eigen vectornya = \n",
      " [[-0.23145502+0.29880715j -0.23145502-0.29880715j]\n",
      " [ 0.9258201 +0.j          0.9258201 -0.j        ]]\n"
     ]
    }
   ],
   "source": [
    "print(\"makan nilai eigen vectornya = \\n\", eig_vec)"
   ]
  },
  {
   "cell_type": "code",
   "execution_count": 7,
   "metadata": {},
   "outputs": [
    {
     "data": {
      "text/plain": [
       "array([2.5, 2.5])"
      ]
     },
     "execution_count": 7,
     "metadata": {},
     "output_type": "execute_result"
    }
   ],
   "source": [
    "eig_val.real"
   ]
  },
  {
   "cell_type": "code",
   "execution_count": 8,
   "metadata": {},
   "outputs": [
    {
     "data": {
      "text/plain": [
       "array([[-0.23145502, -0.23145502],\n",
       "       [ 0.9258201 ,  0.9258201 ]])"
      ]
     },
     "execution_count": 8,
     "metadata": {},
     "output_type": "execute_result"
    }
   ],
   "source": [
    "eig_vec.real"
   ]
  },
  {
   "cell_type": "code",
   "execution_count": null,
   "metadata": {},
   "outputs": [],
   "source": []
  }
 ],
 "metadata": {
  "interpreter": {
   "hash": "747336235d6fa51a5aec62dabc37dbed4a219e89925a929a250b1ebbc395e57e"
  },
  "kernelspec": {
   "display_name": "Python 3.8.5 ('base')",
   "language": "python",
   "name": "python3"
  },
  "language_info": {
   "codemirror_mode": {
    "name": "ipython",
    "version": 3
   },
   "file_extension": ".py",
   "mimetype": "text/x-python",
   "name": "python",
   "nbconvert_exporter": "python",
   "pygments_lexer": "ipython3",
   "version": "3.8.5"
  },
  "orig_nbformat": 4
 },
 "nbformat": 4,
 "nbformat_minor": 2
}
