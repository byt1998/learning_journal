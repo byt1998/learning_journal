{
  "cells": [
    {
      "cell_type": "markdown",
      "metadata": {
        "id": "u14pLPduNOS3"
      },
      "source": [
        "# **EIGEN**"
      ]
    },
    {
      "cell_type": "code",
      "execution_count": 1,
      "metadata": {
        "id": "74JaveeOnbaf"
      },
      "outputs": [],
      "source": [
        "import numpy as np\n",
        "import matplotlib.pyplot as plt"
      ]
    },
    {
      "cell_type": "code",
      "execution_count": 2,
      "metadata": {
        "id": "e_kvk-gBVdej"
      },
      "outputs": [],
      "source": [
        "def plot_vector2d(vector2d, origin=[0, 0], **options):\n",
        "    return plt.arrow(origin[0], origin[1], vector2d[0], vector2d[1],\n",
        "              head_width=0.2, head_length=0.3, length_includes_head=True,\n",
        "              **options)"
      ]
    },
    {
      "cell_type": "code",
      "execution_count": 37,
      "metadata": {
        "id": "1vH6XajJVj7s"
      },
      "outputs": [],
      "source": [
        "a = np.array([1,2])\n",
        "T = np.array([[1, 2],\n",
        "              [2, 4]])"
      ]
    },
    {
      "cell_type": "code",
      "execution_count": 38,
      "metadata": {
        "colab": {
          "base_uri": "https://localhost:8080/",
          "height": 269
        },
        "id": "xMlqSeuRVgsY",
        "outputId": "4e294ff2-2e75-4f3e-8d0d-94699917db4d"
      },
      "outputs": [
        {
          "data": {
            "image/png": "[encoded data removed]",
            "text/plain": [
              "<Figure size 432x288 with 1 Axes>"
            ]
          },
          "metadata": {
            "needs_background": "light"
          },
          "output_type": "display_data"
        }
      ],
      "source": [
        "plot_vector2d(a, color='b')\n",
        "plot_vector2d(a@T, color='g')\n",
        "\n",
        "plt.plot([0,0], [-6,6], color='green')\n",
        "plt.axis([-6, 6, -6, 6])\n",
        "plt.grid()"
      ]
    },
    {
      "cell_type": "code",
      "execution_count": 39,
      "metadata": {
        "colab": {
          "base_uri": "https://localhost:8080/"
        },
        "id": "kMTOMcqeWTSu",
        "outputId": "f9f864c6-d8b4-470e-ccce-1b454a100d82"
      },
      "outputs": [
        {
          "data": {
            "text/plain": [
              "array([ 5, 10])"
            ]
          },
          "execution_count": 39,
          "metadata": {},
          "output_type": "execute_result"
        }
      ],
      "source": [
        "a@T"
      ]
    },
    {
      "cell_type": "code",
      "execution_count": 10,
      "metadata": {
        "colab": {
          "base_uri": "https://localhost:8080/",
          "height": 269
        },
        "id": "tUpDnaSzYQPS",
        "outputId": "24d7b13c-79a0-466d-91ee-4274637a29f9"
      },
      "outputs": [
        {
          "data": {
            "image/png": "[encoded data removed]",
            "text/plain": [
              "<Figure size 432x288 with 1 Axes>"
            ]
          },
          "metadata": {
            "needs_background": "light"
          },
          "output_type": "display_data"
        }
      ],
      "source": [
        "plot_vector2d(a, color='b')\n",
        "plot_vector2d(-1.6*a, color='r')\n",
        "\n",
        "plt.plot([0,0], [-6,6], color='green')\n",
        "plt.axhline(0, color='green')\n",
        "plt.axis([-6, 6, -6, 6])\n",
        "plt.grid()"
      ]
    },
    {
      "cell_type": "markdown",
      "metadata": {
        "id": "cRj0F0-OiWNN"
      },
      "source": [
        "## **eigen**"
      ]
    },
    {
      "cell_type": "code",
      "execution_count": 11,
      "metadata": {
        "colab": {
          "base_uri": "https://localhost:8080/"
        },
        "id": "Q983NZN3iVjk",
        "outputId": "04d50207-2bd0-4023-a6cd-ffd501dcfc07"
      },
      "outputs": [
        {
          "data": {
            "text/plain": [
              "array([[1, 2],\n",
              "       [2, 4]])"
            ]
          },
          "execution_count": 11,
          "metadata": {},
          "output_type": "execute_result"
        }
      ],
      "source": [
        "A = np.array([[1, 2],\n",
        "              [2, 4]])\n",
        "A"
      ]
    },
    {
      "cell_type": "code",
      "execution_count": 12,
      "metadata": {
        "id": "5Bont6hGiiAU"
      },
      "outputs": [],
      "source": [
        "# eigen decomposition, nilai eigen value dengen eigen vector selalu berpasangan\n",
        "eig_val, eig_vec = np.linalg.eig(A)"
      ]
    },
    {
      "cell_type": "code",
      "execution_count": 13,
      "metadata": {
        "colab": {
          "base_uri": "https://localhost:8080/"
        },
        "id": "bJzd-nHUisd4",
        "outputId": "1514f601-dabe-4068-a25c-7b3f342f6b12"
      },
      "outputs": [
        {
          "data": {
            "text/plain": [
              "array([0., 5.])"
            ]
          },
          "execution_count": 13,
          "metadata": {},
          "output_type": "execute_result"
        }
      ],
      "source": [
        "eig_val"
      ]
    },
    {
      "cell_type": "code",
      "execution_count": 14,
      "metadata": {
        "colab": {
          "base_uri": "https://localhost:8080/"
        },
        "id": "0j_ZIV2Xit2q",
        "outputId": "2bf2f870-4b2c-4402-cb52-ebddf7c50554"
      },
      "outputs": [
        {
          "data": {
            "text/plain": [
              "array([[-0.89442719, -0.4472136 ],\n",
              "       [ 0.4472136 , -0.89442719]])"
            ]
          },
          "execution_count": 14,
          "metadata": {},
          "output_type": "execute_result"
        }
      ],
      "source": [
        "eig_vec # hasil dalam vector unit / satuan merupakan hasil dari 1/akar 5"
      ]
    },
    {
      "cell_type": "code",
      "execution_count": 15,
      "metadata": {
        "colab": {
          "base_uri": "https://localhost:8080/"
        },
        "id": "Y4c5JVu7jPKw",
        "outputId": "825556dc-665d-4671-ae9b-ca166d294619"
      },
      "outputs": [
        {
          "data": {
            "text/plain": [
              "[0.4472135954999579, 0.8944271909999159]"
            ]
          },
          "execution_count": 15,
          "metadata": {},
          "output_type": "execute_result"
        }
      ],
      "source": [
        "[1/np.sqrt(5), 2/np.sqrt(5)]"
      ]
    },
    {
      "cell_type": "code",
      "execution_count": 46,
      "metadata": {},
      "outputs": [
        {
          "data": {
            "text/plain": [
              "[2.23606797749979, 4.47213595499958]"
            ]
          },
          "execution_count": 46,
          "metadata": {},
          "output_type": "execute_result"
        }
      ],
      "source": [
        "[1*np.sqrt(5), 2*np.sqrt(5)]"
      ]
    },
    {
      "cell_type": "code",
      "execution_count": 16,
      "metadata": {
        "colab": {
          "base_uri": "https://localhost:8080/"
        },
        "id": "MkjFv8OVj2YE",
        "outputId": "d97f4ed9-d7c8-4da8-e0e8-500fc43450f9"
      },
      "outputs": [
        {
          "data": {
            "text/plain": [
              "array([[-0.89442719, -0.4472136 ],\n",
              "       [ 0.4472136 , -0.89442719]])"
            ]
          },
          "execution_count": 16,
          "metadata": {},
          "output_type": "execute_result"
        }
      ],
      "source": [
        "# eigen reconstruction\n",
        "eig_vec"
      ]
    },
    {
      "cell_type": "code",
      "execution_count": 17,
      "metadata": {
        "colab": {
          "base_uri": "https://localhost:8080/"
        },
        "id": "gsFSV2eYkX_G",
        "outputId": "f5767794-e98f-46e3-9e33-6a8708e4e338"
      },
      "outputs": [
        {
          "data": {
            "text/plain": [
              "array([[0., 0.],\n",
              "       [0., 5.]])"
            ]
          },
          "execution_count": 17,
          "metadata": {},
          "output_type": "execute_result"
        }
      ],
      "source": [
        "np.diag(eig_val)"
      ]
    },
    {
      "cell_type": "code",
      "execution_count": 18,
      "metadata": {
        "colab": {
          "base_uri": "https://localhost:8080/"
        },
        "id": "sxHKbZ5KkfcV",
        "outputId": "e9a520c5-a751-46c6-a42b-c0c1093bd6dc"
      },
      "outputs": [
        {
          "data": {
            "text/plain": [
              "array([[-0.89442719,  0.4472136 ],\n",
              "       [-0.4472136 , -0.89442719]])"
            ]
          },
          "execution_count": 18,
          "metadata": {},
          "output_type": "execute_result"
        }
      ],
      "source": [
        "np.linalg.inv(eig_vec)"
      ]
    },
    {
      "cell_type": "code",
      "execution_count": 21,
      "metadata": {
        "colab": {
          "base_uri": "https://localhost:8080/"
        },
        "id": "JclTO9v6kltx",
        "outputId": "d662f061-5821-4f43-8dcb-611813783a03"
      },
      "outputs": [
        {
          "data": {
            "text/plain": [
              "array([[1., 2.],\n",
              "       [2., 4.]])"
            ]
          },
          "execution_count": 21,
          "metadata": {},
          "output_type": "execute_result"
        }
      ],
      "source": [
        "M_reconst = eig_vec @ np.diag(eig_val) @ np.linalg.inv(eig_vec)\n",
        "M_reconst"
      ]
    },
    {
      "cell_type": "code",
      "execution_count": 22,
      "metadata": {
        "colab": {
          "base_uri": "https://localhost:8080/"
        },
        "id": "FZ7Mu3QgkxwY",
        "outputId": "a65eedaf-6984-42c9-ff9c-a71f0de70f64"
      },
      "outputs": [
        {
          "data": {
            "text/plain": [
              "array([[1, 2],\n",
              "       [2, 4]])"
            ]
          },
          "execution_count": 22,
          "metadata": {},
          "output_type": "execute_result"
        }
      ],
      "source": [
        "A"
      ]
    },
    {
      "cell_type": "markdown",
      "metadata": {
        "id": "5i_hZOEWmUEF"
      },
      "source": [
        "## **Case Study: Social Media Analysis**"
      ]
    },
    {
      "cell_type": "code",
      "execution_count": 23,
      "metadata": {
        "colab": {
          "base_uri": "https://localhost:8080/"
        },
        "id": "HlH4ZNzLmTvG",
        "outputId": "940b3a45-44aa-4275-a6f9-25aab1912f21"
      },
      "outputs": [
        {
          "data": {
            "text/plain": [
              "array([[0.  , 0.25, 0.  , 0.5 , 0.  , 0.  ],\n",
              "       [0.  , 0.  , 0.  , 0.  , 0.  , 0.  ],\n",
              "       [0.5 , 0.25, 0.  , 0.  , 0.  , 0.5 ],\n",
              "       [0.5 , 0.25, 0.  , 0.  , 0.  , 0.5 ],\n",
              "       [0.  , 0.25, 0.  , 0.5 , 0.  , 0.  ],\n",
              "       [0.  , 0.  , 0.  , 0.  , 0.  , 0.  ]])"
            ]
          },
          "execution_count": 23,
          "metadata": {},
          "output_type": "execute_result"
        }
      ],
      "source": [
        "# buat bentuk matriksnya\n",
        "matriks = np.array([[0, 1/4, 0, 1/2, 0, 0],\n",
        "                    [0, 0, 0, 0, 0, 0],\n",
        "                    [1/2, 1/4, 0, 0, 0, 1/2],\n",
        "                    [1/2, 1/4, 0, 0, 0, 1/2],\n",
        "                    [0, 1/4, 0, 1/2, 0, 0],\n",
        "                    [0, 0, 0, 0, 0, 0]])\n",
        "matriks"
      ]
    },
    {
      "cell_type": "code",
      "execution_count": 24,
      "metadata": {
        "id": "kNu56B7ypYV4"
      },
      "outputs": [],
      "source": [
        "# cari eigen value dan vector\n",
        "eigval, eigvec = np.linalg.eig(matriks)"
      ]
    },
    {
      "cell_type": "code",
      "execution_count": 25,
      "metadata": {
        "colab": {
          "base_uri": "https://localhost:8080/"
        },
        "id": "l27iFxdIpkGA",
        "outputId": "0ffd2153-f767-497a-c952-1bffbaac0948"
      },
      "outputs": [
        {
          "data": {
            "text/plain": [
              "array([ 0. ,  0. ,  0.5, -0.5,  0. ,  0. ])"
            ]
          },
          "execution_count": 25,
          "metadata": {},
          "output_type": "execute_result"
        }
      ],
      "source": [
        "eigval"
      ]
    },
    {
      "cell_type": "code",
      "execution_count": 30,
      "metadata": {
        "colab": {
          "base_uri": "https://localhost:8080/"
        },
        "id": "MTwRblz3plHh",
        "outputId": "b856cf3a-c916-46d8-c819-d43cddf2af5d"
      },
      "outputs": [
        {
          "data": {
            "text/plain": [
              "array([[ 0.00000000e+000,  0.00000000e+000,  5.00000000e-001,\n",
              "        -5.00000000e-001, -2.55878898e-276, -2.29441643e-276],\n",
              "       [ 0.00000000e+000,  0.00000000e+000,  0.00000000e+000,\n",
              "         0.00000000e+000,  5.11757796e-276,  0.00000000e+000],\n",
              "       [ 0.00000000e+000,  1.00000000e+000,  5.00000000e-001,\n",
              "         5.00000000e-001,  5.27160038e-001,  2.98392024e-001],\n",
              "       [ 0.00000000e+000,  0.00000000e+000,  5.00000000e-001,\n",
              "         5.00000000e-001, -2.55878898e-276,  1.14629128e-291],\n",
              "       [ 1.00000000e+000,  0.00000000e+000,  5.00000000e-001,\n",
              "        -5.00000000e-001, -8.49766023e-001, -9.54443398e-001],\n",
              "       [ 0.00000000e+000,  0.00000000e+000,  0.00000000e+000,\n",
              "         0.00000000e+000,  0.00000000e+000,  2.29441643e-276]])"
            ]
          },
          "execution_count": 30,
          "metadata": {},
          "output_type": "execute_result"
        }
      ],
      "source": [
        "eigvec"
      ]
    },
    {
      "cell_type": "code",
      "execution_count": 27,
      "metadata": {
        "colab": {
          "base_uri": "https://localhost:8080/"
        },
        "id": "cp5kj0PVqVNJ",
        "outputId": "5e403a82-cba1-4eae-f426-28859a0fc8c9"
      },
      "outputs": [
        {
          "data": {
            "text/plain": [
              "2"
            ]
          },
          "execution_count": 27,
          "metadata": {},
          "output_type": "execute_result"
        }
      ],
      "source": [
        "# cari posisi eigen value terbesar\n",
        "np.argmax(eigval)"
      ]
    },
    {
      "cell_type": "code",
      "execution_count": 31,
      "metadata": {
        "colab": {
          "base_uri": "https://localhost:8080/"
        },
        "id": "12Jx4OAWqoNr",
        "outputId": "d85b1f50-97a3-4654-e249-d6dc71320ad2"
      },
      "outputs": [
        {
          "data": {
            "text/plain": [
              "1"
            ]
          },
          "execution_count": 31,
          "metadata": {},
          "output_type": "execute_result"
        }
      ],
      "source": [
        "# cari posisi eigen vector terbesar dari pasangan eigen value sebelumnya\n",
        "np.argmax(eigvec[2])"
      ]
    },
    {
      "cell_type": "markdown",
      "metadata": {
        "id": "2aREm-pZrF-e"
      },
      "source": [
        "urutan ke-1, atau B, merupakan sosok paling berpengaruh di lingkungannya berdasarkan perhitungan pagerank."
      ]
    },
    {
      "cell_type": "code",
      "execution_count": null,
      "metadata": {
        "colab": {
          "base_uri": "https://localhost:8080/"
        },
        "id": "F5BDyFHgrV9z",
        "outputId": "392ecf7e-1a3f-4544-fec3-6f9af1b1ff56"
      },
      "outputs": [
        {
          "data": {
            "text/plain": [
              "1"
            ]
          },
          "execution_count": 43,
          "metadata": {},
          "output_type": "execute_result"
        }
      ],
      "source": [
        "# chaining\n",
        "np.argmax(eigvec[np.argmax(eigval)])"
      ]
    },
    {
      "cell_type": "code",
      "execution_count": null,
      "metadata": {
        "colab": {
          "base_uri": "https://localhost:8080/"
        },
        "id": "FO2vZ8GHsQ2L",
        "outputId": "8f597815-d1ac-4356-b365-20e972dffac8"
      },
      "outputs": [
        {
          "data": {
            "text/plain": [
              "0.5000000000000001"
            ]
          },
          "execution_count": 44,
          "metadata": {},
          "output_type": "execute_result"
        }
      ],
      "source": [
        "# return eigval terbesar\n",
        "eigval.max()"
      ]
    },
    {
      "cell_type": "code",
      "execution_count": null,
      "metadata": {
        "colab": {
          "base_uri": "https://localhost:8080/"
        },
        "id": "XVjKFnj0saNS",
        "outputId": "d940a1c8-9bd8-4c96-a567-6355c72a7f24"
      },
      "outputs": [
        {
          "data": {
            "text/plain": [
              "1.0"
            ]
          },
          "execution_count": 48,
          "metadata": {},
          "output_type": "execute_result"
        }
      ],
      "source": [
        "# return eigvector terbesar\n",
        "eigvec[2].max()"
      ]
    },
    {
      "cell_type": "code",
      "execution_count": 36,
      "metadata": {
        "colab": {
          "base_uri": "https://localhost:8080/"
        },
        "id": "h-Xo0Oves9-P",
        "outputId": "2a91ffdb-6caa-416c-d004-312a6ed85e7a"
      },
      "outputs": [
        {
          "data": {
            "text/plain": [
              "array([[ 0.     ,  0.     ,  0.5    , -0.5    , -0.     , -0.     ],\n",
              "       [ 0.     ,  0.     ,  0.     ,  0.     ,  0.     ,  0.     ],\n",
              "       [ 0.     ,  1.     ,  0.5    ,  0.5    ,  0.52716,  0.29839],\n",
              "       [ 0.     ,  0.     ,  0.5    ,  0.5    , -0.     ,  0.     ],\n",
              "       [ 1.     ,  0.     ,  0.5    , -0.5    , -0.84977, -0.95444],\n",
              "       [ 0.     ,  0.     ,  0.     ,  0.     ,  0.     ,  0.     ]])"
            ]
          },
          "execution_count": 36,
          "metadata": {},
          "output_type": "execute_result"
        }
      ],
      "source": [
        "np.around(eigvec, 5)"
      ]
    },
    {
      "cell_type": "code",
      "execution_count": null,
      "metadata": {},
      "outputs": [],
      "source": []
    },
    {
      "cell_type": "code",
      "execution_count": null,
      "metadata": {},
      "outputs": [],
      "source": []
    }
  ],
  "metadata": {
    "colab": {
      "collapsed_sections": [],
      "name": "P0W2D2PM-EIGEN_DECOMPOSITION.ipynb",
      "provenance": []
    },
    "kernelspec": {
      "display_name": "Python 3",
      "name": "python3"
    },
    "language_info": {
      "codemirror_mode": {
        "name": "ipython",
        "version": 3
      },
      "file_extension": ".py",
      "mimetype": "text/x-python",
      "name": "python",
      "nbconvert_exporter": "python",
      "pygments_lexer": "ipython3",
      "version": "3.8.5"
    }
  },
  "nbformat": 4,
  "nbformat_minor": 0
}
