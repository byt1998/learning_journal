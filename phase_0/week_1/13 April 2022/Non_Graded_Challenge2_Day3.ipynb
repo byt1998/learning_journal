{
 "cells": [
  {
   "cell_type": "code",
   "execution_count": 14,
   "metadata": {},
   "outputs": [
    {
     "name": "stdout",
     "output_type": "stream",
     "text": [
      "30 derajat Kelvin = -243.1 derajat Celcius\n",
      "30 derajat Kelvin = -1.1 derajat Fahrenheit\n"
     ]
    }
   ],
   "source": [
    "suhu = input(\"Suhu (Misalnya: 20C, 55K, 80F) =  \")\n",
    "\n",
    "drjt = int(suhu[:-1])\n",
    "inputan = suhu[-1]\n",
    "satuan1 = \"derajat Celcius\"\n",
    "satuan2 = \"derajat Fahrenheit\"\n",
    "satuan3 = \"derajat Kelvin\"\n",
    "celcius_fahrenheit = float((9 * drjt) / 5 + 32)\n",
    "celcius_kelvin = float(drjt + 273.15)\n",
    "kelvin_celcius = float(drjt - 273.15)\n",
    "kelvin_fahrenheit = float(((drjt - 273.15) * 9 / 5)+32)\n",
    "fahrenheit_celcius = float((drjt - 32) * 5 / 9)\n",
    "fahrenheit_kelvin = float(((drjt - 32) * 5 / 9) + 273.15)\n",
    "\n",
    "if inputan.upper() == \"C\":\n",
    "  print(drjt,satuan1,\"=\",\"{:.1f}\".format(celcius_kelvin),satuan3)\n",
    "  print(drjt,satuan1,\"=\",\"{:.1f}\".format(celcius_fahrenheit),satuan2)\n",
    "elif inputan.upper() == \"K\":\n",
    "  print(drjt,satuan3,\"=\",\"{:.1f}\".format(kelvin_celcius),satuan1)\n",
    "  print(drjt,satuan3,\"=\",\"{:.1f}\".format(fahrenheit_celcius),satuan2)\n",
    "elif inputan.upper() == \"F\":\n",
    "  print(drjt,satuan2,\"=\",\"{:.1f}\".format(fahrenheit_celcius),satuan1)\n",
    "  print(drjt,satuan2,\"=\",\"{:.1f}\".format(fahrenheit_kelvin),satuan3)\n",
    "else:\n",
    "   print(\"Inputan tidak sesuai!! Perhatikan Penulisan Input\")\n",
    "\n",
    "\n"
   ]
  },
  {
   "cell_type": "code",
   "execution_count": null,
   "metadata": {},
   "outputs": [],
   "source": []
  },
  {
   "cell_type": "code",
   "execution_count": null,
   "metadata": {},
   "outputs": [],
   "source": []
  }
 ],
 "metadata": {
  "interpreter": {
   "hash": "747336235d6fa51a5aec62dabc37dbed4a219e89925a929a250b1ebbc395e57e"
  },
  "kernelspec": {
   "display_name": "Python 3.8.5 ('base')",
   "language": "python",
   "name": "python3"
  },
  "language_info": {
   "codemirror_mode": {
    "name": "ipython",
    "version": 3
   },
   "file_extension": ".py",
   "mimetype": "text/x-python",
   "name": "python",
   "nbconvert_exporter": "python",
   "pygments_lexer": "ipython3",
   "version": "3.8.5"
  },
  "orig_nbformat": 4
 },
 "nbformat": 4,
 "nbformat_minor": 2
}
