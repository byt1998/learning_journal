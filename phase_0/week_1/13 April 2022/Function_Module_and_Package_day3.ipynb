{
  "cells": [
    {
      "cell_type": "code",
      "execution_count": 3,
      "metadata": {
        "id": "1ySpnMPplAtQ"
      },
      "outputs": [],
      "source": [
        "def function_name ( parameters ):\n",
        "  '''\n",
        "  docstring\n",
        "  '''\n",
        "  statement(s)"
      ]
    },
    {
      "cell_type": "code",
      "execution_count": 4,
      "metadata": {
        "id": "W6mzXyF-lo-4"
      },
      "outputs": [],
      "source": [
        "def fungsi_cetak(variabel):\n",
        "  '''\n",
        "  ini adalah fungsi cetak\n",
        "  '''\n",
        "  print(f'saya ingin mencetak {variabel}')"
      ]
    },
    {
      "cell_type": "code",
      "execution_count": 5,
      "metadata": {
        "colab": {
          "base_uri": "https://localhost:8080/"
        },
        "id": "eM_T21dTl5aF",
        "outputId": "db431b03-74a8-450a-d50a-4dea39fa821e"
      },
      "outputs": [
        {
          "name": "stdout",
          "output_type": "stream",
          "text": [
            "saya ingin mencetak Enggar\n"
          ]
        }
      ],
      "source": [
        "fungsi_cetak('Enggar')"
      ]
    },
    {
      "cell_type": "code",
      "execution_count": 6,
      "metadata": {
        "id": "_1X4z4TEmO1h"
      },
      "outputs": [],
      "source": [
        "def fungsi_cetak(variabel, var2):\n",
        "  '''\n",
        "  ini adalah fungsi cetak\n",
        "  '''\n",
        "  print(f'saya ingin mencetak {variabel} dia adalah siswa {var2}')"
      ]
    },
    {
      "cell_type": "code",
      "execution_count": 9,
      "metadata": {
        "colab": {
          "base_uri": "https://localhost:8080/"
        },
        "id": "8jzbi2mSmXIm",
        "outputId": "d8b8cd87-1536-4416-c944-c7b63e0e11cd"
      },
      "outputs": [
        {
          "name": "stdout",
          "output_type": "stream",
          "text": [
            "saya ingin mencetak Enggar dia adalah siswa Enggar\n"
          ]
        }
      ],
      "source": [
        "fungsi_cetak('Enggar', 'Enggar')"
      ]
    },
    {
      "cell_type": "code",
      "execution_count": 11,
      "metadata": {
        "colab": {
          "base_uri": "https://localhost:8080/",
          "height": 166
        },
        "id": "A8VKe7yTmsHB",
        "outputId": "3f8dee13-817d-45a2-b2be-87919aeaf162"
      },
      "outputs": [
        {
          "ename": "TypeError",
          "evalue": "fungsi_cetak() missing 1 required positional argument: 'var2'",
          "output_type": "error",
          "traceback": [
            "\u001b[1;31m---------------------------------------------------------------------------\u001b[0m",
            "\u001b[1;31mTypeError\u001b[0m                                 Traceback (most recent call last)",
            "\u001b[1;32m<ipython-input-11-e554ea101898>\u001b[0m in \u001b[0;36m<module>\u001b[1;34m\u001b[0m\n\u001b[1;32m----> 1\u001b[1;33m \u001b[0mfungsi_cetak\u001b[0m\u001b[1;33m(\u001b[0m\u001b[1;34m'Enggar'\u001b[0m\u001b[1;33m)\u001b[0m\u001b[1;33m\u001b[0m\u001b[1;33m\u001b[0m\u001b[0m\n\u001b[0m",
            "\u001b[1;31mTypeError\u001b[0m: fungsi_cetak() missing 1 required positional argument: 'var2'"
          ]
        }
      ],
      "source": [
        "fungsi_cetak('Enggar')"
      ]
    },
    {
      "cell_type": "code",
      "execution_count": 12,
      "metadata": {
        "colab": {
          "base_uri": "https://localhost:8080/"
        },
        "id": "V4wsKzldnO9G",
        "outputId": "12222c8a-086f-453a-8c87-d571aac2fcc9"
      },
      "outputs": [
        {
          "name": "stdout",
          "output_type": "stream",
          "text": [
            "saya ingin mencetak Enggar dia adalah siswa halo\n"
          ]
        }
      ],
      "source": [
        "fungsi_cetak(var2= 'halo', variabel= 'Enggar')"
      ]
    },
    {
      "cell_type": "code",
      "execution_count": 13,
      "metadata": {
        "id": "YR3EM27QnlPU"
      },
      "outputs": [],
      "source": [
        "nama = 'Enggar'\n",
        "sekolah = 'Swasta'"
      ]
    },
    {
      "cell_type": "code",
      "execution_count": 14,
      "metadata": {
        "colab": {
          "base_uri": "https://localhost:8080/"
        },
        "id": "1zFRvg2snuCd",
        "outputId": "e42923f6-9662-482d-be52-308d3cf7645d"
      },
      "outputs": [
        {
          "name": "stdout",
          "output_type": "stream",
          "text": [
            "saya ingin mencetak Enggar dia adalah siswa Swasta\n"
          ]
        }
      ],
      "source": [
        "fungsi_cetak(variabel = nama, var2 = sekolah)"
      ]
    },
    {
      "cell_type": "code",
      "execution_count": 15,
      "metadata": {
        "id": "fSWY7eaSoYPU"
      },
      "outputs": [],
      "source": [
        "def changeme( mylist ):\n",
        "   '''This changes a passed list into this function'''\n",
        "   mylist = mylist+[1,2,3,4]\n",
        "   print(\"\\nValues inside the function : \", mylist)\n",
        "   return mylist"
      ]
    },
    {
      "cell_type": "code",
      "execution_count": 23,
      "metadata": {
        "id": "vfd12buBn1rl"
      },
      "outputs": [],
      "source": [
        "mylist = [10,20,30]"
      ]
    },
    {
      "cell_type": "code",
      "execution_count": 24,
      "metadata": {
        "colab": {
          "base_uri": "https://localhost:8080/"
        },
        "id": "IW_tN1t1oc5s",
        "outputId": "5487f7dc-3d03-46ef-887f-4f272dd8046c"
      },
      "outputs": [
        {
          "name": "stdout",
          "output_type": "stream",
          "text": [
            "\n",
            "Values inside the function :  [10, 20, 30, 1, 2, 3, 4]\n"
          ]
        },
        {
          "data": {
            "text/plain": [
              "[10, 20, 30, 1, 2, 3, 4]"
            ]
          },
          "execution_count": 24,
          "metadata": {},
          "output_type": "execute_result"
        }
      ],
      "source": [
        "changeme(mylist)"
      ]
    },
    {
      "cell_type": "code",
      "execution_count": 25,
      "metadata": {
        "colab": {
          "base_uri": "https://localhost:8080/"
        },
        "id": "GJ53hsL5ogm7",
        "outputId": "cd179a8a-30de-4124-f813-b97d7fbbb777"
      },
      "outputs": [
        {
          "data": {
            "text/plain": [
              "[10, 20, 30]"
            ]
          },
          "execution_count": 25,
          "metadata": {},
          "output_type": "execute_result"
        }
      ],
      "source": [
        "mylist"
      ]
    },
    {
      "cell_type": "code",
      "execution_count": 26,
      "metadata": {
        "id": "QwxSNOeUoish"
      },
      "outputs": [],
      "source": [
        "def tambah (x,y):\n",
        "  print(x+y)"
      ]
    },
    {
      "cell_type": "code",
      "execution_count": 27,
      "metadata": {
        "colab": {
          "base_uri": "https://localhost:8080/"
        },
        "id": "LH8qavyjpL_Z",
        "outputId": "bbb43b23-e7d3-4371-abba-b315d34ccda1"
      },
      "outputs": [
        {
          "name": "stdout",
          "output_type": "stream",
          "text": [
            "7\n"
          ]
        }
      ],
      "source": [
        "tambah(5,2)"
      ]
    },
    {
      "cell_type": "code",
      "execution_count": 28,
      "metadata": {
        "id": "dapRdvO3pYbm"
      },
      "outputs": [],
      "source": [
        "x = 20"
      ]
    },
    {
      "cell_type": "code",
      "execution_count": 29,
      "metadata": {
        "colab": {
          "base_uri": "https://localhost:8080/"
        },
        "id": "HgH5pHFPpZ40",
        "outputId": "43bdff22-c423-40df-80ba-22e03a7c5bc6"
      },
      "outputs": [
        {
          "name": "stdout",
          "output_type": "stream",
          "text": [
            "7\n"
          ]
        }
      ],
      "source": [
        "x = tambah(5,2)"
      ]
    },
    {
      "cell_type": "code",
      "execution_count": 30,
      "metadata": {
        "colab": {
          "base_uri": "https://localhost:8080/"
        },
        "id": "n6Jphpcupmi_",
        "outputId": "44e106ac-4e28-445e-8631-9027c49c0490"
      },
      "outputs": [
        {
          "data": {
            "text/plain": [
              "NoneType"
            ]
          },
          "execution_count": 30,
          "metadata": {},
          "output_type": "execute_result"
        }
      ],
      "source": [
        "type(x)"
      ]
    },
    {
      "cell_type": "code",
      "execution_count": 31,
      "metadata": {
        "id": "8bHGF34wpoii"
      },
      "outputs": [],
      "source": [
        "def tambah (x,y):\n",
        "  print(x+y)\n",
        "  return x+y"
      ]
    },
    {
      "cell_type": "code",
      "execution_count": 32,
      "metadata": {
        "colab": {
          "base_uri": "https://localhost:8080/"
        },
        "id": "WmSVBnOgpu7T",
        "outputId": "64eca536-19df-4ceb-e936-bf303fded6a9"
      },
      "outputs": [
        {
          "name": "stdout",
          "output_type": "stream",
          "text": [
            "7\n"
          ]
        },
        {
          "data": {
            "text/plain": [
              "7"
            ]
          },
          "execution_count": 32,
          "metadata": {},
          "output_type": "execute_result"
        }
      ],
      "source": [
        "tambah(5,2)"
      ]
    },
    {
      "cell_type": "code",
      "execution_count": 33,
      "metadata": {
        "id": "yH5duWi_pykp"
      },
      "outputs": [],
      "source": [
        "x =20"
      ]
    },
    {
      "cell_type": "code",
      "execution_count": 34,
      "metadata": {
        "colab": {
          "base_uri": "https://localhost:8080/"
        },
        "id": "tEKaTt-Jp1xu",
        "outputId": "892c75ab-dde6-40c8-8289-d6700463ddbd"
      },
      "outputs": [
        {
          "name": "stdout",
          "output_type": "stream",
          "text": [
            "7\n"
          ]
        }
      ],
      "source": [
        "x = tambah(5,2)"
      ]
    },
    {
      "cell_type": "code",
      "execution_count": 35,
      "metadata": {
        "colab": {
          "base_uri": "https://localhost:8080/"
        },
        "id": "cC_lQvhip4Ib",
        "outputId": "16338ecf-b66f-425f-cb93-97718850657c"
      },
      "outputs": [
        {
          "data": {
            "text/plain": [
              "int"
            ]
          },
          "execution_count": 35,
          "metadata": {},
          "output_type": "execute_result"
        }
      ],
      "source": [
        "type(x)"
      ]
    },
    {
      "cell_type": "code",
      "execution_count": 36,
      "metadata": {
        "id": "dtt74l3yp7Ig"
      },
      "outputs": [],
      "source": [
        "x = list(range(1,20))"
      ]
    },
    {
      "cell_type": "code",
      "execution_count": 37,
      "metadata": {
        "colab": {
          "base_uri": "https://localhost:8080/"
        },
        "id": "hyMnDxE6qcbF",
        "outputId": "7fa1ed89-34a5-4176-d07b-58f4527adbc3"
      },
      "outputs": [
        {
          "data": {
            "text/plain": [
              "[1, 2, 3, 4, 5, 6, 7, 8, 9, 10, 11, 12, 13, 14, 15, 16, 17, 18, 19]"
            ]
          },
          "execution_count": 37,
          "metadata": {},
          "output_type": "execute_result"
        }
      ],
      "source": [
        "x"
      ]
    },
    {
      "cell_type": "code",
      "execution_count": 38,
      "metadata": {
        "id": "mGKxdFqCqdTW"
      },
      "outputs": [],
      "source": [
        "def deteksi_angka (x):\n",
        "  if x%2==0:\n",
        "    print('ini adalah angka genap')\n",
        "  else:\n",
        "    print('ini adalah angka ganjil')"
      ]
    },
    {
      "cell_type": "code",
      "execution_count": 39,
      "metadata": {
        "colab": {
          "base_uri": "https://localhost:8080/"
        },
        "id": "2E7pa_GptTB-",
        "outputId": "cf51626a-5393-4f14-bb1e-3070824f6c3c"
      },
      "outputs": [
        {
          "name": "stdout",
          "output_type": "stream",
          "text": [
            "ini adalah angka ganjil\n"
          ]
        }
      ],
      "source": [
        "deteksi_angka(9)"
      ]
    },
    {
      "cell_type": "code",
      "execution_count": 40,
      "metadata": {
        "colab": {
          "base_uri": "https://localhost:8080/"
        },
        "id": "c5eg1v0wthEB",
        "outputId": "270ad77e-8c26-4cfc-8935-bd0a1738e808"
      },
      "outputs": [
        {
          "name": "stdout",
          "output_type": "stream",
          "text": [
            "ini adalah angka genap\n"
          ]
        }
      ],
      "source": [
        "deteksi_angka(10)"
      ]
    },
    {
      "cell_type": "code",
      "execution_count": 41,
      "metadata": {
        "id": "sgup8my4tioa"
      },
      "outputs": [],
      "source": [
        "def tambah (x,y):\n",
        "  return x+y"
      ]
    },
    {
      "cell_type": "code",
      "execution_count": 42,
      "metadata": {
        "colab": {
          "base_uri": "https://localhost:8080/",
          "height": 166
        },
        "id": "xePvNBwBtwEY",
        "outputId": "51c121af-9b08-4f35-fe5b-2ffe591d520d"
      },
      "outputs": [
        {
          "ename": "TypeError",
          "evalue": "tambah() takes 2 positional arguments but 3 were given",
          "output_type": "error",
          "traceback": [
            "\u001b[1;31m---------------------------------------------------------------------------\u001b[0m",
            "\u001b[1;31mTypeError\u001b[0m                                 Traceback (most recent call last)",
            "\u001b[1;32m<ipython-input-42-b8518f88c55e>\u001b[0m in \u001b[0;36m<module>\u001b[1;34m\u001b[0m\n\u001b[1;32m----> 1\u001b[1;33m \u001b[0mtambah\u001b[0m\u001b[1;33m(\u001b[0m\u001b[1;36m5\u001b[0m\u001b[1;33m,\u001b[0m\u001b[1;36m4\u001b[0m\u001b[1;33m,\u001b[0m\u001b[1;36m10\u001b[0m\u001b[1;33m)\u001b[0m\u001b[1;33m\u001b[0m\u001b[1;33m\u001b[0m\u001b[0m\n\u001b[0m",
            "\u001b[1;31mTypeError\u001b[0m: tambah() takes 2 positional arguments but 3 were given"
          ]
        }
      ],
      "source": [
        "tambah(5,4,10)"
      ]
    },
    {
      "cell_type": "code",
      "execution_count": 43,
      "metadata": {
        "id": "ECCQp2W9t4-w"
      },
      "outputs": [],
      "source": [
        "def tambah (*var1):\n",
        "  return sum(var1)"
      ]
    },
    {
      "cell_type": "code",
      "execution_count": 44,
      "metadata": {
        "colab": {
          "base_uri": "https://localhost:8080/"
        },
        "id": "buGz6D8quJSj",
        "outputId": "c07fe601-4056-4ce0-b563-f59408a4945d"
      },
      "outputs": [
        {
          "data": {
            "text/plain": [
              "229"
            ]
          },
          "execution_count": 44,
          "metadata": {},
          "output_type": "execute_result"
        }
      ],
      "source": [
        "tambah(5,4,10,50,10,20,10,50,70)"
      ]
    },
    {
      "cell_type": "code",
      "execution_count": 45,
      "metadata": {
        "id": "BLWFvm4VvORz"
      },
      "outputs": [],
      "source": [
        "def bmi_calculator(berat,tinggi):\n",
        "  bmi = berat/(tinggi**2)\n",
        "  return bmi"
      ]
    },
    {
      "cell_type": "code",
      "execution_count": 46,
      "metadata": {
        "colab": {
          "base_uri": "https://localhost:8080/"
        },
        "id": "maH-QmKJwkVN",
        "outputId": "4a989831-28d6-4f68-8ab5-b9bf6a1db849"
      },
      "outputs": [
        {
          "data": {
            "text/plain": [
              "25.61728395061728"
            ]
          },
          "execution_count": 46,
          "metadata": {},
          "output_type": "execute_result"
        }
      ],
      "source": [
        "bmi_calculator(83,1.8)"
      ]
    },
    {
      "cell_type": "code",
      "execution_count": 1,
      "metadata": {
        "id": "_Csj7pBMwuV0"
      },
      "outputs": [],
      "source": [
        "\n",
        "def bmi_calculator(nama,berat,tinggi):\n",
        "  bmi = berat/(tinggi**2)\n",
        "  if bmi < 18.5 :\n",
        "    print(f'{nama} score bmi Anda adalah {bmi} anda underweight')\n",
        "  elif bmi >= 18.5 and bmi <= 24.9:\n",
        "    print(f'{nama} score bmi Anda adalah {bmi} anda normal')\n",
        "  else:\n",
        "    print(f'{nama} score bmi Anda adalah {bmi} anda overweight')"
      ]
    },
    {
      "cell_type": "code",
      "execution_count": 2,
      "metadata": {
        "colab": {
          "base_uri": "https://localhost:8080/"
        },
        "id": "Ag2AwTo5yeUg",
        "outputId": "92ee6c69-36ab-47e4-fbaf-f71584993cd3"
      },
      "outputs": [
        {
          "name": "stdout",
          "output_type": "stream",
          "text": [
            "enggar score bmi Anda adalah 25.61728395061728 anda overweight\n"
          ]
        }
      ],
      "source": [
        "nama = input('ketikan nama Anda-> ')\n",
        "berat = input('ketikan berat Anda-> ')\n",
        "tinggi = input('ketikan tinggi Anda-> ')\n",
        "\n",
        "berat = int(berat)\n",
        "tinggi = float(tinggi)\n",
        "\n",
        "bmi_calculator(nama=nama, berat=berat, tinggi=tinggi)"
      ]
    },
    {
      "cell_type": "code",
      "execution_count": 22,
      "metadata": {
        "colab": {
          "base_uri": "https://localhost:8080/"
        },
        "id": "x9TufnN5yr4S",
        "outputId": "5199d03f-8057-46dc-95a4-ba11bdb83bf5"
      },
      "outputs": [
        {
          "ename": "KeyboardInterrupt",
          "evalue": "Interrupted by user",
          "output_type": "error",
          "traceback": [
            "\u001b[1;31m---------------------------------------------------------------------------\u001b[0m",
            "\u001b[1;31mKeyboardInterrupt\u001b[0m                         Traceback (most recent call last)",
            "\u001b[1;32m<ipython-input-22-1cdfb98e56d9>\u001b[0m in \u001b[0;36m<module>\u001b[1;34m\u001b[0m\n\u001b[1;32m----> 1\u001b[1;33m \u001b[0mnama\u001b[0m \u001b[1;33m=\u001b[0m \u001b[0minput\u001b[0m\u001b[1;33m(\u001b[0m\u001b[1;34m'ketikan nama Anda-> '\u001b[0m\u001b[1;33m)\u001b[0m\u001b[1;33m\u001b[0m\u001b[1;33m\u001b[0m\u001b[0m\n\u001b[0m\u001b[0;32m      2\u001b[0m \u001b[0mberat\u001b[0m \u001b[1;33m=\u001b[0m \u001b[0mint\u001b[0m\u001b[1;33m(\u001b[0m\u001b[0minput\u001b[0m\u001b[1;33m(\u001b[0m\u001b[1;34m'ketikan berat Anda-> '\u001b[0m\u001b[1;33m)\u001b[0m\u001b[1;33m)\u001b[0m\u001b[1;33m\u001b[0m\u001b[1;33m\u001b[0m\u001b[0m\n\u001b[0;32m      3\u001b[0m \u001b[0mtinggi\u001b[0m \u001b[1;33m=\u001b[0m \u001b[0mfloat\u001b[0m\u001b[1;33m(\u001b[0m\u001b[0minput\u001b[0m\u001b[1;33m(\u001b[0m\u001b[1;34m'ketikan tinggi Anda-> '\u001b[0m\u001b[1;33m)\u001b[0m\u001b[1;33m)\u001b[0m\u001b[1;33m\u001b[0m\u001b[1;33m\u001b[0m\u001b[0m\n\u001b[0;32m      4\u001b[0m \u001b[1;33m\u001b[0m\u001b[0m\n\u001b[0;32m      5\u001b[0m \u001b[1;31m# berat = int(berat)\u001b[0m\u001b[1;33m\u001b[0m\u001b[1;33m\u001b[0m\u001b[1;33m\u001b[0m\u001b[0m\n",
            "\u001b[1;32m~\\anaconda3\\lib\\site-packages\\ipykernel\\kernelbase.py\u001b[0m in \u001b[0;36mraw_input\u001b[1;34m(self, prompt)\u001b[0m\n\u001b[0;32m    858\u001b[0m                 \u001b[1;34m\"raw_input was called, but this frontend does not support input requests.\"\u001b[0m\u001b[1;33m\u001b[0m\u001b[1;33m\u001b[0m\u001b[0m\n\u001b[0;32m    859\u001b[0m             )\n\u001b[1;32m--> 860\u001b[1;33m         return self._input_request(str(prompt),\n\u001b[0m\u001b[0;32m    861\u001b[0m             \u001b[0mself\u001b[0m\u001b[1;33m.\u001b[0m\u001b[0m_parent_ident\u001b[0m\u001b[1;33m,\u001b[0m\u001b[1;33m\u001b[0m\u001b[1;33m\u001b[0m\u001b[0m\n\u001b[0;32m    862\u001b[0m             \u001b[0mself\u001b[0m\u001b[1;33m.\u001b[0m\u001b[0m_parent_header\u001b[0m\u001b[1;33m,\u001b[0m\u001b[1;33m\u001b[0m\u001b[1;33m\u001b[0m\u001b[0m\n",
            "\u001b[1;32m~\\anaconda3\\lib\\site-packages\\ipykernel\\kernelbase.py\u001b[0m in \u001b[0;36m_input_request\u001b[1;34m(self, prompt, ident, parent, password)\u001b[0m\n\u001b[0;32m    902\u001b[0m             \u001b[1;32mexcept\u001b[0m \u001b[0mKeyboardInterrupt\u001b[0m\u001b[1;33m:\u001b[0m\u001b[1;33m\u001b[0m\u001b[1;33m\u001b[0m\u001b[0m\n\u001b[0;32m    903\u001b[0m                 \u001b[1;31m# re-raise KeyboardInterrupt, to truncate traceback\u001b[0m\u001b[1;33m\u001b[0m\u001b[1;33m\u001b[0m\u001b[1;33m\u001b[0m\u001b[0m\n\u001b[1;32m--> 904\u001b[1;33m                 \u001b[1;32mraise\u001b[0m \u001b[0mKeyboardInterrupt\u001b[0m\u001b[1;33m(\u001b[0m\u001b[1;34m\"Interrupted by user\"\u001b[0m\u001b[1;33m)\u001b[0m \u001b[1;32mfrom\u001b[0m \u001b[1;32mNone\u001b[0m\u001b[1;33m\u001b[0m\u001b[1;33m\u001b[0m\u001b[0m\n\u001b[0m\u001b[0;32m    905\u001b[0m             \u001b[1;32mexcept\u001b[0m \u001b[0mException\u001b[0m \u001b[1;32mas\u001b[0m \u001b[0me\u001b[0m\u001b[1;33m:\u001b[0m\u001b[1;33m\u001b[0m\u001b[1;33m\u001b[0m\u001b[0m\n\u001b[0;32m    906\u001b[0m                 \u001b[0mself\u001b[0m\u001b[1;33m.\u001b[0m\u001b[0mlog\u001b[0m\u001b[1;33m.\u001b[0m\u001b[0mwarning\u001b[0m\u001b[1;33m(\u001b[0m\u001b[1;34m\"Invalid Message:\"\u001b[0m\u001b[1;33m,\u001b[0m \u001b[0mexc_info\u001b[0m\u001b[1;33m=\u001b[0m\u001b[1;32mTrue\u001b[0m\u001b[1;33m)\u001b[0m\u001b[1;33m\u001b[0m\u001b[1;33m\u001b[0m\u001b[0m\n",
            "\u001b[1;31mKeyboardInterrupt\u001b[0m: Interrupted by user"
          ]
        }
      ],
      "source": [
        "nama = input('ketikan nama Anda-> ')\n",
        "berat = int(input('ketikan berat Anda-> '))\n",
        "tinggi = float(input('ketikan tinggi Anda-> '))\n",
        "\n",
        "# berat = int(berat)\n",
        "# tinggi = float(tinggi)\n",
        "\n",
        "bmi_calculator(nama=nama, berat=berat, tinggi=tinggi)"
      ]
    },
    {
      "cell_type": "code",
      "execution_count": 82,
      "metadata": {
        "colab": {
          "base_uri": "https://localhost:8080/"
        },
        "id": "3WNUvXt_1Adp",
        "outputId": "81f55238-7052-470b-a115-5ae7b6ec28ee"
      },
      "outputs": [
        {
          "name": "stdout",
          "output_type": "stream",
          "text": [
            "masukan hacktiv8 -> nama saya enggar\n"
          ]
        }
      ],
      "source": [
        "kalimat = input('masukan hacktiv8 -> ')"
      ]
    },
    {
      "cell_type": "code",
      "execution_count": 83,
      "metadata": {
        "colab": {
          "base_uri": "https://localhost:8080/",
          "height": 35
        },
        "id": "4FoRu2H_1PO7",
        "outputId": "8e5adb72-690f-48d9-96c4-9e302674c8a2"
      },
      "outputs": [
        {
          "data": {
            "application/vnd.google.colaboratory.intrinsic+json": {
              "type": "string"
            },
            "text/plain": [
              "'nama saya enggar'"
            ]
          },
          "execution_count": 83,
          "metadata": {},
          "output_type": "execute_result"
        }
      ],
      "source": [
        "kalimat"
      ]
    },
    {
      "cell_type": "code",
      "execution_count": 76,
      "metadata": {
        "id": "fTGuj3Z_zf0U"
      },
      "outputs": [],
      "source": [
        "def deteksi_kata (name):\n",
        "  return name == 'Hactiv8'"
      ]
    },
    {
      "cell_type": "code",
      "execution_count": 77,
      "metadata": {
        "colab": {
          "base_uri": "https://localhost:8080/"
        },
        "id": "o-zNcpHW0lI1",
        "outputId": "7723e2f4-c14c-4279-d258-80f4628c5d7b"
      },
      "outputs": [
        {
          "data": {
            "text/plain": [
              "False"
            ]
          },
          "execution_count": 77,
          "metadata": {},
          "output_type": "execute_result"
        }
      ],
      "source": [
        "deteksi_kata(kalimat)"
      ]
    },
    {
      "cell_type": "code",
      "execution_count": 95,
      "metadata": {
        "colab": {
          "base_uri": "https://localhost:8080/"
        },
        "id": "INMUe8WX3ceY",
        "outputId": "fdbc515f-e624-4409-d11a-82fedef549cd"
      },
      "outputs": [
        {
          "name": "stdout",
          "output_type": "stream",
          "text": [
            "masukan hacktiv8 -> Nama saya Enggar\n"
          ]
        }
      ],
      "source": [
        "kalimat = input('masukan hacktiv8 -> ')"
      ]
    },
    {
      "cell_type": "code",
      "execution_count": 96,
      "metadata": {
        "colab": {
          "base_uri": "https://localhost:8080/",
          "height": 35
        },
        "id": "nAFufJlz3g6v",
        "outputId": "9766e6f4-67f7-4257-df4c-2846c4d6761e"
      },
      "outputs": [
        {
          "data": {
            "application/vnd.google.colaboratory.intrinsic+json": {
              "type": "string"
            },
            "text/plain": [
              "'Nama saya Enggar'"
            ]
          },
          "execution_count": 96,
          "metadata": {},
          "output_type": "execute_result"
        }
      ],
      "source": [
        "kalimat"
      ]
    },
    {
      "cell_type": "code",
      "execution_count": 97,
      "metadata": {
        "id": "7RK-yV5S1dLL"
      },
      "outputs": [],
      "source": [
        "def deteksi_nama(nama):\n",
        "    return 'enggar' in nama.lower()\n"
      ]
    },
    {
      "cell_type": "code",
      "execution_count": 98,
      "metadata": {
        "colab": {
          "base_uri": "https://localhost:8080/"
        },
        "id": "GVPxyQqv3CsY",
        "outputId": "6bc11445-6ffa-40cd-92ad-a65953e0472a"
      },
      "outputs": [
        {
          "data": {
            "text/plain": [
              "True"
            ]
          },
          "execution_count": 98,
          "metadata": {},
          "output_type": "execute_result"
        }
      ],
      "source": [
        "deteksi_nama(kalimat)"
      ]
    },
    {
      "cell_type": "code",
      "execution_count": 92,
      "metadata": {
        "id": "YILazdAI3Fb-"
      },
      "outputs": [],
      "source": []
    }
  ],
  "metadata": {
    "colab": {
      "name": "Function_Module_and_Package_day3.ipynb",
      "provenance": []
    },
    "kernelspec": {
      "display_name": "Python 3",
      "name": "python3"
    },
    "language_info": {
      "codemirror_mode": {
        "name": "ipython",
        "version": 3
      },
      "file_extension": ".py",
      "mimetype": "text/x-python",
      "name": "python",
      "nbconvert_exporter": "python",
      "pygments_lexer": "ipython3",
      "version": "3.8.5"
    }
  },
  "nbformat": 4,
  "nbformat_minor": 0
}
