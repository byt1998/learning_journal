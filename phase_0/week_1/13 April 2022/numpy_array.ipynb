{
 "cells": [
  {
   "cell_type": "markdown",
   "metadata": {},
   "source": [
    "## Latihan Numpy \n"
   ]
  },
  {
   "cell_type": "code",
   "execution_count": 88,
   "metadata": {},
   "outputs": [],
   "source": [
    "#Import Library\n",
    "import numpy as np\n"
   ]
  },
  {
   "cell_type": "code",
   "execution_count": 90,
   "metadata": {},
   "outputs": [
    {
     "name": "stdout",
     "output_type": "stream",
     "text": [
      "[1, 2, 3, 4, 5]\n",
      "<class 'list'>\n",
      "[1 2 3 4 5]\n",
      "<class 'numpy.ndarray'>\n"
     ]
    }
   ],
   "source": [
    "# Perubahan dari List ke Array\n",
    "# np.array()\n",
    "\n",
    "a = [1,2,3,4,5]\n",
    "print(a)\n",
    "print(type(a))\n",
    "\n",
    "b = np.array(a)\n",
    "print(b)\n",
    "print(type(b))"
   ]
  },
  {
   "cell_type": "code",
   "execution_count": 91,
   "metadata": {},
   "outputs": [
    {
     "data": {
      "text/plain": [
       "array([[1, 2, 3],\n",
       "       [3, 4, 5]])"
      ]
     },
     "execution_count": 91,
     "metadata": {},
     "output_type": "execute_result"
    }
   ],
   "source": [
    "# Membuat Array 2D\n",
    "# Lihat seberapa banyak kurung siku di awal untuk menentukan jumlah dimensi\n",
    "\n",
    "c = [[1,2,3],\n",
    "     [3,4,5]]\n",
    "\n",
    "c = np.array(c)\n",
    "c"
   ]
  },
  {
   "cell_type": "code",
   "execution_count": 95,
   "metadata": {},
   "outputs": [
    {
     "name": "stdout",
     "output_type": "stream",
     "text": [
      "[[1 2 3]\n",
      " [3 4 5]]\n",
      "(2, 3)\n",
      "[1 2 3 4 5]\n",
      "(5,)\n"
     ]
    }
   ],
   "source": [
    "#Menentukan ukuran suatu array\n",
    "#.shape\n",
    "print(c)\n",
    "print(c.shape)\n",
    "print(b)\n",
    "print(b.shape)\n"
   ]
  },
  {
   "cell_type": "code",
   "execution_count": 98,
   "metadata": {},
   "outputs": [
    {
     "name": "stdout",
     "output_type": "stream",
     "text": [
      "[1 2 3 4 5]\n",
      "5\n",
      "[[1 2 3]\n",
      " [3 4 5]]\n",
      "6\n"
     ]
    }
   ],
   "source": [
    "#Menentukan jumlah total elemen suatu array\n",
    "#.size\n",
    "\n",
    "print(b)\n",
    "print(b.size)\n",
    "print(c)\n",
    "print(c.size)\n"
   ]
  },
  {
   "cell_type": "code",
   "execution_count": 105,
   "metadata": {},
   "outputs": [
    {
     "name": "stdout",
     "output_type": "stream",
     "text": [
      "[1 2 3 4 5]\n",
      "[1]\n",
      "[1 2 3 4 5]\n",
      "[1 3 5]\n",
      "[2 4]\n",
      "[5 4 3 2 1]\n"
     ]
    }
   ],
   "source": [
    "#Indexing & Slicing\n",
    "print(b)\n",
    "print(b[0:1])\n",
    "print(b[::])\n",
    "print(b[::2])\n",
    "\n",
    "print(b[1::2])\n",
    "\n",
    "\n",
    "#Mengubah urutan array 1D dari belakang ke depan (Descending)\n",
    "print(b[::-1])\n"
   ]
  },
  {
   "cell_type": "markdown",
   "metadata": {},
   "source": [
    "**NOMOR 1**\n",
    "\n",
    "Buatlah sebuah array seperti dibawah ini dan tambahkan setiap elemennya dengan `1`.\n",
    "\n",
    "```\n",
    "a = [10, 20, 30, 40, 50]\n",
    "```"
   ]
  },
  {
   "cell_type": "code",
   "execution_count": 107,
   "metadata": {},
   "outputs": [
    {
     "name": "stdout",
     "output_type": "stream",
     "text": [
      "[11 21 31 41 51]\n"
     ]
    }
   ],
   "source": [
    "#Cara 1 : Menambahkan dengan bil. skalar\n",
    "a = [10, 20, 30, 40, 50]\n",
    "\n",
    "a = np.array(a)\n",
    "a\n",
    "print(a+1)"
   ]
  },
  {
   "cell_type": "code",
   "execution_count": 110,
   "metadata": {},
   "outputs": [
    {
     "data": {
      "text/plain": [
       "array([11., 21., 31., 41., 51.])"
      ]
     },
     "execution_count": 110,
     "metadata": {},
     "output_type": "execute_result"
    }
   ],
   "source": [
    "# Cara 2 : Menambahkan dengan \"Special Array\"\n",
    "#np.ones()\n",
    "np.ones(4)\n",
    "np.zeros(4)\n",
    "\n",
    "a+np.ones(5)\n"
   ]
  },
  {
   "cell_type": "markdown",
   "metadata": {},
   "source": [
    "**NOMOR 2**\n",
    "\n",
    "Buatlah sebuah array seperti dibawah ini dan keluarkan element yang bernilai negatif.\n",
    "\n",
    "```\n",
    "b = [-3, 0, -2, 1, 2, 3, -4]\n",
    "```"
   ]
  },
  {
   "cell_type": "code",
   "execution_count": 111,
   "metadata": {},
   "outputs": [
    {
     "data": {
      "text/plain": [
       "array([-3,  0, -2,  1,  2,  3, -4])"
      ]
     },
     "execution_count": 111,
     "metadata": {},
     "output_type": "execute_result"
    }
   ],
   "source": [
    "#Buat array\n",
    "b = [-3, 0, -2, 1, 2, 3, -4]\n",
    "b = np.array(b)\n",
    "b"
   ]
  },
  {
   "cell_type": "code",
   "execution_count": 112,
   "metadata": {},
   "outputs": [
    {
     "data": {
      "text/plain": [
       "array([ True, False,  True, False, False, False,  True])"
      ]
     },
     "execution_count": 112,
     "metadata": {},
     "output_type": "execute_result"
    }
   ],
   "source": [
    "# Jika `b < 0` maka hanya akan dilakukan pengecekan apakah element di `b` kurang dari 0 atau tidak\n",
    "\n",
    "b<0"
   ]
  },
  {
   "cell_type": "code",
   "execution_count": 113,
   "metadata": {},
   "outputs": [
    {
     "data": {
      "text/plain": [
       "array([-3, -2, -4])"
      ]
     },
     "execution_count": 113,
     "metadata": {},
     "output_type": "execute_result"
    }
   ],
   "source": [
    "# Jika `b[b < 0]` maka element di `b` kurang dari 0 akan ditampilkan\n",
    "\n",
    "b[b<0]"
   ]
  },
  {
   "cell_type": "markdown",
   "metadata": {},
   "source": [
    "**NOMOR 3**\n",
    "\n",
    "Buatlah sebuah array seperti dibawah ini. Keluarkan element yang bernilai positif kemudian urutkan dari nilai yang kecil ke besar\n",
    "\n",
    "```\n",
    "c = [10, -8, 4, 5, -41, 7, 5, -4]\n",
    "```"
   ]
  },
  {
   "cell_type": "code",
   "execution_count": 114,
   "metadata": {},
   "outputs": [
    {
     "data": {
      "text/plain": [
       "array([ 10,  -8,   4,   5, -41,   7,   5,  -4])"
      ]
     },
     "execution_count": 114,
     "metadata": {},
     "output_type": "execute_result"
    }
   ],
   "source": [
    "#Buat array\n",
    "\n",
    "c = [10, -8, 4, 5, -41, 7, 5, -4]\n",
    "c = np.array(c)\n",
    "c"
   ]
  },
  {
   "cell_type": "code",
   "execution_count": 120,
   "metadata": {},
   "outputs": [
    {
     "data": {
      "text/plain": [
       "array([ 4,  5,  5,  7, 10])"
      ]
     },
     "execution_count": 120,
     "metadata": {},
     "output_type": "execute_result"
    }
   ],
   "source": [
    "# Sort elemen dari bilangan kecil ke besar\n",
    "#np.sort(nama_array)\n",
    "\n",
    "c_sort = np.sort(c[c>0])\n"
   ]
  },
  {
   "cell_type": "code",
   "execution_count": 121,
   "metadata": {},
   "outputs": [
    {
     "name": "stdout",
     "output_type": "stream",
     "text": [
      "[10  7  5  5  4]\n",
      "[10  7  5  5  4]\n"
     ]
    }
   ],
   "source": [
    "# Sort elemen dari bilangan besar ke kecil\n",
    "#sort dan Slicing dengan step = -1\n",
    "\n",
    "print(np.sort(c[c>0])[::-1])\n",
    "print(c_sort[::-1])\n"
   ]
  },
  {
   "cell_type": "markdown",
   "metadata": {},
   "source": [
    "**NOMOR 4**\n",
    "\n",
    "Buatlah array seperti dibawah ini kemudian tumpukkan secara horizontal dan vertikal satu sama lain.\n",
    "\n",
    "```\n",
    "d = [1, 2, 3, 4, 5]\n",
    "e = [6, 7, 8, 9, 10]\n",
    "```"
   ]
  },
  {
   "cell_type": "code",
   "execution_count": 122,
   "metadata": {},
   "outputs": [
    {
     "name": "stdout",
     "output_type": "stream",
     "text": [
      "[1 2 3 4 5] [ 6  7  8  9 10]\n"
     ]
    }
   ],
   "source": [
    "#Buat array\n",
    "d = [1, 2, 3, 4, 5]\n",
    "e = [6, 7, 8, 9, 10]\n",
    "\n",
    "d = np.array(d)\n",
    "e = np.array(e)\n",
    "print(d,e)"
   ]
  },
  {
   "cell_type": "code",
   "execution_count": 126,
   "metadata": {},
   "outputs": [
    {
     "name": "stdout",
     "output_type": "stream",
     "text": [
      "[ 1  2  3  4  5  6  7  8  9 10]\n",
      "[[ 1  2  3  4  5]\n",
      " [ 6  7  8  9 10]]\n"
     ]
    }
   ],
   "source": [
    "#Stacking Horizontal -> np.hstack((array1,array2))\n",
    "#Stacking Vertikal -> np.vstack((array1,array2))\n",
    "\n",
    "print(np.hstack((d,e)))\n",
    "print(np.vstack((d,e)))\n"
   ]
  },
  {
   "cell_type": "markdown",
   "metadata": {},
   "source": [
    "**NOMOR 5**\n",
    "\n",
    "Buatlah dua buah array seperti dibawah ini yang berasal dari 1 deklarasi variabel yang sama. Kemudian, kalikan array pertama dengan `2` dan kalikan array kedua dengan `3`.\n",
    "\n",
    "```\n",
    "f = [10, 20, 30, 40, 50]\n",
    "```\n",
    "\n",
    "Ekspektasi output : \n",
    "```\n",
    "hasil perkalian dengan 2 -> [20, 40, 60, 80, 100] \n",
    "hasil perkalian dengan 3 -> [30, 60, 90, 120, 150]\n",
    "```"
   ]
  },
  {
   "cell_type": "code",
   "execution_count": 127,
   "metadata": {},
   "outputs": [
    {
     "data": {
      "text/plain": [
       "array([10, 20, 30, 40, 50])"
      ]
     },
     "execution_count": 127,
     "metadata": {},
     "output_type": "execute_result"
    }
   ],
   "source": [
    "#Buat array f\n",
    "\n",
    "f = [10, 20, 30, 40, 50]\n",
    "f = np.array(f)\n",
    "f"
   ]
  },
  {
   "cell_type": "code",
   "execution_count": 129,
   "metadata": {},
   "outputs": [],
   "source": [
    "#Copy array f ke variabel baru\n",
    "\n",
    "f2 = f.copy()"
   ]
  },
  {
   "cell_type": "code",
   "execution_count": 130,
   "metadata": {},
   "outputs": [
    {
     "name": "stdout",
     "output_type": "stream",
     "text": [
      "[ 20  40  60  80 100]\n",
      "[ 30  60  90 120 150]\n"
     ]
    }
   ],
   "source": [
    "#Kalikan masing2 variabel\n",
    "f = f*2\n",
    "print(f)\n",
    "f2 = f2*3\n",
    "print(f2)\n"
   ]
  },
  {
   "cell_type": "markdown",
   "metadata": {},
   "source": [
    "**NOMOR 6**\n",
    "\n",
    "Buatlah sebuah array seperti dibawah ini dan hitung total jumlahnya.\n",
    "\n",
    "```\n",
    "h = [1, 2, 3, 4, 5]\n",
    "j = [ [1, 2, 3],\n",
    "      [4, 5, 6]]\n",
    "```\n",
    "\n",
    "Ekspektasi output :\n",
    "\n",
    "```\n",
    "total nilai h = 15\n",
    "total nilai j berdasarkan penjumlahan baris = [6, 15]\n",
    "total nilai j berdasarkan penjumlahan kolom = [5, 7, 9]\n",
    "```"
   ]
  },
  {
   "cell_type": "code",
   "execution_count": 131,
   "metadata": {},
   "outputs": [
    {
     "name": "stdout",
     "output_type": "stream",
     "text": [
      "[1 2 3 4 5]\n",
      "[[1 2 3]\n",
      " [4 5 6]]\n"
     ]
    }
   ],
   "source": [
    "#Buat array\n",
    "\n",
    "h = [1, 2, 3, 4, 5]\n",
    "j = [ [1, 2, 3],\n",
    "      [4, 5, 6]]\n",
    "\n",
    "h = np.array(h)\n",
    "print(h)\n",
    "j = np.array(j)\n",
    "print(j)"
   ]
  },
  {
   "cell_type": "code",
   "execution_count": 132,
   "metadata": {},
   "outputs": [
    {
     "data": {
      "text/plain": [
       "15"
      ]
     },
     "execution_count": 132,
     "metadata": {},
     "output_type": "execute_result"
    }
   ],
   "source": [
    "#jumlahkan array h\n",
    "#.sum()\n",
    "h.sum()\n"
   ]
  },
  {
   "cell_type": "code",
   "execution_count": 133,
   "metadata": {},
   "outputs": [
    {
     "data": {
      "text/plain": [
       "array([ 6, 15])"
      ]
     },
     "execution_count": 133,
     "metadata": {},
     "output_type": "execute_result"
    }
   ],
   "source": [
    "#Penjumlahan berdasarkan baris\n",
    "#baris -> axis = 1\n",
    "j.sum(axis = 1)\n"
   ]
  },
  {
   "cell_type": "code",
   "execution_count": 134,
   "metadata": {},
   "outputs": [
    {
     "data": {
      "text/plain": [
       "array([5, 7, 9])"
      ]
     },
     "execution_count": 134,
     "metadata": {},
     "output_type": "execute_result"
    }
   ],
   "source": [
    "#Penjumlahan berdasarkan kolom\n",
    "# kolom -> axis = 0\n",
    "\n",
    "j.sum(axis = 0)\n"
   ]
  },
  {
   "cell_type": "markdown",
   "metadata": {},
   "source": [
    "**NOMOR 7**\n",
    "\n",
    "Buatlah sebuah array seperti dibawah ini dan cari nilai `min`, `max`, dan `sum` per baris dan per kolom.\n",
    "\n",
    "```\n",
    "k = [ [1, 2, 3],\n",
    "      [4, 5, 6]]\n",
    "```"
   ]
  },
  {
   "cell_type": "code",
   "execution_count": 135,
   "metadata": {},
   "outputs": [],
   "source": [
    "#Buat array\n",
    "k = [ [1, 2, 3],\n",
    "      [4, 5, 6]]\n",
    "k = np.array(k)\n"
   ]
  },
  {
   "cell_type": "code",
   "execution_count": 136,
   "metadata": {},
   "outputs": [
    {
     "name": "stdout",
     "output_type": "stream",
     "text": [
      "Baris\n",
      "[1 4] nilai minimum\n",
      "[3 6] nilai maksimum\n",
      "[ 6 15] nilai total\n",
      "\n",
      "Kolom\n",
      "[1 2 3] nilai minimum\n",
      "[4 5 6] nilai maksimum\n",
      "[5 7 9] nilai total\n"
     ]
    }
   ],
   "source": [
    "#Mencari nilai minimum -> .min()\n",
    "#Mencari nilai maximum - > .max()\n",
    "#Mencari nilai total -> .sum()\n",
    "\n",
    "print('Baris')\n",
    "print(k.min(axis = 1), 'nilai minimum')\n",
    "print(k.max(axis = 1), 'nilai maksimum')\n",
    "print(k.sum(axis = 1), 'nilai total')\n",
    "\n",
    "print('\\nKolom')\n",
    "print(k.min(axis = 0), 'nilai minimum')\n",
    "print(k.max(axis = 0), 'nilai maksimum')\n",
    "print(k.sum(axis = 0), 'nilai total')\n",
    "\n"
   ]
  },
  {
   "cell_type": "markdown",
   "metadata": {},
   "source": [
    "**NOMOR 8**\n",
    "\n",
    "Buatlah sebuah array seperti dibawah ini dan cari baris kedua dan kolom kedua.\n",
    "\n",
    "```\n",
    "n = [ [1, 2, 3], \n",
    "      [4, 5, 6],\n",
    "      [7, 8, 9]]\n",
    "```"
   ]
  },
  {
   "cell_type": "code",
   "execution_count": 137,
   "metadata": {},
   "outputs": [
    {
     "data": {
      "text/plain": [
       "array([[1, 2, 3],\n",
       "       [4, 5, 6],\n",
       "       [7, 8, 9]])"
      ]
     },
     "execution_count": 137,
     "metadata": {},
     "output_type": "execute_result"
    }
   ],
   "source": [
    "#Buat array\n",
    "\n",
    "n = [ [1, 2, 3], \n",
    "      [4, 5, 6],\n",
    "      [7, 8, 9]]\n",
    "\n",
    "n = np.array(n)\n",
    "n\n"
   ]
  },
  {
   "cell_type": "code",
   "execution_count": 143,
   "metadata": {},
   "outputs": [
    {
     "name": "stdout",
     "output_type": "stream",
     "text": [
      "[4 5 6]\n"
     ]
    },
    {
     "data": {
      "text/plain": [
       "8"
      ]
     },
     "execution_count": 143,
     "metadata": {},
     "output_type": "execute_result"
    }
   ],
   "source": [
    "#Get baris&Kolom\n",
    "# nama_array[baris,kolom]\n",
    "print(n[1,:])\n",
    "\n",
    "n[1,1]\n",
    "n[2,2]\n",
    "n[0,0]\n",
    "n[2,1]"
   ]
  },
  {
   "cell_type": "code",
   "execution_count": 153,
   "metadata": {},
   "outputs": [
    {
     "name": "stdout",
     "output_type": "stream",
     "text": [
      "[4 5 6]\n",
      "[4 5 6]\n"
     ]
    }
   ],
   "source": [
    "# Get baris kedua\n",
    "# Bisa menggunakan n[1] atau n[1, :]\n",
    "\n",
    "print(n[1])\n",
    "print(n[1,:])"
   ]
  },
  {
   "cell_type": "code",
   "execution_count": 145,
   "metadata": {},
   "outputs": [
    {
     "data": {
      "text/plain": [
       "array([2, 5, 8])"
      ]
     },
     "execution_count": 145,
     "metadata": {},
     "output_type": "execute_result"
    }
   ],
   "source": [
    "# Get kolom kedua (menampilkan secara array 1D)\n",
    "# nama_array[:, [index_kolom]]\n",
    "\n",
    "n[:,1]"
   ]
  },
  {
   "cell_type": "code",
   "execution_count": 147,
   "metadata": {},
   "outputs": [
    {
     "data": {
      "text/plain": [
       "array([[1, 0, 0],\n",
       "       [0, 5, 0],\n",
       "       [0, 0, 9]])"
      ]
     },
     "execution_count": 147,
     "metadata": {},
     "output_type": "execute_result"
    }
   ],
   "source": [
    "# Get elemen diagonal (dari kiri ke kanan)\n",
    "# np.diag()\n",
    "# buka dokumentasi\n",
    "\n",
    "np.diag(np.diag(n))\n"
   ]
  },
  {
   "cell_type": "code",
   "execution_count": 152,
   "metadata": {},
   "outputs": [
    {
     "data": {
      "text/plain": [
       "array([3, 5, 7])"
      ]
     },
     "execution_count": 152,
     "metadata": {},
     "output_type": "execute_result"
    }
   ],
   "source": [
    "# Get elemen diagonal (dari kanan ke kiri)\n",
    "# np.diag(np.fliplr(n))\n",
    "\n",
    "np.diag(np.fliplr(n))\n"
   ]
  },
  {
   "cell_type": "markdown",
   "metadata": {},
   "source": [
    "**NOMOR 9**\n",
    "\n",
    "Buatlah sebuah array seperti dibawah ini dan cari nilai `min`, `max`, dan `sum` untuk baris kedua dan kolom kedua.\n",
    "\n",
    "```\n",
    "m = [ [1, 2, 3], \n",
    "      [4, 5, 6],\n",
    "      [7, 8, 9]]\n",
    "```"
   ]
  },
  {
   "cell_type": "code",
   "execution_count": 73,
   "metadata": {},
   "outputs": [],
   "source": [
    "#Buat array\n"
   ]
  },
  {
   "cell_type": "code",
   "execution_count": 74,
   "metadata": {},
   "outputs": [],
   "source": [
    "#buat variabel yang berisikan baris ke 2\n",
    "\n",
    "#buat variabel yang berisikan kolom ke 2\n"
   ]
  },
  {
   "cell_type": "code",
   "execution_count": 75,
   "metadata": {},
   "outputs": [],
   "source": [
    "#Cari masing2 nilai sum, min, dan max\n"
   ]
  },
  {
   "cell_type": "markdown",
   "metadata": {},
   "source": [
    "**NOMOR 10**\n",
    "\n",
    "<img src='https://i.ibb.co/JvBzgWn/greyscale.png'>\n",
    "\n",
    "Download image [disini](https://i.ibb.co/JvBzgWn/greyscale.png)\n",
    "\n",
    "* Load gambar tersebut dengan menggunakan library matplotlib.\n",
    "* Jawab pertanyaan berikut ini : \n",
    "  - Berapa ukuran gambar tersebut.\n",
    "  - Berapa total piksel/element pada gambar tersebut.\n",
    "  - Cerahkan gambar tersebut dengan menambahkan suatu angka."
   ]
  },
  {
   "cell_type": "code",
   "execution_count": 76,
   "metadata": {},
   "outputs": [
    {
     "name": "stdout",
     "output_type": "stream",
     "text": [
      "Requirement already satisfied: matplotlib in c:\\users\\acer\\appdata\\roaming\\python\\python37\\site-packages (3.5.1)\n",
      "Requirement already satisfied: cycler>=0.10 in c:\\users\\acer\\appdata\\roaming\\python\\python37\\site-packages (from matplotlib) (0.11.0)\n",
      "Requirement already satisfied: python-dateutil>=2.7 in c:\\users\\acer\\appdata\\local\\programs\\python\\python37\\lib\\site-packages (from matplotlib) (2.8.2)\n",
      "Requirement already satisfied: kiwisolver>=1.0.1 in c:\\users\\acer\\appdata\\roaming\\python\\python37\\site-packages (from matplotlib) (1.4.2)\n",
      "Requirement already satisfied: packaging>=20.0 in c:\\users\\acer\\appdata\\local\\programs\\python\\python37\\lib\\site-packages (from matplotlib) (21.0)\n",
      "Requirement already satisfied: pyparsing>=2.2.1 in c:\\users\\acer\\appdata\\local\\programs\\python\\python37\\lib\\site-packages (from matplotlib) (2.4.7)\n",
      "Requirement already satisfied: numpy>=1.17 in c:\\users\\acer\\appdata\\local\\programs\\python\\python37\\lib\\site-packages (from matplotlib) (1.19.5)\n",
      "Requirement already satisfied: fonttools>=4.22.0 in c:\\users\\acer\\appdata\\roaming\\python\\python37\\site-packages (from matplotlib) (4.32.0)\n",
      "Requirement already satisfied: pillow>=6.2.0 in c:\\users\\acer\\appdata\\local\\programs\\python\\python37\\lib\\site-packages (from matplotlib) (8.2.0)\n",
      "Requirement already satisfied: typing-extensions in c:\\users\\acer\\appdata\\local\\programs\\python\\python37\\lib\\site-packages (from kiwisolver>=1.0.1->matplotlib) (3.7.4.3)\n",
      "Requirement already satisfied: six>=1.5 in c:\\users\\acer\\appdata\\local\\programs\\python\\python37\\lib\\site-packages (from python-dateutil>=2.7->matplotlib) (1.15.0)\n"
     ]
    },
    {
     "name": "stderr",
     "output_type": "stream",
     "text": [
      "WARNING: You are using pip version 21.3.1; however, version 22.0.4 is available.\n",
      "You should consider upgrading via the 'C:\\Users\\ACER\\AppData\\Local\\Programs\\Python\\Python37\\python.exe -m pip install --upgrade pip' command.\n"
     ]
    }
   ],
   "source": [
    "#Install matplotlib in jupyter\n",
    "import sys  \n",
    "!{sys.executable} -m pip install --user matplotlib"
   ]
  },
  {
   "cell_type": "code",
   "execution_count": 77,
   "metadata": {},
   "outputs": [],
   "source": [
    "#Import matplotlib\n",
    "\n",
    "import matplotlib.pyplot as plt"
   ]
  },
  {
   "cell_type": "code",
   "execution_count": 78,
   "metadata": {},
   "outputs": [],
   "source": [
    "#Baca gambar menggunakan plt.imread('location_gambar') lalu masukkan ke variabel\n",
    "\n"
   ]
  },
  {
   "cell_type": "code",
   "execution_count": 79,
   "metadata": {},
   "outputs": [],
   "source": [
    "#Cek ukuran gambar\n",
    "#.shape\n"
   ]
  },
  {
   "cell_type": "code",
   "execution_count": 80,
   "metadata": {},
   "outputs": [],
   "source": [
    "# Total Piksel\n",
    "#.size\n"
   ]
  },
  {
   "cell_type": "code",
   "execution_count": 81,
   "metadata": {},
   "outputs": [],
   "source": [
    "#Nilai piksel\n",
    "#img, udah di scalling\n"
   ]
  },
  {
   "cell_type": "code",
   "execution_count": 82,
   "metadata": {},
   "outputs": [],
   "source": [
    "#Memastikan tipe data menjadi array\n",
    "#np.asarray()\n",
    "\n"
   ]
  },
  {
   "cell_type": "code",
   "execution_count": 83,
   "metadata": {},
   "outputs": [],
   "source": [
    "#Menentukan nilai yg akan ditambahkan ke piksel\n",
    "#Ubah ke skala 0-1, divide by 255 (highest pixel value)\n",
    "\n"
   ]
  },
  {
   "cell_type": "code",
   "execution_count": 84,
   "metadata": {},
   "outputs": [],
   "source": [
    "#Copy datanya dulu (penting setiap ingin memodifikasi data) ke variabel baru\n",
    "\n",
    "#tambahkan nilai piksel ke gambar\n"
   ]
  },
  {
   "cell_type": "code",
   "execution_count": 85,
   "metadata": {},
   "outputs": [],
   "source": [
    "# Menampilkan gambar original\n",
    "# `img` : array gambar\n",
    "# `cmap` : color map #figure\n",
    "# `vmin` : value minimum #figure\n",
    "# `vmax` : value maximum #figure\n",
    "#plt.imshow(nama_variabel, cmap='gray', vmin=0, vmax=1)\n",
    "\n"
   ]
  },
  {
   "cell_type": "code",
   "execution_count": 86,
   "metadata": {},
   "outputs": [],
   "source": [
    "# Menampilkan gambar yg sudah ditambah suatu value\n"
   ]
  }
 ],
 "metadata": {
  "interpreter": {
   "hash": "fbe69909b876abbd803d291e51ebabcdbbeff4e7f625f723ebefe76e750e4611"
  },
  "kernelspec": {
   "display_name": "Python 3.7.9 64-bit",
   "language": "python",
   "name": "python3"
  },
  "language_info": {
   "codemirror_mode": {
    "name": "ipython",
    "version": 3
   },
   "file_extension": ".py",
   "mimetype": "text/x-python",
   "name": "python",
   "nbconvert_exporter": "python",
   "pygments_lexer": "ipython3",
   "version": "3.7.9"
  },
  "orig_nbformat": 4
 },
 "nbformat": 4,
 "nbformat_minor": 2
}
