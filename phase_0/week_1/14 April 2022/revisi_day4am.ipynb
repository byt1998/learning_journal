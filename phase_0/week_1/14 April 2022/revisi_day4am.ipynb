{
  "cells": [
    {
      "cell_type": "code",
      "execution_count": null,
      "metadata": {},
      "outputs": [],
      "source": []
    },
    {
      "cell_type": "markdown",
      "metadata": {
        "id": "ERjHfILLxmbS"
      },
      "source": [
        "# Week 1: Day 4 AM // Pandas Basic"
      ]
    },
    {
      "cell_type": "markdown",
      "metadata": {
        "id": "fxzyarENtn5F"
      },
      "source": [
        "# Pandas Introduction\n",
        "\n",
        "Pandas is a fast, powerful, flexible and easy to use open source data analysis and manipulation tool,\n",
        "built on top of the Python programming language.\n",
        "\n",
        "Pandas is a Python library that provides extensive means for data analysis. Data scientists often work with data stored in table formats like .csv, .tsv, or .xlsx. Pandas makes it very convenient to load, process, and analyze such tabular data using SQL-like queries. In conjunction with Matplotlib and Seaborn, Pandas provides a wide range of opportunities for visual analysis of tabular data.\n",
        "\n",
        "The main data structures in Pandas are implemented with Series and DataFrame classes. The former is a one-dimensional indexed array of some fixed data type. The latter is a two-dimensional data structure - a table - where each column contains data of the same type. You can see it as a dictionary of Seriesinstances. DataFrames are great for representing real data: rows correspond to instances (objects, observations, etc.), and columns correspond to features for each of the instances.\n",
        "\n",
        "> Pandas is like Excel in Python: it uses tables (namely DataFrame) and operates transformations on the data. But it can do a lot more.\n",
        "\n",
        "**Installing Pandas**\n",
        "\n",
        "`python -m pip install pandas`\n",
        "\n",
        "or\n",
        "\n",
        "`conda install pandas`"
      ]
    },
    {
      "cell_type": "markdown",
      "metadata": {
        "id": "ggAwqSb7tn5G"
      },
      "source": [
        "## Using the Pandas Python Library\n"
      ]
    },
    {
      "cell_type": "code",
      "execution_count": 2,
      "metadata": {
        "id": "fjtT46ybtn5H"
      },
      "outputs": [],
      "source": [
        "import numpy as np\n",
        "import pandas as pd"
      ]
    },
    {
      "cell_type": "markdown",
      "metadata": {
        "id": "6nGVYOF6tn5i"
      },
      "source": [
        "## Getting to Know Pandas’ Data Structures\n",
        "\n",
        "### Understanding Series Objects\n",
        "\n",
        "Python’s most basic data structure is the list, which is also a good starting point for getting to know pandas.Series objects. Create a new Series object based on a list:"
      ]
    },
    {
      "cell_type": "code",
      "execution_count": 7,
      "metadata": {
        "id": "q7I2OEKNtn5j"
      },
      "outputs": [
        {
          "data": {
            "text/plain": [
              "0    5555\n",
              "1    7000\n",
              "2    1980\n",
              "dtype: int64"
            ]
          },
          "execution_count": 7,
          "metadata": {},
          "output_type": "execute_result"
        }
      ],
      "source": [
        "revenues = pd.Series([5555, 7000, 1980])\n",
        "revenues"
      ]
    },
    {
      "cell_type": "code",
      "execution_count": 4,
      "metadata": {
        "id": "hnP-ZG0R9zoR"
      },
      "outputs": [
        {
          "name": "stdout",
          "output_type": "stream",
          "text": [
            "0    5555\n",
            "1    7000\n",
            "2    1980\n",
            "dtype: int32\n"
          ]
        }
      ],
      "source": [
        "# # simple array\n",
        "# data = np.array([5555, 7000, 1980])\n",
        "# revenues = pd.Series(data)\n",
        "# print(revenues)\n",
        "\n",
        "data = np.array([5555, 7000, 1980])\n",
        "revenues = pd.Series(data)\n",
        "print(revenues)"
      ]
    },
    {
      "cell_type": "markdown",
      "metadata": {
        "id": "Hri_IQDDtn5j"
      },
      "source": [
        "You’ve used the list `[5555, 7000, 1980]` to create a Series object called revenues. A Series object wraps two components:\n",
        "\n",
        "- A sequence of values\n",
        "- A sequence of identifiers, which is the index\n",
        "\n",
        "You can access these components with `.values` and `.index`, respectively:"
      ]
    },
    {
      "cell_type": "code",
      "execution_count": 5,
      "metadata": {
        "colab": {
          "base_uri": "https://localhost:8080/"
        },
        "id": "YFdQ-ac4tn5j",
        "outputId": "1fa59960-7583-411b-ee8c-0db757579757"
      },
      "outputs": [
        {
          "data": {
            "text/plain": [
              "0    5555\n",
              "1    7000\n",
              "2    1980\n",
              "dtype: int32"
            ]
          },
          "execution_count": 5,
          "metadata": {},
          "output_type": "execute_result"
        }
      ],
      "source": [
        "revenues"
      ]
    },
    {
      "cell_type": "markdown",
      "metadata": {
        "id": "zOy9026itn5j"
      },
      "source": [
        "`revenues.values` returns the values in the Series, whereas `revenues.index` returns the positional index."
      ]
    },
    {
      "cell_type": "code",
      "execution_count": 6,
      "metadata": {
        "colab": {
          "base_uri": "https://localhost:8080/"
        },
        "id": "v2lgUE02tn5j",
        "outputId": "af69495a-123f-45c5-b0e9-bc4cf4e5ac83"
      },
      "outputs": [
        {
          "data": {
            "text/plain": [
              "array([5555, 7000, 1980])"
            ]
          },
          "execution_count": 6,
          "metadata": {},
          "output_type": "execute_result"
        }
      ],
      "source": [
        "revenues.values"
      ]
    },
    {
      "cell_type": "code",
      "execution_count": 6,
      "metadata": {
        "colab": {
          "base_uri": "https://localhost:8080/"
        },
        "id": "r30vA0GDtn5j",
        "outputId": "eb820358-2b14-4f0a-e2e8-552ce9c53cff"
      },
      "outputs": [
        {
          "data": {
            "text/plain": [
              "RangeIndex(start=0, stop=3, step=1)"
            ]
          },
          "execution_count": 6,
          "metadata": {},
          "output_type": "execute_result"
        }
      ],
      "source": [
        "revenues.index"
      ]
    },
    {
      "cell_type": "markdown",
      "metadata": {
        "id": "tsV4hi06tn5k"
      },
      "source": [
        "While Pandas builds on NumPy, a significant difference is in their indexing. Just like a NumPy array, a Pandas Series also has an integer index that’s implicitly defined. This implicit index indicates the element’s position in the Series.\n",
        "\n",
        "However, a Series can also have an arbitrary type of index. You can think of this explicit index as labels for a specific row:"
      ]
    },
    {
      "cell_type": "code",
      "execution_count": 16,
      "metadata": {
        "colab": {
          "base_uri": "https://localhost:8080/"
        },
        "id": "58gs1ZE0tn5k",
        "outputId": "17ff0ad9-8ebf-476c-e89f-3ab1a111b27d"
      },
      "outputs": [
        {
          "data": {
            "text/plain": [
              "Amsterdam    4200\n",
              "Toronto      8000\n",
              "Tokyo        6500\n",
              "dtype: int64"
            ]
          },
          "execution_count": 16,
          "metadata": {},
          "output_type": "execute_result"
        }
      ],
      "source": [
        "city_revenues = pd.Series(\n",
        "    [4200, 8000, 6500],\n",
        "    index=[\"Amsterdam\", \"Toronto\", \"Tokyo\"]\n",
        ")\n",
        "city_revenues"
      ]
    },
    {
      "cell_type": "markdown",
      "metadata": {
        "id": "vUpE_EJGtn5k"
      },
      "source": [
        "Here, the index is a list of city names represented by strings. You may have noticed that Python dictionaries use string indices as well, and this is a handy analogy to keep in mind! You can use the code blocks above to distinguish between two types of Series:\n",
        "\n",
        "- revenues: This Series behaves like a Python list because it only has a positional index.\n",
        "- city_revenues: This Series acts like a Python dictionary because it features both a positional and a label index.\n",
        "\n",
        "Here’s how to construct a Series with a label index from a Python dictionary:"
      ]
    },
    {
      "cell_type": "code",
      "execution_count": 14,
      "metadata": {
        "colab": {
          "base_uri": "https://localhost:8080/"
        },
        "id": "W7MtwRUvtn5k",
        "outputId": "134abb71-b3ef-4e48-ba65-b54f8dd32e9b"
      },
      "outputs": [
        {
          "data": {
            "text/plain": [
              "Amsterdam    5\n",
              "Tokyo        8\n",
              "dtype: int64"
            ]
          },
          "execution_count": 14,
          "metadata": {},
          "output_type": "execute_result"
        }
      ],
      "source": [
        "city_employee_count = pd.Series({\"Amsterdam\": 5, \"Tokyo\": 8})\n",
        "city_employee_count"
      ]
    },
    {
      "cell_type": "markdown",
      "metadata": {
        "id": "h75hV_wKtn5k"
      },
      "source": [
        "The dictionary keys become the index, and the dictionary values are the Series values.\n",
        "\n",
        "Just like dictionaries, Series also support `.keys()` and the in keyword:"
      ]
    },
    {
      "cell_type": "code",
      "execution_count": 11,
      "metadata": {
        "colab": {
          "base_uri": "https://localhost:8080/"
        },
        "id": "bRVG4wsBtn5l",
        "outputId": "3dfd14c8-e508-4cad-c774-fb23a9413182"
      },
      "outputs": [
        {
          "data": {
            "text/plain": [
              "Index(['Amsterdam', 'Tokyo'], dtype='object')"
            ]
          },
          "execution_count": 11,
          "metadata": {},
          "output_type": "execute_result"
        }
      ],
      "source": [
        "city_employee_count.keys()"
      ]
    },
    {
      "cell_type": "code",
      "execution_count": 12,
      "metadata": {
        "colab": {
          "base_uri": "https://localhost:8080/"
        },
        "id": "V_38F57Btn5l",
        "outputId": "1f914d8d-3e5a-41af-fda6-7833f1c5681f"
      },
      "outputs": [
        {
          "data": {
            "text/plain": [
              "True"
            ]
          },
          "execution_count": 12,
          "metadata": {},
          "output_type": "execute_result"
        }
      ],
      "source": [
        "\"Tokyo\" in city_employee_count"
      ]
    },
    {
      "cell_type": "code",
      "execution_count": 13,
      "metadata": {
        "colab": {
          "base_uri": "https://localhost:8080/"
        },
        "id": "5iLoqVPVtn5l",
        "outputId": "db4f960a-6c67-4769-9afd-1363883fbb84",
        "scrolled": true
      },
      "outputs": [
        {
          "data": {
            "text/plain": [
              "False"
            ]
          },
          "execution_count": 13,
          "metadata": {},
          "output_type": "execute_result"
        }
      ],
      "source": [
        "\"New York\" in city_employee_count"
      ]
    },
    {
      "cell_type": "markdown",
      "metadata": {
        "id": "sBys_1s2tn5l"
      },
      "source": [
        "You can use these methods to answer questions about your dataset quickly."
      ]
    },
    {
      "cell_type": "markdown",
      "metadata": {
        "id": "Kdw38kYqtn5l"
      },
      "source": [
        "### Understanding DataFrame Objects\n",
        "\n",
        "While a Series is a pretty powerful data structure, it has its limitations. For example, you can only store one attribute per key. \n",
        "\n",
        "If you’ve followed along with the Series examples, then you should already have two Series objects with cities as keys:\n",
        "\n",
        "- city_revenues\n",
        "- city_employee_count\n",
        "\n",
        "You can combine these objects into a DataFrame by providing a dictionary in the constructor. The dictionary keys will become the column names, and the values should contain the Series objects:"
      ]
    },
    {
      "cell_type": "code",
      "execution_count": 20,
      "metadata": {
        "id": "5N4FJ7_wtn5m"
      },
      "outputs": [],
      "source": [
        "city_data = pd.DataFrame({\n",
        "    \"revenue\": city_revenues,\n",
        "    \"employee_count\": city_employee_count\n",
        "})"
      ]
    },
    {
      "cell_type": "code",
      "execution_count": 21,
      "metadata": {
        "colab": {
          "base_uri": "https://localhost:8080/",
          "height": 0
        },
        "id": "W_26uNk7tn5m",
        "outputId": "053de831-babb-4bf6-9f2e-8af3e309ec23"
      },
      "outputs": [
        {
          "data": {
            "text/html": [
              "<div>\n",
              "<style scoped>\n",
              "    .dataframe tbody tr th:only-of-type {\n",
              "        vertical-align: middle;\n",
              "    }\n",
              "\n",
              "    .dataframe tbody tr th {\n",
              "        vertical-align: top;\n",
              "    }\n",
              "\n",
              "    .dataframe thead th {\n",
              "        text-align: right;\n",
              "    }\n",
              "</style>\n",
              "<table border=\"1\" class=\"dataframe\">\n",
              "  <thead>\n",
              "    <tr style=\"text-align: right;\">\n",
              "      <th></th>\n",
              "      <th>revenue</th>\n",
              "      <th>employee_count</th>\n",
              "    </tr>\n",
              "  </thead>\n",
              "  <tbody>\n",
              "    <tr>\n",
              "      <th>Amsterdam</th>\n",
              "      <td>4200</td>\n",
              "      <td>5.0</td>\n",
              "    </tr>\n",
              "    <tr>\n",
              "      <th>Tokyo</th>\n",
              "      <td>6500</td>\n",
              "      <td>8.0</td>\n",
              "    </tr>\n",
              "    <tr>\n",
              "      <th>Toronto</th>\n",
              "      <td>8000</td>\n",
              "      <td>NaN</td>\n",
              "    </tr>\n",
              "  </tbody>\n",
              "</table>\n",
              "</div>"
            ],
            "text/plain": [
              "           revenue  employee_count\n",
              "Amsterdam     4200             5.0\n",
              "Tokyo         6500             8.0\n",
              "Toronto       8000             NaN"
            ]
          },
          "execution_count": 21,
          "metadata": {},
          "output_type": "execute_result"
        }
      ],
      "source": [
        "city_data"
      ]
    },
    {
      "cell_type": "markdown",
      "metadata": {
        "id": "s2XnPBB_tn5m"
      },
      "source": [
        "Note how Pandas replaced the missing employee_count value for Toronto with NaN.\n",
        "\n",
        "The new DataFrame index is the union of the two Series indices:"
      ]
    },
    {
      "cell_type": "code",
      "execution_count": 22,
      "metadata": {
        "colab": {
          "base_uri": "https://localhost:8080/"
        },
        "id": "yxs_gCZutn5n",
        "outputId": "5e3fdc58-738d-4f9a-ea20-cc4e2e55f885"
      },
      "outputs": [
        {
          "data": {
            "text/plain": [
              "Index(['Amsterdam', 'Tokyo', 'Toronto'], dtype='object')"
            ]
          },
          "execution_count": 22,
          "metadata": {},
          "output_type": "execute_result"
        }
      ],
      "source": [
        "city_data.index"
      ]
    },
    {
      "cell_type": "markdown",
      "metadata": {
        "id": "_G7EVVaztn5n"
      },
      "source": [
        "Just like a Series, a DataFrame also stores its values in a NumPy array:"
      ]
    },
    {
      "cell_type": "code",
      "execution_count": 23,
      "metadata": {
        "colab": {
          "base_uri": "https://localhost:8080/"
        },
        "id": "MS_P0V2otn5n",
        "outputId": "31490a4b-146c-4777-c877-1b67ec3c0b34"
      },
      "outputs": [
        {
          "data": {
            "text/plain": [
              "array([[4.2e+03, 5.0e+00],\n",
              "       [6.5e+03, 8.0e+00],\n",
              "       [8.0e+03,     nan]])"
            ]
          },
          "execution_count": 23,
          "metadata": {},
          "output_type": "execute_result"
        }
      ],
      "source": [
        "city_data.values"
      ]
    },
    {
      "cell_type": "markdown",
      "metadata": {
        "id": "SKraBI0Ttn5n"
      },
      "source": [
        "You can also refer to the 2 dimensions of a DataFrame as axes:"
      ]
    },
    {
      "cell_type": "code",
      "execution_count": 16,
      "metadata": {
        "colab": {
          "base_uri": "https://localhost:8080/"
        },
        "id": "jyFhtn2vtn5n",
        "outputId": "88ca0546-f80d-47e8-9258-dbf3127879f4"
      },
      "outputs": [
        {
          "data": {
            "text/plain": [
              "[Index(['Amsterdam', 'Tokyo', 'Toronto'], dtype='object'),\n",
              " Index(['revenue', 'employee_count'], dtype='object')]"
            ]
          },
          "execution_count": 16,
          "metadata": {},
          "output_type": "execute_result"
        }
      ],
      "source": [
        "city_data.axes"
      ]
    },
    {
      "cell_type": "code",
      "execution_count": 17,
      "metadata": {
        "colab": {
          "base_uri": "https://localhost:8080/"
        },
        "id": "YliPK2Tptn5n",
        "outputId": "f87430b0-ea50-4adc-ef5b-f4852346a47c"
      },
      "outputs": [
        {
          "data": {
            "text/plain": [
              "Index(['Amsterdam', 'Tokyo', 'Toronto'], dtype='object')"
            ]
          },
          "execution_count": 17,
          "metadata": {},
          "output_type": "execute_result"
        }
      ],
      "source": [
        "city_data.axes[0]"
      ]
    },
    {
      "cell_type": "code",
      "execution_count": 18,
      "metadata": {
        "colab": {
          "base_uri": "https://localhost:8080/"
        },
        "id": "ajLOGOFwtn5o",
        "outputId": "2e73df98-4fcc-4fd7-e7d7-0a6871132244"
      },
      "outputs": [
        {
          "data": {
            "text/plain": [
              "Index(['revenue', 'employee_count'], dtype='object')"
            ]
          },
          "execution_count": 18,
          "metadata": {},
          "output_type": "execute_result"
        }
      ],
      "source": [
        "city_data.axes[1]"
      ]
    },
    {
      "cell_type": "markdown",
      "metadata": {
        "id": "QkDXGZZctn5o"
      },
      "source": [
        "The axis marked with 0 is the row index, and the axis marked with 1 is the column index. This terminology is important to know because you’ll encounter several DataFrame methods that accept an axis parameter.\n",
        "\n",
        "A DataFrame is also a dictionary-like data structure, so it also supports .keys() and the in keyword. However, for a DataFrame these don’t relate to the index, but to the columns:"
      ]
    },
    {
      "cell_type": "code",
      "execution_count": 19,
      "metadata": {
        "colab": {
          "base_uri": "https://localhost:8080/"
        },
        "id": "RtfImb5Ftn5o",
        "outputId": "0b5a7c49-af4b-4276-9161-f72460420133"
      },
      "outputs": [
        {
          "data": {
            "text/plain": [
              "Index(['revenue', 'employee_count'], dtype='object')"
            ]
          },
          "execution_count": 19,
          "metadata": {},
          "output_type": "execute_result"
        }
      ],
      "source": [
        "city_data.keys()"
      ]
    },
    {
      "cell_type": "code",
      "execution_count": 20,
      "metadata": {
        "colab": {
          "base_uri": "https://localhost:8080/"
        },
        "id": "nLpWiLEYtn5o",
        "outputId": "aa271677-cb80-4cbe-e504-0c6035b37a78"
      },
      "outputs": [
        {
          "data": {
            "text/plain": [
              "False"
            ]
          },
          "execution_count": 20,
          "metadata": {},
          "output_type": "execute_result"
        }
      ],
      "source": [
        "\"Amsterdam\" in city_data"
      ]
    },
    {
      "cell_type": "code",
      "execution_count": 21,
      "metadata": {
        "colab": {
          "base_uri": "https://localhost:8080/"
        },
        "id": "dzqoNkqbtn5o",
        "outputId": "91c95928-e1c3-4e2a-f3ef-52ae73dfe43d"
      },
      "outputs": [
        {
          "data": {
            "text/plain": [
              "True"
            ]
          },
          "execution_count": 21,
          "metadata": {},
          "output_type": "execute_result"
        }
      ],
      "source": [
        "\"revenue\" in city_data"
      ]
    },
    {
      "cell_type": "markdown",
      "metadata": {
        "id": "xAGpKHCmtn5q"
      },
      "source": [
        "### Accessing Series Elements\n",
        "\n",
        "In the section above, you’ve created a Pandas Series based on a Python list and compared the two data structures. You’ve seen how a Series object is similar to lists and dictionaries in several ways. A further similarity is that you can use the indexing operator `([])` for Series as well.\n",
        "\n",
        "You’ll also learn how to use two Pandas-specific access methods:\n",
        "\n",
        "- `.loc`\n",
        "- `.iloc`\n",
        "\n",
        "You’ll see that these data access methods can be much more readable than the indexing operator.\n",
        "\n",
        "**Using the Indexing Operator**\n",
        "\n",
        "Recall that a Series has two indices:\n",
        "\n",
        "- A positional or implicit index, which is always a RangeIndex\n",
        "- A label or explicit index, which can contain any hashable objects\n",
        "\n",
        "Next, revisit the `city_revenues` object:"
      ]
    },
    {
      "cell_type": "code",
      "execution_count": 22,
      "metadata": {
        "colab": {
          "base_uri": "https://localhost:8080/"
        },
        "id": "b2fb7Mlutn5q",
        "outputId": "daa27926-4b83-4ae2-d9b3-24a7ac437b22"
      },
      "outputs": [
        {
          "data": {
            "text/plain": [
              "Amsterdam    4200\n",
              "Toronto      8000\n",
              "Tokyo        6500\n",
              "dtype: int64"
            ]
          },
          "execution_count": 22,
          "metadata": {},
          "output_type": "execute_result"
        }
      ],
      "source": [
        "city_revenues"
      ]
    },
    {
      "cell_type": "markdown",
      "metadata": {
        "id": "PuwusmTktn5q"
      },
      "source": [
        "You can conveniently access the values in a Series with both the label and positional indices:"
      ]
    },
    {
      "cell_type": "code",
      "execution_count": 23,
      "metadata": {
        "colab": {
          "base_uri": "https://localhost:8080/"
        },
        "id": "Nlsosoxptn5r",
        "outputId": "8f920c89-52b1-4768-c2c4-ac1e93bf2be4"
      },
      "outputs": [
        {
          "data": {
            "text/plain": [
              "8000"
            ]
          },
          "execution_count": 23,
          "metadata": {},
          "output_type": "execute_result"
        }
      ],
      "source": [
        "city_revenues[\"Toronto\"]"
      ]
    },
    {
      "cell_type": "code",
      "execution_count": 24,
      "metadata": {
        "colab": {
          "base_uri": "https://localhost:8080/"
        },
        "id": "hvK17aM6tn5r",
        "outputId": "899fbdc0-fcf6-41d2-a4eb-efca74deb6bd"
      },
      "outputs": [
        {
          "data": {
            "text/plain": [
              "8000"
            ]
          },
          "execution_count": 24,
          "metadata": {},
          "output_type": "execute_result"
        }
      ],
      "source": [
        "city_revenues[1]"
      ]
    },
    {
      "cell_type": "markdown",
      "metadata": {
        "id": "TB8Ujlwutn5r"
      },
      "source": [
        "You can also use negative indices and slices, just like you would for a list:"
      ]
    },
    {
      "cell_type": "code",
      "execution_count": 25,
      "metadata": {
        "colab": {
          "base_uri": "https://localhost:8080/"
        },
        "id": "fU-FEDDEtn5r",
        "outputId": "9c482e48-04e3-4c68-defc-75ad901002ab"
      },
      "outputs": [
        {
          "data": {
            "text/plain": [
              "6500"
            ]
          },
          "execution_count": 25,
          "metadata": {},
          "output_type": "execute_result"
        }
      ],
      "source": [
        "city_revenues[-1]"
      ]
    },
    {
      "cell_type": "code",
      "execution_count": 26,
      "metadata": {
        "colab": {
          "base_uri": "https://localhost:8080/"
        },
        "id": "TL5HYZWStn5r",
        "outputId": "ff050d47-9fc3-47dc-e95d-f4016790092b"
      },
      "outputs": [
        {
          "data": {
            "text/plain": [
              "Toronto    8000\n",
              "Tokyo      6500\n",
              "dtype: int64"
            ]
          },
          "execution_count": 26,
          "metadata": {},
          "output_type": "execute_result"
        }
      ],
      "source": [
        "city_revenues[1:]"
      ]
    },
    {
      "cell_type": "code",
      "execution_count": 27,
      "metadata": {
        "colab": {
          "base_uri": "https://localhost:8080/"
        },
        "id": "5X6xZ_Fntn5r",
        "outputId": "2f9f364b-4e6a-4fca-91a2-c93b112b408d"
      },
      "outputs": [
        {
          "data": {
            "text/plain": [
              "Toronto    8000\n",
              "Tokyo      6500\n",
              "dtype: int64"
            ]
          },
          "execution_count": 27,
          "metadata": {},
          "output_type": "execute_result"
        }
      ],
      "source": [
        "city_revenues[\"Toronto\":]"
      ]
    },
    {
      "cell_type": "markdown",
      "metadata": {
        "id": "lKDOjjBktn5s"
      },
      "source": [
        "**Using .loc and .iloc**\n",
        "\n",
        "The indexing operator `([])` is convenient, but there’s a caveat. What if the labels are also numbers? Say you have to work with a Series object like this:"
      ]
    },
    {
      "cell_type": "code",
      "execution_count": 28,
      "metadata": {
        "id": "WozxOLRQtn5s"
      },
      "outputs": [],
      "source": [
        "colors = pd.Series(\n",
        "    [\"red\", \"purple\", \"blue\", \"green\", \"yellow\"],\n",
        "    index=[1, 2, 3, 5, 8]\n",
        ")"
      ]
    },
    {
      "cell_type": "code",
      "execution_count": 29,
      "metadata": {
        "colab": {
          "base_uri": "https://localhost:8080/"
        },
        "id": "kFRA1uFhtn5s",
        "outputId": "365404de-e420-4488-d57b-d8652f72e434"
      },
      "outputs": [
        {
          "data": {
            "text/plain": [
              "1       red\n",
              "2    purple\n",
              "3      blue\n",
              "5     green\n",
              "8    yellow\n",
              "dtype: object"
            ]
          },
          "execution_count": 29,
          "metadata": {},
          "output_type": "execute_result"
        }
      ],
      "source": [
        "colors"
      ]
    },
    {
      "cell_type": "markdown",
      "metadata": {
        "id": "_BYQA6nbtn5s"
      },
      "source": [
        "What will `colors[1]` return? For a positional index, `colors[1]` is \"purple\". However, if you go by the label index, then `colors[1]` is referring to \"red\".\n",
        "\n",
        "The good news is, you don’t have to figure it out! Instead, to avoid confusion, the Pandas Python library provides two data access methods:\n",
        "\n",
        "- .loc refers to the label index.\n",
        "- .iloc refers to the positional index.\n",
        "\n",
        "These data access methods are much more readable:"
      ]
    },
    {
      "cell_type": "code",
      "execution_count": 30,
      "metadata": {
        "colab": {
          "base_uri": "https://localhost:8080/",
          "height": 0
        },
        "id": "z3mqrTbStn5s",
        "outputId": "fa0ee400-e6e6-4e56-ce0d-de614ab8d992"
      },
      "outputs": [
        {
          "data": {
            "application/vnd.google.colaboratory.intrinsic+json": {
              "type": "string"
            },
            "text/plain": [
              "'red'"
            ]
          },
          "execution_count": 30,
          "metadata": {},
          "output_type": "execute_result"
        }
      ],
      "source": [
        "colors.loc[1]"
      ]
    },
    {
      "cell_type": "code",
      "execution_count": 31,
      "metadata": {
        "colab": {
          "base_uri": "https://localhost:8080/",
          "height": 0
        },
        "id": "gkEKmOaMtn5t",
        "outputId": "ca824c1d-aceb-4c6e-80f0-8d6243ecbe8d"
      },
      "outputs": [
        {
          "data": {
            "application/vnd.google.colaboratory.intrinsic+json": {
              "type": "string"
            },
            "text/plain": [
              "'purple'"
            ]
          },
          "execution_count": 31,
          "metadata": {},
          "output_type": "execute_result"
        }
      ],
      "source": [
        "colors.iloc[1]"
      ]
    },
    {
      "cell_type": "markdown",
      "metadata": {
        "id": "lPbJQacCtn5t"
      },
      "source": [
        "`colors.loc[1]` returned \"red\", the element with the label 1. `colors.iloc[1]` returned \"purple\", the element with the index 1."
      ]
    },
    {
      "cell_type": "markdown",
      "metadata": {
        "id": "AqEebEuWtn5t"
      },
      "source": [
        "It’s easier to keep in mind the distinction between .loc and .iloc than it is to figure out what the indexing operator will return. Even if you’re familiar with all the quirks of the indexing operator, it can be dangerous to assume that everybody who reads your code has internalized those rules as well!\n",
        "\n",
        "`.loc` and `.iloc` also support the features you would expect from indexing operators, like slicing. However, these data access methods have an important difference. While `.iloc` excludes the closing element, `.loc` includes it. Take a look at this code block:"
      ]
    },
    {
      "cell_type": "code",
      "execution_count": 33,
      "metadata": {
        "colab": {
          "base_uri": "https://localhost:8080/"
        },
        "id": "Wq879huxtn5t",
        "outputId": "632ebd88-3062-43a7-f54b-3e2cd347e9ff"
      },
      "outputs": [
        {
          "data": {
            "text/html": [
              "<div>\n",
              "<style scoped>\n",
              "    .dataframe tbody tr th:only-of-type {\n",
              "        vertical-align: middle;\n",
              "    }\n",
              "\n",
              "    .dataframe tbody tr th {\n",
              "        vertical-align: top;\n",
              "    }\n",
              "\n",
              "    .dataframe thead th {\n",
              "        text-align: right;\n",
              "    }\n",
              "</style>\n",
              "<table border=\"1\" class=\"dataframe\">\n",
              "  <thead>\n",
              "    <tr style=\"text-align: right;\">\n",
              "      <th></th>\n",
              "      <th>0</th>\n",
              "    </tr>\n",
              "  </thead>\n",
              "  <tbody>\n",
              "    <tr>\n",
              "      <th>2</th>\n",
              "      <td>purple</td>\n",
              "    </tr>\n",
              "    <tr>\n",
              "      <th>3</th>\n",
              "      <td>blue</td>\n",
              "    </tr>\n",
              "    <tr>\n",
              "      <th>5</th>\n",
              "      <td>green</td>\n",
              "    </tr>\n",
              "  </tbody>\n",
              "</table>\n",
              "</div>"
            ],
            "text/plain": [
              "        0\n",
              "2  purple\n",
              "3    blue\n",
              "5   green"
            ]
          },
          "execution_count": 33,
          "metadata": {},
          "output_type": "execute_result"
        }
      ],
      "source": [
        "# Return the elements with the implicit index: 1, 2\n",
        "\n",
        "colors.iloc[1:4]"
      ]
    },
    {
      "cell_type": "markdown",
      "metadata": {
        "id": "hG024dqRtn5u"
      },
      "source": [
        "If you compare this code with the image above, then you can see that `colors.iloc[1:3]` returns the elements with the positional indices of 1 and 2. The closing item \"green\" with a positional index of 3 is excluded.\n",
        "\n",
        "On the other hand, `.loc` includes the closing element:"
      ]
    },
    {
      "cell_type": "code",
      "execution_count": 33,
      "metadata": {
        "colab": {
          "base_uri": "https://localhost:8080/"
        },
        "id": "2LJdWE9Vtn5u",
        "outputId": "123901a4-1122-45fc-ec7c-ebc57831c2f4"
      },
      "outputs": [
        {
          "data": {
            "text/plain": [
              "3      blue\n",
              "5     green\n",
              "8    yellow\n",
              "dtype: object"
            ]
          },
          "execution_count": 33,
          "metadata": {},
          "output_type": "execute_result"
        }
      ],
      "source": [
        "# Return the elements with the explicit index between 3 and 8\n",
        "\n",
        "colors.loc[3:8]"
      ]
    },
    {
      "cell_type": "markdown",
      "metadata": {
        "id": "nQh8IaCxtn5w"
      },
      "source": [
        "This code block says to return all elements with a label index between 3 and 8. Here, the closing item \"yellow\" has a label index of 8 and is included in the output.\n",
        "\n",
        "You can also pass a negative positional index to `.iloc`:"
      ]
    },
    {
      "cell_type": "code",
      "execution_count": 34,
      "metadata": {
        "colab": {
          "base_uri": "https://localhost:8080/",
          "height": 0
        },
        "id": "yegfB3HBtn5w",
        "outputId": "0f3a153c-9d47-4b19-a86c-8116b172d087"
      },
      "outputs": [
        {
          "data": {
            "application/vnd.google.colaboratory.intrinsic+json": {
              "type": "string"
            },
            "text/plain": [
              "'green'"
            ]
          },
          "execution_count": 34,
          "metadata": {},
          "output_type": "execute_result"
        }
      ],
      "source": [
        "colors.iloc[-2]"
      ]
    },
    {
      "cell_type": "markdown",
      "metadata": {
        "id": "XU849Da0tn5w"
      },
      "source": [
        "You start from the end of the Series and return the second element.\n",
        "\n",
        "You can use the code blocks above to distinguish between two Series behaviors:\n",
        "\n",
        "- You can use `.iloc` on a Series similar to using `[]` on a list.\n",
        "- You can use `.loc` on a Series similar to using `[]` on a dictionary."
      ]
    },
    {
      "cell_type": "markdown",
      "metadata": {
        "id": "d5aTBPiWtn5w"
      },
      "source": [
        "### Accessing DataFrame Elements\n",
        "\n",
        "Since a DataFrame consists of Series objects, you can use the very same tools to access its elements. The crucial difference is the additional dimension of the DataFrame. You’ll use the indexing operator for the columns and the access methods `.loc` and `.iloc` on the rows.\n",
        "\n",
        "**Using the Indexing Operator**\n",
        "\n",
        "If you think of a DataFrame as a dictionary whose values are Series, then it makes sense that you can access its columns with the indexing operator:"
      ]
    },
    {
      "cell_type": "code",
      "execution_count": 35,
      "metadata": {
        "colab": {
          "base_uri": "https://localhost:8080/"
        },
        "id": "1XfCWgH8tn5x",
        "outputId": "3766efc5-8c88-4419-8875-bc1032eb4487"
      },
      "outputs": [
        {
          "data": {
            "text/plain": [
              "Amsterdam    4200\n",
              "Tokyo        6500\n",
              "Toronto      8000\n",
              "Name: revenue, dtype: int64"
            ]
          },
          "execution_count": 35,
          "metadata": {},
          "output_type": "execute_result"
        }
      ],
      "source": [
        "city_data[\"revenue\"]"
      ]
    },
    {
      "cell_type": "markdown",
      "metadata": {
        "id": "TN9U5tystn5x"
      },
      "source": [
        "Here, you use the indexing operator to select the column labeled \"revenue\".\n",
        "\n",
        "If the column name is a string, then you can use attribute-style accessing with dot notation as well:"
      ]
    },
    {
      "cell_type": "code",
      "execution_count": 36,
      "metadata": {
        "colab": {
          "base_uri": "https://localhost:8080/"
        },
        "id": "fLOJPhUYtn5x",
        "outputId": "87392cc9-1542-4bae-ec73-9f215edf7641"
      },
      "outputs": [
        {
          "data": {
            "text/plain": [
              "Amsterdam    4200\n",
              "Tokyo        6500\n",
              "Toronto      8000\n",
              "Name: revenue, dtype: int64"
            ]
          },
          "execution_count": 36,
          "metadata": {},
          "output_type": "execute_result"
        }
      ],
      "source": [
        "city_data.revenue"
      ]
    },
    {
      "cell_type": "markdown",
      "metadata": {
        "id": "IPhhY8Oftn5y"
      },
      "source": [
        "`city_data[\"revenue\"]` and `city_data.revenue` return the same output.\n",
        "\n",
        "There’s one situation where accessing DataFrame elements with dot notation may not work or may lead to surprises. This is when a column name coincides with a DataFrame attribute or method name:"
      ]
    },
    {
      "cell_type": "code",
      "execution_count": 34,
      "metadata": {
        "id": "CUCbXuJHtn5z"
      },
      "outputs": [
        {
          "data": {
            "text/html": [
              "<div>\n",
              "<style scoped>\n",
              "    .dataframe tbody tr th:only-of-type {\n",
              "        vertical-align: middle;\n",
              "    }\n",
              "\n",
              "    .dataframe tbody tr th {\n",
              "        vertical-align: top;\n",
              "    }\n",
              "\n",
              "    .dataframe thead th {\n",
              "        text-align: right;\n",
              "    }\n",
              "</style>\n",
              "<table border=\"1\" class=\"dataframe\">\n",
              "  <thead>\n",
              "    <tr style=\"text-align: right;\">\n",
              "      <th></th>\n",
              "      <th>name</th>\n",
              "      <th>shape</th>\n",
              "    </tr>\n",
              "  </thead>\n",
              "  <tbody>\n",
              "    <tr>\n",
              "      <th>0</th>\n",
              "      <td>ball</td>\n",
              "      <td>sphere</td>\n",
              "    </tr>\n",
              "    <tr>\n",
              "      <th>1</th>\n",
              "      <td>Rubik's cube</td>\n",
              "      <td>cube</td>\n",
              "    </tr>\n",
              "  </tbody>\n",
              "</table>\n",
              "</div>"
            ],
            "text/plain": [
              "           name   shape\n",
              "0          ball  sphere\n",
              "1  Rubik's cube    cube"
            ]
          },
          "execution_count": 34,
          "metadata": {},
          "output_type": "execute_result"
        }
      ],
      "source": [
        "toys = pd.DataFrame([\n",
        "    {\"name\": \"ball\", \"shape\": \"sphere\"},\n",
        "    {\"name\": \"Rubik's cube\", \"shape\": \"cube\"}\n",
        "])"
      ]
    },
    {
      "cell_type": "code",
      "execution_count": 38,
      "metadata": {
        "colab": {
          "base_uri": "https://localhost:8080/"
        },
        "id": "hrRSiIFvtn5z",
        "outputId": "700bb661-c5be-4a01-ed39-f2374b7695c8"
      },
      "outputs": [
        {
          "data": {
            "text/plain": [
              "0    sphere\n",
              "1      cube\n",
              "Name: shape, dtype: object"
            ]
          },
          "execution_count": 38,
          "metadata": {},
          "output_type": "execute_result"
        }
      ],
      "source": [
        "toys[\"shape\"]"
      ]
    },
    {
      "cell_type": "code",
      "execution_count": 39,
      "metadata": {
        "colab": {
          "base_uri": "https://localhost:8080/"
        },
        "id": "Uw-zeuTwtn5z",
        "outputId": "af952f5e-7643-4ce5-cb5b-71b2afad6753"
      },
      "outputs": [
        {
          "data": {
            "text/plain": [
              "(2, 2)"
            ]
          },
          "execution_count": 39,
          "metadata": {},
          "output_type": "execute_result"
        }
      ],
      "source": [
        "toys.shape"
      ]
    },
    {
      "cell_type": "markdown",
      "metadata": {
        "id": "K919IxhDtn5z"
      },
      "source": [
        "The indexing operation `toys[\"shape\"]` returns the correct data, but the attribute-style operation `toys.shape `still returns the shape of the DataFrame. You should only use attribute-style accessing in interactive sessions or for read operations. You shouldn’t use it for production code or for manipulating data (such as defining new columns).\n",
        "\n",
        "**Using .loc and .iloc**\n",
        "\n",
        "Similar to Series, a DataFrame also provides `.loc` and `.iloc` data access methods. Remember, `.loc` uses the label and `.iloc` the positional index:"
      ]
    },
    {
      "cell_type": "code",
      "execution_count": 40,
      "metadata": {
        "colab": {
          "base_uri": "https://localhost:8080/"
        },
        "id": "_anI2kVftn50",
        "outputId": "9ea0cc9d-784b-4f02-d67d-bc0b369e7d8f"
      },
      "outputs": [
        {
          "data": {
            "text/plain": [
              "revenue           4200.0\n",
              "employee_count       5.0\n",
              "Name: Amsterdam, dtype: float64"
            ]
          },
          "execution_count": 40,
          "metadata": {},
          "output_type": "execute_result"
        }
      ],
      "source": [
        "city_data.loc[\"Amsterdam\"]"
      ]
    },
    {
      "cell_type": "code",
      "execution_count": 41,
      "metadata": {
        "colab": {
          "base_uri": "https://localhost:8080/",
          "height": 0
        },
        "id": "9MbjhImLtn50",
        "outputId": "5ae7bb1f-ab86-4196-8605-942b846455d2"
      },
      "outputs": [
        {
          "data": {
            "text/html": [
              "\n",
              "  <div id=\"df-9b0660c6-ad5d-475e-a3cf-c1a86de52be6\">\n",
              "    <div class=\"colab-df-container\">\n",
              "      <div>\n",
              "<style scoped>\n",
              "    .dataframe tbody tr th:only-of-type {\n",
              "        vertical-align: middle;\n",
              "    }\n",
              "\n",
              "    .dataframe tbody tr th {\n",
              "        vertical-align: top;\n",
              "    }\n",
              "\n",
              "    .dataframe thead th {\n",
              "        text-align: right;\n",
              "    }\n",
              "</style>\n",
              "<table border=\"1\" class=\"dataframe\">\n",
              "  <thead>\n",
              "    <tr style=\"text-align: right;\">\n",
              "      <th></th>\n",
              "      <th>revenue</th>\n",
              "      <th>employee_count</th>\n",
              "    </tr>\n",
              "  </thead>\n",
              "  <tbody>\n",
              "    <tr>\n",
              "      <th>Tokyo</th>\n",
              "      <td>6500</td>\n",
              "      <td>8.0</td>\n",
              "    </tr>\n",
              "    <tr>\n",
              "      <th>Toronto</th>\n",
              "      <td>8000</td>\n",
              "      <td>NaN</td>\n",
              "    </tr>\n",
              "  </tbody>\n",
              "</table>\n",
              "</div>\n",
              "      <button class=\"colab-df-convert\" onclick=\"convertToInteractive('df-9b0660c6-ad5d-475e-a3cf-c1a86de52be6')\"\n",
              "              title=\"Convert this dataframe to an interactive table.\"\n",
              "              style=\"display:none;\">\n",
              "        \n",
              "  <svg xmlns=\"http://www.w3.org/2000/svg\" height=\"24px\"viewBox=\"0 0 24 24\"\n",
              "       width=\"24px\">\n",
              "    <path d=\"M0 0h24v24H0V0z\" fill=\"none\"/>\n",
              "    <path d=\"M18.56 5.44l.94 2.06.94-2.06 2.06-.94-2.06-.94-.94-2.06-.94 2.06-2.06.94zm-11 1L8.5 8.5l.94-2.06 2.06-.94-2.06-.94L8.5 2.5l-.94 2.06-2.06.94zm10 10l.94 2.06.94-2.06 2.06-.94-2.06-.94-.94-2.06-.94 2.06-2.06.94z\"/><path d=\"M17.41 7.96l-1.37-1.37c-.4-.4-.92-.59-1.43-.59-.52 0-1.04.2-1.43.59L10.3 9.45l-7.72 7.72c-.78.78-.78 2.05 0 2.83L4 21.41c.39.39.9.59 1.41.59.51 0 1.02-.2 1.41-.59l7.78-7.78 2.81-2.81c.8-.78.8-2.07 0-2.86zM5.41 20L4 18.59l7.72-7.72 1.47 1.35L5.41 20z\"/>\n",
              "  </svg>\n",
              "      </button>\n",
              "      \n",
              "  <style>\n",
              "    .colab-df-container {\n",
              "      display:flex;\n",
              "      flex-wrap:wrap;\n",
              "      gap: 12px;\n",
              "    }\n",
              "\n",
              "    .colab-df-convert {\n",
              "      background-color: #E8F0FE;\n",
              "      border: none;\n",
              "      border-radius: 50%;\n",
              "      cursor: pointer;\n",
              "      display: none;\n",
              "      fill: #1967D2;\n",
              "      height: 32px;\n",
              "      padding: 0 0 0 0;\n",
              "      width: 32px;\n",
              "    }\n",
              "\n",
              "    .colab-df-convert:hover {\n",
              "      background-color: #E2EBFA;\n",
              "      box-shadow: 0px 1px 2px rgba(60, 64, 67, 0.3), 0px 1px 3px 1px rgba(60, 64, 67, 0.15);\n",
              "      fill: #174EA6;\n",
              "    }\n",
              "\n",
              "    [theme=dark] .colab-df-convert {\n",
              "      background-color: #3B4455;\n",
              "      fill: #D2E3FC;\n",
              "    }\n",
              "\n",
              "    [theme=dark] .colab-df-convert:hover {\n",
              "      background-color: #434B5C;\n",
              "      box-shadow: 0px 1px 3px 1px rgba(0, 0, 0, 0.15);\n",
              "      filter: drop-shadow(0px 1px 2px rgba(0, 0, 0, 0.3));\n",
              "      fill: #FFFFFF;\n",
              "    }\n",
              "  </style>\n",
              "\n",
              "      <script>\n",
              "        const buttonEl =\n",
              "          document.querySelector('#df-9b0660c6-ad5d-475e-a3cf-c1a86de52be6 button.colab-df-convert');\n",
              "        buttonEl.style.display =\n",
              "          google.colab.kernel.accessAllowed ? 'block' : 'none';\n",
              "\n",
              "        async function convertToInteractive(key) {\n",
              "          const element = document.querySelector('#df-9b0660c6-ad5d-475e-a3cf-c1a86de52be6');\n",
              "          const dataTable =\n",
              "            await google.colab.kernel.invokeFunction('convertToInteractive',\n",
              "                                                     [key], {});\n",
              "          if (!dataTable) return;\n",
              "\n",
              "          const docLinkHtml = 'Like what you see? Visit the ' +\n",
              "            '<a target=\"_blank\" href=https://colab.research.google.com/notebooks/data_table.ipynb>data table notebook</a>'\n",
              "            + ' to learn more about interactive tables.';\n",
              "          element.innerHTML = '';\n",
              "          dataTable['output_type'] = 'display_data';\n",
              "          await google.colab.output.renderOutput(dataTable, element);\n",
              "          const docLink = document.createElement('div');\n",
              "          docLink.innerHTML = docLinkHtml;\n",
              "          element.appendChild(docLink);\n",
              "        }\n",
              "      </script>\n",
              "    </div>\n",
              "  </div>\n",
              "  "
            ],
            "text/plain": [
              "         revenue  employee_count\n",
              "Tokyo       6500             8.0\n",
              "Toronto     8000             NaN"
            ]
          },
          "execution_count": 41,
          "metadata": {},
          "output_type": "execute_result"
        }
      ],
      "source": [
        "city_data.loc[\"Tokyo\": \"Toronto\"]"
      ]
    },
    {
      "cell_type": "code",
      "execution_count": 42,
      "metadata": {
        "colab": {
          "base_uri": "https://localhost:8080/"
        },
        "id": "ia_50uMstn50",
        "outputId": "fe00efb3-d3d3-48fa-db9b-b48477490f5c"
      },
      "outputs": [
        {
          "data": {
            "text/plain": [
              "revenue           6500.0\n",
              "employee_count       8.0\n",
              "Name: Tokyo, dtype: float64"
            ]
          },
          "execution_count": 42,
          "metadata": {},
          "output_type": "execute_result"
        }
      ],
      "source": [
        "city_data.iloc[1]"
      ]
    },
    {
      "cell_type": "markdown",
      "metadata": {
        "id": "siwtoZL6tn50"
      },
      "source": [
        "Each line of code selects a different row from city_data:\n",
        "\n",
        "- `city_data.loc[\"Amsterdam\"]` selects the row with the label index \"Amsterdam\".\n",
        "- `city_data.loc[\"Tokyo\": \"Toronto\"]` selects the rows with label indices from \"Tokyo\" to \"Toronto\". Remember, `.loc` is inclusive.\n",
        "- `city_data.iloc[1]` selects the row with the positional index 1, which is \"Tokyo\".\n",
        "\n"
      ]
    },
    {
      "cell_type": "markdown",
      "metadata": {
        "id": "hPk81Kmitn51"
      },
      "source": [
        "For a DataFrame, the data access methods .loc and .iloc also accept a second parameter. While the first parameter selects rows based on the indices, the second parameter selects the columns. You can use these parameters together to select a subset of rows and columns from your DataFrame:"
      ]
    },
    {
      "cell_type": "code",
      "execution_count": 41,
      "metadata": {
        "colab": {
          "base_uri": "https://localhost:8080/"
        },
        "id": "MbGklfIetn51",
        "outputId": "22386388-accb-446d-bb20-27f0377d467b"
      },
      "outputs": [
        {
          "data": {
            "text/plain": [
              "Amsterdam    4200\n",
              "Tokyo        6500\n",
              "Name: revenue, dtype: int64"
            ]
          },
          "execution_count": 41,
          "metadata": {},
          "output_type": "execute_result"
        }
      ],
      "source": [
        "city_data.loc[\"Amsterdam\": \"Tokyo\", \"revenue\"]"
      ]
    },
    {
      "cell_type": "markdown",
      "metadata": {
        "id": "pXmFceS-tn51"
      },
      "source": [
        "Note that you separate the parameters with a comma `(,)`. The first parameter, `\"Amsterdam\" : \"Tokyo,\"` says to select all rows between those two labels. The second parameter comes after the comma and says to select the `\"revenue\"` column."
      ]
    },
    {
      "cell_type": "code",
      "execution_count": 44,
      "metadata": {
        "colab": {
          "base_uri": "https://localhost:8080/"
        },
        "id": "5jCY7-Matn55",
        "outputId": "93135d6f-808d-49d4-8d75-8ca54913e728"
      },
      "outputs": [
        {
          "data": {
            "text/plain": [
              "18700"
            ]
          },
          "execution_count": 44,
          "metadata": {},
          "output_type": "execute_result"
        }
      ],
      "source": [
        "city_revenues.sum()"
      ]
    },
    {
      "cell_type": "code",
      "execution_count": 45,
      "metadata": {
        "colab": {
          "base_uri": "https://localhost:8080/"
        },
        "id": "RfxYS0ZStn55",
        "outputId": "a19c84b9-02fa-478e-917e-0ae6de4ebe57"
      },
      "outputs": [
        {
          "data": {
            "text/plain": [
              "8000"
            ]
          },
          "execution_count": 45,
          "metadata": {},
          "output_type": "execute_result"
        }
      ],
      "source": [
        "city_revenues.max()"
      ]
    },
    {
      "cell_type": "markdown",
      "metadata": {
        "id": "9WHpzipztn55"
      },
      "source": [
        "The first method returns the total of city_revenues, while the second returns the max value. There are other methods you can use, like `.min()` and `.mean()`."
      ]
    },
    {
      "cell_type": "markdown",
      "metadata": {
        "id": "m2-kfd6I-_7v"
      },
      "source": [
        "## Filter Pandas DataFrame with numpy"
      ]
    },
    {
      "cell_type": "code",
      "execution_count": 44,
      "metadata": {
        "colab": {
          "base_uri": "https://localhost:8080/"
        },
        "id": "1ZcwkJey_Alm",
        "outputId": "52f0d0b0-5b20-436c-a77f-9284e50bd2df"
      },
      "outputs": [
        {
          "name": "stdout",
          "output_type": "stream",
          "text": [
            "DataFrame...\n",
            "       Product  Opening_Stock  Closing_Stock\n",
            "0     SmartTV            300            200\n",
            "1  ChromeCast            700            500\n",
            "2     Speaker           1200           1000\n",
            "3    Earphone           1500            900\n",
            "\n",
            "Filtered DataFrame Value = \n",
            "       Product  Opening_Stock  Closing_Stock\n",
            "1  ChromeCast            700            500\n",
            "3    Earphone           1500            900\n",
            "\n",
            "Filtered DataFrame Value = \n",
            "       Product  Opening_Stock  Closing_Stock\n",
            "1  ChromeCast            700            500\n"
          ]
        }
      ],
      "source": [
        "dataFrame = pd.DataFrame({\"Product\": [\"SmartTV\", \"ChromeCast\", \"Speaker\", \"Earphone\"],\n",
        "                          \"Opening_Stock\": [300, 700, 1200, 1500],\n",
        "                          \"Closing_Stock\": [200, 500, 1000, 900]})\n",
        "\n",
        "print(\"DataFrame...\\n\",dataFrame)\n",
        "\n",
        "# using numpy where() to filter DataFrame with 2 Conditions\n",
        "resValues1 = np.where((dataFrame['Opening_Stock']>=700) & (dataFrame['Closing_Stock']< 1000))\n",
        "\n",
        "print(\"\\nFiltered DataFrame Value = \\n\",dataFrame.loc[resValues1])\n",
        "\n",
        "# using numpy where() to filter DataFrame with 3 conditions\n",
        "resValues2 = np.where((dataFrame['Opening_Stock']>=500) & (dataFrame['Closing_Stock']< 1000) & (dataFrame['Product'].str.startswith('C')))\n",
        "\n",
        "print(\"\\nFiltered DataFrame Value = \\n\",dataFrame.loc[resValues2])"
      ]
    },
    {
      "cell_type": "markdown",
      "metadata": {
        "id": "JhUtjUU5tn6H"
      },
      "source": [
        "## Combining Multiple Datasets\n",
        "\n",
        "In the previous section, you’ve learned how to clean a messy dataset. Another aspect of real-world data is that it often comes in multiple pieces. In this section, you’ll learn how to grab those pieces and combine them into one dataset that’s ready for analysis.\n",
        "\n",
        "Earlier, you combined two Series objects into a DataFrame based on their indices. Now, you’ll take this one step further and use `.concat()` to combine city_data with another DataFrame. Say you’ve managed to gather some data on two more cities:"
      ]
    },
    {
      "cell_type": "code",
      "execution_count": 47,
      "metadata": {
        "id": "9jhW5_ybtn6I"
      },
      "outputs": [],
      "source": [
        "further_city_data = pd.DataFrame(\n",
        "    {\"revenue\": [7000, 3400], \"employee_count\": [2, 2]},\n",
        "    index=[\"New York\", \"Barcelona\"]\n",
        ")"
      ]
    },
    {
      "cell_type": "code",
      "execution_count": 48,
      "metadata": {
        "colab": {
          "base_uri": "https://localhost:8080/",
          "height": 112
        },
        "id": "TRWEe-2Ntn6I",
        "outputId": "68eb7a49-7c35-49b2-e9ce-e650778e0d5b"
      },
      "outputs": [
        {
          "data": {
            "text/html": [
              "<div>\n",
              "<style scoped>\n",
              "    .dataframe tbody tr th:only-of-type {\n",
              "        vertical-align: middle;\n",
              "    }\n",
              "\n",
              "    .dataframe tbody tr th {\n",
              "        vertical-align: top;\n",
              "    }\n",
              "\n",
              "    .dataframe thead th {\n",
              "        text-align: right;\n",
              "    }\n",
              "</style>\n",
              "<table border=\"1\" class=\"dataframe\">\n",
              "  <thead>\n",
              "    <tr style=\"text-align: right;\">\n",
              "      <th></th>\n",
              "      <th>revenue</th>\n",
              "      <th>employee_count</th>\n",
              "    </tr>\n",
              "  </thead>\n",
              "  <tbody>\n",
              "    <tr>\n",
              "      <th>New York</th>\n",
              "      <td>7000</td>\n",
              "      <td>2</td>\n",
              "    </tr>\n",
              "    <tr>\n",
              "      <th>Barcelona</th>\n",
              "      <td>3400</td>\n",
              "      <td>2</td>\n",
              "    </tr>\n",
              "  </tbody>\n",
              "</table>\n",
              "</div>"
            ],
            "text/plain": [
              "           revenue  employee_count\n",
              "New York      7000               2\n",
              "Barcelona     3400               2"
            ]
          },
          "execution_count": 48,
          "metadata": {},
          "output_type": "execute_result"
        }
      ],
      "source": [
        "further_city_data"
      ]
    },
    {
      "cell_type": "code",
      "execution_count": 49,
      "metadata": {
        "colab": {
          "base_uri": "https://localhost:8080/",
          "height": 143
        },
        "id": "lI1VdaS5tn6I",
        "outputId": "6420da99-18cc-4c5c-970d-d8ec517ec261"
      },
      "outputs": [
        {
          "data": {
            "text/html": [
              "<div>\n",
              "<style scoped>\n",
              "    .dataframe tbody tr th:only-of-type {\n",
              "        vertical-align: middle;\n",
              "    }\n",
              "\n",
              "    .dataframe tbody tr th {\n",
              "        vertical-align: top;\n",
              "    }\n",
              "\n",
              "    .dataframe thead th {\n",
              "        text-align: right;\n",
              "    }\n",
              "</style>\n",
              "<table border=\"1\" class=\"dataframe\">\n",
              "  <thead>\n",
              "    <tr style=\"text-align: right;\">\n",
              "      <th></th>\n",
              "      <th>revenue</th>\n",
              "      <th>employee_count</th>\n",
              "    </tr>\n",
              "  </thead>\n",
              "  <tbody>\n",
              "    <tr>\n",
              "      <th>Amsterdam</th>\n",
              "      <td>4200</td>\n",
              "      <td>5.0</td>\n",
              "    </tr>\n",
              "    <tr>\n",
              "      <th>Tokyo</th>\n",
              "      <td>6500</td>\n",
              "      <td>8.0</td>\n",
              "    </tr>\n",
              "    <tr>\n",
              "      <th>Toronto</th>\n",
              "      <td>8000</td>\n",
              "      <td>NaN</td>\n",
              "    </tr>\n",
              "  </tbody>\n",
              "</table>\n",
              "</div>"
            ],
            "text/plain": [
              "           revenue  employee_count\n",
              "Amsterdam     4200             5.0\n",
              "Tokyo         6500             8.0\n",
              "Toronto       8000             NaN"
            ]
          },
          "execution_count": 49,
          "metadata": {},
          "output_type": "execute_result"
        }
      ],
      "source": [
        "city_data"
      ]
    },
    {
      "cell_type": "markdown",
      "metadata": {
        "id": "rPx4qxJctn6I"
      },
      "source": [
        "This second DataFrame contains info on the cities \"New York\" and \"Barcelona\".\n",
        "\n",
        "You can add these cities to city_data using `.concat()`:"
      ]
    },
    {
      "cell_type": "code",
      "execution_count": 56,
      "metadata": {},
      "outputs": [
        {
          "data": {
            "text/html": [
              "<div>\n",
              "<style scoped>\n",
              "    .dataframe tbody tr th:only-of-type {\n",
              "        vertical-align: middle;\n",
              "    }\n",
              "\n",
              "    .dataframe tbody tr th {\n",
              "        vertical-align: top;\n",
              "    }\n",
              "\n",
              "    .dataframe thead th {\n",
              "        text-align: right;\n",
              "    }\n",
              "</style>\n",
              "<table border=\"1\" class=\"dataframe\">\n",
              "  <thead>\n",
              "    <tr style=\"text-align: right;\">\n",
              "      <th></th>\n",
              "      <th>employee_count</th>\n",
              "      <th>revenue</th>\n",
              "    </tr>\n",
              "  </thead>\n",
              "  <tbody>\n",
              "    <tr>\n",
              "      <th>Amsterdam</th>\n",
              "      <td>5.0</td>\n",
              "      <td>4200</td>\n",
              "    </tr>\n",
              "    <tr>\n",
              "      <th>Tokyo</th>\n",
              "      <td>8.0</td>\n",
              "      <td>6500</td>\n",
              "    </tr>\n",
              "    <tr>\n",
              "      <th>Toronto</th>\n",
              "      <td>NaN</td>\n",
              "      <td>8000</td>\n",
              "    </tr>\n",
              "    <tr>\n",
              "      <th>New York</th>\n",
              "      <td>2.0</td>\n",
              "      <td>7000</td>\n",
              "    </tr>\n",
              "    <tr>\n",
              "      <th>Barcelona</th>\n",
              "      <td>2.0</td>\n",
              "      <td>3400</td>\n",
              "    </tr>\n",
              "  </tbody>\n",
              "</table>\n",
              "</div>"
            ],
            "text/plain": [
              "           employee_count  revenue\n",
              "Amsterdam             5.0     4200\n",
              "Tokyo                 8.0     6500\n",
              "Toronto               NaN     8000\n",
              "New York              2.0     7000\n",
              "Barcelona             2.0     3400"
            ]
          },
          "execution_count": 56,
          "metadata": {},
          "output_type": "execute_result"
        }
      ],
      "source": [
        "all_city_data"
      ]
    },
    {
      "cell_type": "code",
      "execution_count": 57,
      "metadata": {
        "id": "PFcjqXGmtn6I"
      },
      "outputs": [],
      "source": [
        "all_city_data = pd.concat([city_data, further_city_data], sort=False)"
      ]
    },
    {
      "cell_type": "code",
      "execution_count": 58,
      "metadata": {
        "colab": {
          "base_uri": "https://localhost:8080/",
          "height": 206
        },
        "id": "sv6EmWENtn6I",
        "outputId": "53097627-9e71-4141-b202-ea72eaa48977"
      },
      "outputs": [
        {
          "data": {
            "text/html": [
              "<div>\n",
              "<style scoped>\n",
              "    .dataframe tbody tr th:only-of-type {\n",
              "        vertical-align: middle;\n",
              "    }\n",
              "\n",
              "    .dataframe tbody tr th {\n",
              "        vertical-align: top;\n",
              "    }\n",
              "\n",
              "    .dataframe thead th {\n",
              "        text-align: right;\n",
              "    }\n",
              "</style>\n",
              "<table border=\"1\" class=\"dataframe\">\n",
              "  <thead>\n",
              "    <tr style=\"text-align: right;\">\n",
              "      <th></th>\n",
              "      <th>revenue</th>\n",
              "      <th>employee_count</th>\n",
              "    </tr>\n",
              "  </thead>\n",
              "  <tbody>\n",
              "    <tr>\n",
              "      <th>Amsterdam</th>\n",
              "      <td>4200</td>\n",
              "      <td>5.0</td>\n",
              "    </tr>\n",
              "    <tr>\n",
              "      <th>Tokyo</th>\n",
              "      <td>6500</td>\n",
              "      <td>8.0</td>\n",
              "    </tr>\n",
              "    <tr>\n",
              "      <th>Toronto</th>\n",
              "      <td>8000</td>\n",
              "      <td>NaN</td>\n",
              "    </tr>\n",
              "    <tr>\n",
              "      <th>New York</th>\n",
              "      <td>7000</td>\n",
              "      <td>2.0</td>\n",
              "    </tr>\n",
              "    <tr>\n",
              "      <th>Barcelona</th>\n",
              "      <td>3400</td>\n",
              "      <td>2.0</td>\n",
              "    </tr>\n",
              "  </tbody>\n",
              "</table>\n",
              "</div>"
            ],
            "text/plain": [
              "           revenue  employee_count\n",
              "Amsterdam     4200             5.0\n",
              "Tokyo         6500             8.0\n",
              "Toronto       8000             NaN\n",
              "New York      7000             2.0\n",
              "Barcelona     3400             2.0"
            ]
          },
          "execution_count": 58,
          "metadata": {},
          "output_type": "execute_result"
        }
      ],
      "source": [
        "all_city_data"
      ]
    },
    {
      "cell_type": "markdown",
      "metadata": {
        "id": "dN3YcNdUtn6I"
      },
      "source": [
        "Now, the new variable `all_city_data` contains the values from both DataFrame objects.\n",
        "\n",
        "By default, `concat()` combines along axis=0. In other words, it appends rows. You can also use it to append columns by supplying the parameter `axis=1`:"
      ]
    },
    {
      "cell_type": "code",
      "execution_count": 59,
      "metadata": {
        "id": "dh0L3Seltn6J"
      },
      "outputs": [],
      "source": [
        "city_countries = pd.DataFrame({\n",
        "    \"country\": [\"Holland\", \"Japan\", \"Holland\", \"Canada\", \"Spain\"],\n",
        "    \"capital\": [1, 1, 0, 0, 0]},\n",
        "    index=[\"Amsterdam\", \"Tokyo\", \"Rotterdam\", \"Toronto\", \"Barcelona\"]\n",
        ")"
      ]
    },
    {
      "cell_type": "code",
      "execution_count": 60,
      "metadata": {
        "colab": {
          "base_uri": "https://localhost:8080/",
          "height": 206
        },
        "id": "jUlLTwSstn6J",
        "outputId": "45446fea-ca4b-4f38-ba43-06057d81e006"
      },
      "outputs": [
        {
          "data": {
            "text/html": [
              "<div>\n",
              "<style scoped>\n",
              "    .dataframe tbody tr th:only-of-type {\n",
              "        vertical-align: middle;\n",
              "    }\n",
              "\n",
              "    .dataframe tbody tr th {\n",
              "        vertical-align: top;\n",
              "    }\n",
              "\n",
              "    .dataframe thead th {\n",
              "        text-align: right;\n",
              "    }\n",
              "</style>\n",
              "<table border=\"1\" class=\"dataframe\">\n",
              "  <thead>\n",
              "    <tr style=\"text-align: right;\">\n",
              "      <th></th>\n",
              "      <th>country</th>\n",
              "      <th>capital</th>\n",
              "    </tr>\n",
              "  </thead>\n",
              "  <tbody>\n",
              "    <tr>\n",
              "      <th>Amsterdam</th>\n",
              "      <td>Holland</td>\n",
              "      <td>1</td>\n",
              "    </tr>\n",
              "    <tr>\n",
              "      <th>Tokyo</th>\n",
              "      <td>Japan</td>\n",
              "      <td>1</td>\n",
              "    </tr>\n",
              "    <tr>\n",
              "      <th>Rotterdam</th>\n",
              "      <td>Holland</td>\n",
              "      <td>0</td>\n",
              "    </tr>\n",
              "    <tr>\n",
              "      <th>Toronto</th>\n",
              "      <td>Canada</td>\n",
              "      <td>0</td>\n",
              "    </tr>\n",
              "    <tr>\n",
              "      <th>Barcelona</th>\n",
              "      <td>Spain</td>\n",
              "      <td>0</td>\n",
              "    </tr>\n",
              "  </tbody>\n",
              "</table>\n",
              "</div>"
            ],
            "text/plain": [
              "           country  capital\n",
              "Amsterdam  Holland        1\n",
              "Tokyo        Japan        1\n",
              "Rotterdam  Holland        0\n",
              "Toronto     Canada        0\n",
              "Barcelona    Spain        0"
            ]
          },
          "execution_count": 60,
          "metadata": {},
          "output_type": "execute_result"
        }
      ],
      "source": [
        "city_countries"
      ]
    },
    {
      "cell_type": "code",
      "execution_count": 61,
      "metadata": {
        "colab": {
          "base_uri": "https://localhost:8080/",
          "height": 206
        },
        "id": "NBRPR1oetn6J",
        "outputId": "5623411a-2af0-413c-a03f-82260a86dc96"
      },
      "outputs": [
        {
          "data": {
            "text/html": [
              "<div>\n",
              "<style scoped>\n",
              "    .dataframe tbody tr th:only-of-type {\n",
              "        vertical-align: middle;\n",
              "    }\n",
              "\n",
              "    .dataframe tbody tr th {\n",
              "        vertical-align: top;\n",
              "    }\n",
              "\n",
              "    .dataframe thead th {\n",
              "        text-align: right;\n",
              "    }\n",
              "</style>\n",
              "<table border=\"1\" class=\"dataframe\">\n",
              "  <thead>\n",
              "    <tr style=\"text-align: right;\">\n",
              "      <th></th>\n",
              "      <th>revenue</th>\n",
              "      <th>employee_count</th>\n",
              "    </tr>\n",
              "  </thead>\n",
              "  <tbody>\n",
              "    <tr>\n",
              "      <th>Amsterdam</th>\n",
              "      <td>4200</td>\n",
              "      <td>5.0</td>\n",
              "    </tr>\n",
              "    <tr>\n",
              "      <th>Tokyo</th>\n",
              "      <td>6500</td>\n",
              "      <td>8.0</td>\n",
              "    </tr>\n",
              "    <tr>\n",
              "      <th>Toronto</th>\n",
              "      <td>8000</td>\n",
              "      <td>NaN</td>\n",
              "    </tr>\n",
              "    <tr>\n",
              "      <th>New York</th>\n",
              "      <td>7000</td>\n",
              "      <td>2.0</td>\n",
              "    </tr>\n",
              "    <tr>\n",
              "      <th>Barcelona</th>\n",
              "      <td>3400</td>\n",
              "      <td>2.0</td>\n",
              "    </tr>\n",
              "  </tbody>\n",
              "</table>\n",
              "</div>"
            ],
            "text/plain": [
              "           revenue  employee_count\n",
              "Amsterdam     4200             5.0\n",
              "Tokyo         6500             8.0\n",
              "Toronto       8000             NaN\n",
              "New York      7000             2.0\n",
              "Barcelona     3400             2.0"
            ]
          },
          "execution_count": 61,
          "metadata": {},
          "output_type": "execute_result"
        }
      ],
      "source": [
        "all_city_data"
      ]
    },
    {
      "cell_type": "code",
      "execution_count": 62,
      "metadata": {
        "id": "qZLBuJ76tn6J"
      },
      "outputs": [],
      "source": [
        "cities = pd.concat([all_city_data, city_countries], axis=1, sort=False)"
      ]
    },
    {
      "cell_type": "code",
      "execution_count": 63,
      "metadata": {
        "colab": {
          "base_uri": "https://localhost:8080/",
          "height": 238
        },
        "id": "56LEyfdxtn6J",
        "outputId": "f78c1ada-f1b2-4b25-8983-8d594f38043b"
      },
      "outputs": [
        {
          "data": {
            "text/html": [
              "<div>\n",
              "<style scoped>\n",
              "    .dataframe tbody tr th:only-of-type {\n",
              "        vertical-align: middle;\n",
              "    }\n",
              "\n",
              "    .dataframe tbody tr th {\n",
              "        vertical-align: top;\n",
              "    }\n",
              "\n",
              "    .dataframe thead th {\n",
              "        text-align: right;\n",
              "    }\n",
              "</style>\n",
              "<table border=\"1\" class=\"dataframe\">\n",
              "  <thead>\n",
              "    <tr style=\"text-align: right;\">\n",
              "      <th></th>\n",
              "      <th>revenue</th>\n",
              "      <th>employee_count</th>\n",
              "      <th>country</th>\n",
              "      <th>capital</th>\n",
              "    </tr>\n",
              "  </thead>\n",
              "  <tbody>\n",
              "    <tr>\n",
              "      <th>Amsterdam</th>\n",
              "      <td>4200.0</td>\n",
              "      <td>5.0</td>\n",
              "      <td>Holland</td>\n",
              "      <td>1.0</td>\n",
              "    </tr>\n",
              "    <tr>\n",
              "      <th>Tokyo</th>\n",
              "      <td>6500.0</td>\n",
              "      <td>8.0</td>\n",
              "      <td>Japan</td>\n",
              "      <td>1.0</td>\n",
              "    </tr>\n",
              "    <tr>\n",
              "      <th>Toronto</th>\n",
              "      <td>8000.0</td>\n",
              "      <td>NaN</td>\n",
              "      <td>Canada</td>\n",
              "      <td>0.0</td>\n",
              "    </tr>\n",
              "    <tr>\n",
              "      <th>New York</th>\n",
              "      <td>7000.0</td>\n",
              "      <td>2.0</td>\n",
              "      <td>NaN</td>\n",
              "      <td>NaN</td>\n",
              "    </tr>\n",
              "    <tr>\n",
              "      <th>Barcelona</th>\n",
              "      <td>3400.0</td>\n",
              "      <td>2.0</td>\n",
              "      <td>Spain</td>\n",
              "      <td>0.0</td>\n",
              "    </tr>\n",
              "    <tr>\n",
              "      <th>Rotterdam</th>\n",
              "      <td>NaN</td>\n",
              "      <td>NaN</td>\n",
              "      <td>Holland</td>\n",
              "      <td>0.0</td>\n",
              "    </tr>\n",
              "  </tbody>\n",
              "</table>\n",
              "</div>"
            ],
            "text/plain": [
              "           revenue  employee_count  country  capital\n",
              "Amsterdam   4200.0             5.0  Holland      1.0\n",
              "Tokyo       6500.0             8.0    Japan      1.0\n",
              "Toronto     8000.0             NaN   Canada      0.0\n",
              "New York    7000.0             2.0      NaN      NaN\n",
              "Barcelona   3400.0             2.0    Spain      0.0\n",
              "Rotterdam      NaN             NaN  Holland      0.0"
            ]
          },
          "execution_count": 63,
          "metadata": {},
          "output_type": "execute_result"
        }
      ],
      "source": [
        "cities"
      ]
    },
    {
      "cell_type": "code",
      "execution_count": 64,
      "metadata": {},
      "outputs": [
        {
          "data": {
            "text/html": [
              "<div>\n",
              "<style scoped>\n",
              "    .dataframe tbody tr th:only-of-type {\n",
              "        vertical-align: middle;\n",
              "    }\n",
              "\n",
              "    .dataframe tbody tr th {\n",
              "        vertical-align: top;\n",
              "    }\n",
              "\n",
              "    .dataframe thead th {\n",
              "        text-align: right;\n",
              "    }\n",
              "</style>\n",
              "<table border=\"1\" class=\"dataframe\">\n",
              "  <thead>\n",
              "    <tr style=\"text-align: right;\">\n",
              "      <th></th>\n",
              "      <th>revenue</th>\n",
              "      <th>employee_count</th>\n",
              "      <th>country</th>\n",
              "      <th>capital</th>\n",
              "    </tr>\n",
              "  </thead>\n",
              "  <tbody>\n",
              "    <tr>\n",
              "      <th>Amsterdam</th>\n",
              "      <td>4200.0</td>\n",
              "      <td>5.0</td>\n",
              "      <td>Holland</td>\n",
              "      <td>1.0</td>\n",
              "    </tr>\n",
              "    <tr>\n",
              "      <th>Barcelona</th>\n",
              "      <td>3400.0</td>\n",
              "      <td>2.0</td>\n",
              "      <td>Spain</td>\n",
              "      <td>0.0</td>\n",
              "    </tr>\n",
              "    <tr>\n",
              "      <th>New York</th>\n",
              "      <td>7000.0</td>\n",
              "      <td>2.0</td>\n",
              "      <td>NaN</td>\n",
              "      <td>NaN</td>\n",
              "    </tr>\n",
              "    <tr>\n",
              "      <th>Rotterdam</th>\n",
              "      <td>NaN</td>\n",
              "      <td>NaN</td>\n",
              "      <td>Holland</td>\n",
              "      <td>0.0</td>\n",
              "    </tr>\n",
              "    <tr>\n",
              "      <th>Tokyo</th>\n",
              "      <td>6500.0</td>\n",
              "      <td>8.0</td>\n",
              "      <td>Japan</td>\n",
              "      <td>1.0</td>\n",
              "    </tr>\n",
              "    <tr>\n",
              "      <th>Toronto</th>\n",
              "      <td>8000.0</td>\n",
              "      <td>NaN</td>\n",
              "      <td>Canada</td>\n",
              "      <td>0.0</td>\n",
              "    </tr>\n",
              "  </tbody>\n",
              "</table>\n",
              "</div>"
            ],
            "text/plain": [
              "           revenue  employee_count  country  capital\n",
              "Amsterdam   4200.0             5.0  Holland      1.0\n",
              "Barcelona   3400.0             2.0    Spain      0.0\n",
              "New York    7000.0             2.0      NaN      NaN\n",
              "Rotterdam      NaN             NaN  Holland      0.0\n",
              "Tokyo       6500.0             8.0    Japan      1.0\n",
              "Toronto     8000.0             NaN   Canada      0.0"
            ]
          },
          "execution_count": 64,
          "metadata": {},
          "output_type": "execute_result"
        }
      ],
      "source": [
        "cities = pd.concat([all_city_data, city_countries], axis=1, sort=True)\n",
        "cities"
      ]
    },
    {
      "cell_type": "markdown",
      "metadata": {
        "id": "GNOJj4nptn6J"
      },
      "source": [
        "Note how Pandas added NaN for the missing values.\n",
        "\n",
        "If you want to combine only the cities that appear in both DataFrame objects, then you can set the join parameter to inner:"
      ]
    },
    {
      "cell_type": "code",
      "execution_count": 66,
      "metadata": {
        "colab": {
          "base_uri": "https://localhost:8080/",
          "height": 175
        },
        "id": "Rg_aX1Hqtn6K",
        "outputId": "df9b2f6b-3027-4d8e-cb8c-d60700eef1fc"
      },
      "outputs": [
        {
          "data": {
            "text/html": [
              "<div>\n",
              "<style scoped>\n",
              "    .dataframe tbody tr th:only-of-type {\n",
              "        vertical-align: middle;\n",
              "    }\n",
              "\n",
              "    .dataframe tbody tr th {\n",
              "        vertical-align: top;\n",
              "    }\n",
              "\n",
              "    .dataframe thead th {\n",
              "        text-align: right;\n",
              "    }\n",
              "</style>\n",
              "<table border=\"1\" class=\"dataframe\">\n",
              "  <thead>\n",
              "    <tr style=\"text-align: right;\">\n",
              "      <th></th>\n",
              "      <th>revenue</th>\n",
              "      <th>employee_count</th>\n",
              "      <th>country</th>\n",
              "      <th>capital</th>\n",
              "    </tr>\n",
              "  </thead>\n",
              "  <tbody>\n",
              "    <tr>\n",
              "      <th>Amsterdam</th>\n",
              "      <td>4200</td>\n",
              "      <td>5.0</td>\n",
              "      <td>Holland</td>\n",
              "      <td>1</td>\n",
              "    </tr>\n",
              "    <tr>\n",
              "      <th>Tokyo</th>\n",
              "      <td>6500</td>\n",
              "      <td>8.0</td>\n",
              "      <td>Japan</td>\n",
              "      <td>1</td>\n",
              "    </tr>\n",
              "    <tr>\n",
              "      <th>Toronto</th>\n",
              "      <td>8000</td>\n",
              "      <td>NaN</td>\n",
              "      <td>Canada</td>\n",
              "      <td>0</td>\n",
              "    </tr>\n",
              "    <tr>\n",
              "      <th>Barcelona</th>\n",
              "      <td>3400</td>\n",
              "      <td>2.0</td>\n",
              "      <td>Spain</td>\n",
              "      <td>0</td>\n",
              "    </tr>\n",
              "  </tbody>\n",
              "</table>\n",
              "</div>"
            ],
            "text/plain": [
              "           revenue  employee_count  country  capital\n",
              "Amsterdam     4200             5.0  Holland        1\n",
              "Tokyo         6500             8.0    Japan        1\n",
              "Toronto       8000             NaN   Canada        0\n",
              "Barcelona     3400             2.0    Spain        0"
            ]
          },
          "execution_count": 66,
          "metadata": {},
          "output_type": "execute_result"
        }
      ],
      "source": [
        "pd.concat([all_city_data, city_countries], axis=1, join=\"inner\")"
      ]
    },
    {
      "cell_type": "markdown",
      "metadata": {
        "id": "t7l_xltttn6K"
      },
      "source": [
        "While it’s most straightforward to combine data based on the index, it’s not the only possibility. You can use `.merge()` to implement a join operation similar to the one from SQL:"
      ]
    },
    {
      "cell_type": "code",
      "execution_count": 67,
      "metadata": {
        "id": "Xl-ACB1ktn6K"
      },
      "outputs": [],
      "source": [
        "countries = pd.DataFrame({\n",
        "    \"population_millions\": [17, 127, 37],\n",
        "    \"continent\": [\"Europe\", \"Asia\", \"North America\"]\n",
        "}, index=[\"Holland\", \"Japan\", \"Canada\"])"
      ]
    },
    {
      "cell_type": "markdown",
      "metadata": {
        "id": "fErXZShEtn6K"
      },
      "source": [
        "Here, you pass the parameter `left_on=\"country\"` to `.merge()` to indicate what column you want to join on. The result is a bigger DataFrame that contains not only city data, but also the population and continent of the respective countries:"
      ]
    },
    {
      "cell_type": "code",
      "execution_count": 68,
      "metadata": {
        "colab": {
          "base_uri": "https://localhost:8080/",
          "height": 143
        },
        "id": "p92eiADZtn6K",
        "outputId": "a95a7ea3-75b3-4853-b105-60c834597f6b"
      },
      "outputs": [
        {
          "data": {
            "text/html": [
              "<div>\n",
              "<style scoped>\n",
              "    .dataframe tbody tr th:only-of-type {\n",
              "        vertical-align: middle;\n",
              "    }\n",
              "\n",
              "    .dataframe tbody tr th {\n",
              "        vertical-align: top;\n",
              "    }\n",
              "\n",
              "    .dataframe thead th {\n",
              "        text-align: right;\n",
              "    }\n",
              "</style>\n",
              "<table border=\"1\" class=\"dataframe\">\n",
              "  <thead>\n",
              "    <tr style=\"text-align: right;\">\n",
              "      <th></th>\n",
              "      <th>population_millions</th>\n",
              "      <th>continent</th>\n",
              "    </tr>\n",
              "  </thead>\n",
              "  <tbody>\n",
              "    <tr>\n",
              "      <th>Holland</th>\n",
              "      <td>17</td>\n",
              "      <td>Europe</td>\n",
              "    </tr>\n",
              "    <tr>\n",
              "      <th>Japan</th>\n",
              "      <td>127</td>\n",
              "      <td>Asia</td>\n",
              "    </tr>\n",
              "    <tr>\n",
              "      <th>Canada</th>\n",
              "      <td>37</td>\n",
              "      <td>North America</td>\n",
              "    </tr>\n",
              "  </tbody>\n",
              "</table>\n",
              "</div>"
            ],
            "text/plain": [
              "         population_millions      continent\n",
              "Holland                   17         Europe\n",
              "Japan                    127           Asia\n",
              "Canada                    37  North America"
            ]
          },
          "execution_count": 68,
          "metadata": {},
          "output_type": "execute_result"
        }
      ],
      "source": [
        "countries"
      ]
    },
    {
      "cell_type": "code",
      "execution_count": 69,
      "metadata": {
        "colab": {
          "base_uri": "https://localhost:8080/",
          "height": 238
        },
        "id": "h6TSgpKbtn6K",
        "outputId": "f2ee89d7-4535-42a0-c67a-cc63f327b4bf"
      },
      "outputs": [
        {
          "data": {
            "text/html": [
              "<div>\n",
              "<style scoped>\n",
              "    .dataframe tbody tr th:only-of-type {\n",
              "        vertical-align: middle;\n",
              "    }\n",
              "\n",
              "    .dataframe tbody tr th {\n",
              "        vertical-align: top;\n",
              "    }\n",
              "\n",
              "    .dataframe thead th {\n",
              "        text-align: right;\n",
              "    }\n",
              "</style>\n",
              "<table border=\"1\" class=\"dataframe\">\n",
              "  <thead>\n",
              "    <tr style=\"text-align: right;\">\n",
              "      <th></th>\n",
              "      <th>revenue</th>\n",
              "      <th>employee_count</th>\n",
              "      <th>country</th>\n",
              "      <th>capital</th>\n",
              "    </tr>\n",
              "  </thead>\n",
              "  <tbody>\n",
              "    <tr>\n",
              "      <th>Amsterdam</th>\n",
              "      <td>4200.0</td>\n",
              "      <td>5.0</td>\n",
              "      <td>Holland</td>\n",
              "      <td>1.0</td>\n",
              "    </tr>\n",
              "    <tr>\n",
              "      <th>Barcelona</th>\n",
              "      <td>3400.0</td>\n",
              "      <td>2.0</td>\n",
              "      <td>Spain</td>\n",
              "      <td>0.0</td>\n",
              "    </tr>\n",
              "    <tr>\n",
              "      <th>New York</th>\n",
              "      <td>7000.0</td>\n",
              "      <td>2.0</td>\n",
              "      <td>NaN</td>\n",
              "      <td>NaN</td>\n",
              "    </tr>\n",
              "    <tr>\n",
              "      <th>Rotterdam</th>\n",
              "      <td>NaN</td>\n",
              "      <td>NaN</td>\n",
              "      <td>Holland</td>\n",
              "      <td>0.0</td>\n",
              "    </tr>\n",
              "    <tr>\n",
              "      <th>Tokyo</th>\n",
              "      <td>6500.0</td>\n",
              "      <td>8.0</td>\n",
              "      <td>Japan</td>\n",
              "      <td>1.0</td>\n",
              "    </tr>\n",
              "    <tr>\n",
              "      <th>Toronto</th>\n",
              "      <td>8000.0</td>\n",
              "      <td>NaN</td>\n",
              "      <td>Canada</td>\n",
              "      <td>0.0</td>\n",
              "    </tr>\n",
              "  </tbody>\n",
              "</table>\n",
              "</div>"
            ],
            "text/plain": [
              "           revenue  employee_count  country  capital\n",
              "Amsterdam   4200.0             5.0  Holland      1.0\n",
              "Barcelona   3400.0             2.0    Spain      0.0\n",
              "New York    7000.0             2.0      NaN      NaN\n",
              "Rotterdam      NaN             NaN  Holland      0.0\n",
              "Tokyo       6500.0             8.0    Japan      1.0\n",
              "Toronto     8000.0             NaN   Canada      0.0"
            ]
          },
          "execution_count": 69,
          "metadata": {},
          "output_type": "execute_result"
        }
      ],
      "source": [
        "cities"
      ]
    },
    {
      "cell_type": "code",
      "execution_count": 78,
      "metadata": {
        "colab": {
          "base_uri": "https://localhost:8080/",
          "height": 256
        },
        "id": "E2etmKDttn6L",
        "outputId": "95bedf0a-6ddb-457d-e400-2042b7791ca1"
      },
      "outputs": [
        {
          "data": {
            "text/html": [
              "<div>\n",
              "<style scoped>\n",
              "    .dataframe tbody tr th:only-of-type {\n",
              "        vertical-align: middle;\n",
              "    }\n",
              "\n",
              "    .dataframe tbody tr th {\n",
              "        vertical-align: top;\n",
              "    }\n",
              "\n",
              "    .dataframe thead th {\n",
              "        text-align: right;\n",
              "    }\n",
              "</style>\n",
              "<table border=\"1\" class=\"dataframe\">\n",
              "  <thead>\n",
              "    <tr style=\"text-align: right;\">\n",
              "      <th></th>\n",
              "      <th>revenue</th>\n",
              "      <th>employee_count</th>\n",
              "      <th>country</th>\n",
              "      <th>capital</th>\n",
              "      <th>population_millions</th>\n",
              "      <th>continent</th>\n",
              "    </tr>\n",
              "  </thead>\n",
              "  <tbody>\n",
              "    <tr>\n",
              "      <th>Amsterdam</th>\n",
              "      <td>4200.0</td>\n",
              "      <td>5.0</td>\n",
              "      <td>Holland</td>\n",
              "      <td>1.0</td>\n",
              "      <td>17</td>\n",
              "      <td>Europe</td>\n",
              "    </tr>\n",
              "    <tr>\n",
              "      <th>Rotterdam</th>\n",
              "      <td>NaN</td>\n",
              "      <td>NaN</td>\n",
              "      <td>Holland</td>\n",
              "      <td>0.0</td>\n",
              "      <td>17</td>\n",
              "      <td>Europe</td>\n",
              "    </tr>\n",
              "    <tr>\n",
              "      <th>Tokyo</th>\n",
              "      <td>6500.0</td>\n",
              "      <td>8.0</td>\n",
              "      <td>Japan</td>\n",
              "      <td>1.0</td>\n",
              "      <td>127</td>\n",
              "      <td>Asia</td>\n",
              "    </tr>\n",
              "    <tr>\n",
              "      <th>Toronto</th>\n",
              "      <td>8000.0</td>\n",
              "      <td>NaN</td>\n",
              "      <td>Canada</td>\n",
              "      <td>0.0</td>\n",
              "      <td>37</td>\n",
              "      <td>North America</td>\n",
              "    </tr>\n",
              "  </tbody>\n",
              "</table>\n",
              "</div>"
            ],
            "text/plain": [
              "           revenue  employee_count  country  capital  population_millions  \\\n",
              "Amsterdam   4200.0             5.0  Holland      1.0                   17   \n",
              "Rotterdam      NaN             NaN  Holland      0.0                   17   \n",
              "Tokyo       6500.0             8.0    Japan      1.0                  127   \n",
              "Toronto     8000.0             NaN   Canada      0.0                   37   \n",
              "\n",
              "               continent  \n",
              "Amsterdam         Europe  \n",
              "Rotterdam         Europe  \n",
              "Tokyo               Asia  \n",
              "Toronto    North America  "
            ]
          },
          "execution_count": 78,
          "metadata": {},
          "output_type": "execute_result"
        }
      ],
      "source": [
        "pd.merge(cities, countries, left_on=\"country\", right_index=True)"
      ]
    },
    {
      "cell_type": "markdown",
      "metadata": {
        "id": "r6TYVkzFtn6L"
      },
      "source": [
        "Note that the result contains only the cities where the country is known and appears in the joined DataFrame.\n",
        "\n",
        "`.merge()` performs an inner join by default. If you want to include all cities in the result, then you need to provide the how parameter:"
      ]
    },
    {
      "cell_type": "code",
      "execution_count": 71,
      "metadata": {
        "colab": {
          "base_uri": "https://localhost:8080/",
          "height": 319
        },
        "id": "KT489rS0tn6L",
        "outputId": "6fedca97-4b02-4f62-af6b-ee34bcdbdd84"
      },
      "outputs": [
        {
          "data": {
            "text/html": [
              "<div>\n",
              "<style scoped>\n",
              "    .dataframe tbody tr th:only-of-type {\n",
              "        vertical-align: middle;\n",
              "    }\n",
              "\n",
              "    .dataframe tbody tr th {\n",
              "        vertical-align: top;\n",
              "    }\n",
              "\n",
              "    .dataframe thead th {\n",
              "        text-align: right;\n",
              "    }\n",
              "</style>\n",
              "<table border=\"1\" class=\"dataframe\">\n",
              "  <thead>\n",
              "    <tr style=\"text-align: right;\">\n",
              "      <th></th>\n",
              "      <th>revenue</th>\n",
              "      <th>employee_count</th>\n",
              "      <th>country</th>\n",
              "      <th>capital</th>\n",
              "      <th>population_millions</th>\n",
              "      <th>continent</th>\n",
              "    </tr>\n",
              "  </thead>\n",
              "  <tbody>\n",
              "    <tr>\n",
              "      <th>Amsterdam</th>\n",
              "      <td>4200.0</td>\n",
              "      <td>5.0</td>\n",
              "      <td>Holland</td>\n",
              "      <td>1.0</td>\n",
              "      <td>17.0</td>\n",
              "      <td>Europe</td>\n",
              "    </tr>\n",
              "    <tr>\n",
              "      <th>Barcelona</th>\n",
              "      <td>3400.0</td>\n",
              "      <td>2.0</td>\n",
              "      <td>Spain</td>\n",
              "      <td>0.0</td>\n",
              "      <td>NaN</td>\n",
              "      <td>NaN</td>\n",
              "    </tr>\n",
              "    <tr>\n",
              "      <th>New York</th>\n",
              "      <td>7000.0</td>\n",
              "      <td>2.0</td>\n",
              "      <td>NaN</td>\n",
              "      <td>NaN</td>\n",
              "      <td>NaN</td>\n",
              "      <td>NaN</td>\n",
              "    </tr>\n",
              "    <tr>\n",
              "      <th>Rotterdam</th>\n",
              "      <td>NaN</td>\n",
              "      <td>NaN</td>\n",
              "      <td>Holland</td>\n",
              "      <td>0.0</td>\n",
              "      <td>17.0</td>\n",
              "      <td>Europe</td>\n",
              "    </tr>\n",
              "    <tr>\n",
              "      <th>Tokyo</th>\n",
              "      <td>6500.0</td>\n",
              "      <td>8.0</td>\n",
              "      <td>Japan</td>\n",
              "      <td>1.0</td>\n",
              "      <td>127.0</td>\n",
              "      <td>Asia</td>\n",
              "    </tr>\n",
              "    <tr>\n",
              "      <th>Toronto</th>\n",
              "      <td>8000.0</td>\n",
              "      <td>NaN</td>\n",
              "      <td>Canada</td>\n",
              "      <td>0.0</td>\n",
              "      <td>37.0</td>\n",
              "      <td>North America</td>\n",
              "    </tr>\n",
              "  </tbody>\n",
              "</table>\n",
              "</div>"
            ],
            "text/plain": [
              "           revenue  employee_count  country  capital  population_millions  \\\n",
              "Amsterdam   4200.0             5.0  Holland      1.0                 17.0   \n",
              "Barcelona   3400.0             2.0    Spain      0.0                  NaN   \n",
              "New York    7000.0             2.0      NaN      NaN                  NaN   \n",
              "Rotterdam      NaN             NaN  Holland      0.0                 17.0   \n",
              "Tokyo       6500.0             8.0    Japan      1.0                127.0   \n",
              "Toronto     8000.0             NaN   Canada      0.0                 37.0   \n",
              "\n",
              "               continent  \n",
              "Amsterdam         Europe  \n",
              "Barcelona            NaN  \n",
              "New York             NaN  \n",
              "Rotterdam         Europe  \n",
              "Tokyo               Asia  \n",
              "Toronto    North America  "
            ]
          },
          "execution_count": 71,
          "metadata": {},
          "output_type": "execute_result"
        }
      ],
      "source": [
        "pd.merge(\n",
        "    cities,\n",
        "    countries,\n",
        "    left_on=\"country\",\n",
        "    right_index=True,\n",
        "    how=\"left\"\n",
        ")"
      ]
    },
    {
      "cell_type": "markdown",
      "metadata": {
        "id": "J55fWejItn6L"
      },
      "source": [
        "With this left join, you’ll see all the cities, including those without country data."
      ]
    }
  ],
  "metadata": {
    "colab": {
      "collapsed_sections": [
        "fxzyarENtn5F",
        "ggAwqSb7tn5G",
        "6nGVYOF6tn5i",
        "m2-kfd6I-_7v"
      ],
      "name": "revisi_d4am.ipynb",
      "provenance": []
    },
    "kernelspec": {
      "display_name": "Python 3",
      "language": "python",
      "name": "python3"
    },
    "language_info": {
      "codemirror_mode": {
        "name": "ipython",
        "version": 3
      },
      "file_extension": ".py",
      "mimetype": "text/x-python",
      "name": "python",
      "nbconvert_exporter": "python",
      "pygments_lexer": "ipython3",
      "version": "3.8.5"
    },
    "toc": {
      "base_numbering": 1,
      "nav_menu": {},
      "number_sections": true,
      "sideBar": true,
      "skip_h1_title": false,
      "title_cell": "Table of Contents",
      "title_sidebar": "Contents",
      "toc_cell": false,
      "toc_position": {},
      "toc_section_display": true,
      "toc_window_display": false
    }
  },
  "nbformat": 4,
  "nbformat_minor": 0
}
