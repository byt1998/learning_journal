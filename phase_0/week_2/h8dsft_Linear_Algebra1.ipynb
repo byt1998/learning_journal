{
 "cells": [
  {
   "cell_type": "code",
   "execution_count": 1,
   "metadata": {},
   "outputs": [],
   "source": [
    "import numpy as np\n",
    "import matplotlib.pyplot as plt"
   ]
  },
  {
   "cell_type": "code",
   "execution_count": 7,
   "metadata": {},
   "outputs": [
    {
     "name": "stdout",
     "output_type": "stream",
     "text": [
      "Penjumlahan vector A + B= [27 42 30]\n",
      "\n",
      "Pengurangan vector B - C= [5 8 2]\n",
      "\n",
      " Perkalian dot product vector A @ B= 819\n",
      "\n",
      "Perkalian vector A x B= [170 440 209]\n",
      "\n",
      "Linear Algebra vector np.linalg.norm(A)= 33.67491648096547\n"
     ]
    }
   ],
   "source": [
    "A = np.array([17, 22, 19])\n",
    "B = np.array([10, 20, 11])\n",
    "C = np.array([5, 12, 9])\n",
    "\n",
    "print(\"Penjumlahan vector A + B=\", A+B)\n",
    "print(\"\\nPengurangan vector B - C=\", B-C)\n",
    "print(\"\\n Perkalian dot product vector A @ B=\", A@B)\n",
    "print(\"\\nPerkalian vector A x B=\", A*B)\n",
    "print(\"\\nLinear Algebra vector np.linalg.norm(A)=\", np.linalg.norm(A))\n"
   ]
  },
  {
   "cell_type": "code",
   "execution_count": 9,
   "metadata": {},
   "outputs": [],
   "source": [
    "import matplotlib.pyplot as plt\n",
    "\n",
    "def plot_vector2d(vector2d, origin=[0, 0], **options):\n",
    "    return plt.arrow(origin[0], origin[1], vector2d[0], vector2d[1],\n",
    "              head_width=0.2, head_length=0.3, length_includes_head=True,\n",
    "              **options)"
   ]
  },
  {
   "cell_type": "code",
   "execution_count": 10,
   "metadata": {},
   "outputs": [
    {
     "data": {
      "image/png": "[encoded data removed]",
      "text/plain": [
       "<Figure size 432x288 with 1 Axes>"
      ]
     },
     "metadata": {
      "needs_background": "light"
     },
     "output_type": "display_data"
    }
   ],
   "source": [
    "plot_vector2d(A, color='r')\n",
    "plot_vector2d(B, color='g')\n",
    "plt.axis([0,25,0,25]) # rentang axis sumbu x dan y\n",
    "plt.axvline(0)\n",
    "plt.axhline(0)\n",
    "plt.grid()\n",
    "plt.show()"
   ]
  },
  {
   "cell_type": "code",
   "execution_count": 12,
   "metadata": {},
   "outputs": [
    {
     "name": "stdout",
     "output_type": "stream",
     "text": [
      "cos theta = 0.9759590023331435\n"
     ]
    }
   ],
   "source": [
    "cos_theta = A @ B/ (np.linalg.norm(A) * np.linalg.norm(B))\n",
    "print(\"cos theta =\", cos_theta)"
   ]
  },
  {
   "cell_type": "code",
   "execution_count": 14,
   "metadata": {},
   "outputs": [
    {
     "data": {
      "text/plain": [
       "0.21971776576153962"
      ]
     },
     "execution_count": 14,
     "metadata": {},
     "output_type": "execute_result"
    }
   ],
   "source": [
    "radian = np.arccos(cos_theta)\n",
    "radian"
   ]
  },
  {
   "cell_type": "code",
   "execution_count": 15,
   "metadata": {},
   "outputs": [
    {
     "data": {
      "text/plain": [
       "12.588900662180242"
      ]
     },
     "execution_count": 15,
     "metadata": {},
     "output_type": "execute_result"
    }
   ],
   "source": [
    "degree = np.degrees(radian)\n",
    "degree"
   ]
  },
  {
   "cell_type": "code",
   "execution_count": null,
   "metadata": {},
   "outputs": [],
   "source": []
  }
 ],
 "metadata": {
  "interpreter": {
   "hash": "747336235d6fa51a5aec62dabc37dbed4a219e89925a929a250b1ebbc395e57e"
  },
  "kernelspec": {
   "display_name": "Python 3.8.5 ('base')",
   "language": "python",
   "name": "python3"
  },
  "language_info": {
   "codemirror_mode": {
    "name": "ipython",
    "version": 3
   },
   "file_extension": ".py",
   "mimetype": "text/x-python",
   "name": "python",
   "nbconvert_exporter": "python",
   "pygments_lexer": "ipython3",
   "version": "3.8.5"
  },
  "orig_nbformat": 4
 },
 "nbformat": 4,
 "nbformat_minor": 2
}
